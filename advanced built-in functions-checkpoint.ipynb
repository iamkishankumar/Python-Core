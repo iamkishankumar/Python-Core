{
 "cells": [
  {
   "cell_type": "raw",
   "id": "83533af5",
   "metadata": {},
   "source": [
    "Advanced builtin functions :\n",
    "    -zip \n",
    "    -enumerate \n",
    "    -map\n",
    "    -reduce\n",
    "    -filter\n",
    "    -generator \n",
    "    -iterator\n",
    "    -next\n",
    "    -sorted\n",
    "    -eval"
   ]
  },
  {
   "cell_type": "markdown",
   "id": "3e702e1d",
   "metadata": {},
   "source": [
    "# zip function"
   ]
  },
  {
   "cell_type": "code",
   "execution_count": 7,
   "id": "24b07b6a",
   "metadata": {},
   "outputs": [
    {
     "name": "stdout",
     "output_type": "stream",
     "text": [
      "[('user1', 'Rohit'), ('user2', 'Rohan'), ('user3', 'Mohan')]\n",
      "user1 Rohit\n",
      "user2 Rohan\n",
      "user3 Mohan\n",
      "{'user1': 'Rohit', 'user2': 'Rohan', 'user3': 'Mohan'}\n"
     ]
    }
   ],
   "source": [
    "l1 = [\"user1\",\"user2\",\"user3\"]\n",
    "l2 = [\"Rohit\",\"Rohan\",\"Mohan\"]\n",
    "zip(l1,l2)\n",
    "l = list(zip(l1,l2))\n",
    "print(l)\n",
    "\n",
    "for i,j in l:\n",
    "    print(i,j)\n",
    "\n",
    "d = dict(zip(l1,l2))\n",
    "print(d)"
   ]
  },
  {
   "cell_type": "code",
   "execution_count": null,
   "id": "47346fa9",
   "metadata": {},
   "outputs": [],
   "source": []
  },
  {
   "cell_type": "markdown",
   "id": "2596a0b3",
   "metadata": {},
   "source": [
    "# "
   ]
  },
  {
   "cell_type": "markdown",
   "id": "3e47bc3e",
   "metadata": {},
   "source": [
    "# Enumerator Function"
   ]
  },
  {
   "cell_type": "code",
   "execution_count": 13,
   "id": "6c324ee3",
   "metadata": {},
   "outputs": [
    {
     "data": {
      "text/plain": [
       "2"
      ]
     },
     "execution_count": 13,
     "metadata": {},
     "output_type": "execute_result"
    }
   ],
   "source": [
    "# without enumerator()\n",
    "l1 = [\"rohit\",\"vikas\",\"raja\"]\n",
    "# # pos = 0\n",
    "# # for name in l1:\n",
    "# #     print(f\"{pos}-->{name}\")\n",
    "# #     pos += 1\n",
    "    \n",
    "# # with enumerate ()\n",
    "# for pos,name in enumerate(l1):\n",
    "#     print(f\"{pos}  {name}\")\n",
    "    \n",
    "# Q1 Define a function that take two arguments:\n",
    "#     1. list containing names in str\n",
    "#     2. string that want to find in your list\n",
    "#     and this function will return index position of str which is we want to find \n",
    "#     and string is not present in list then return -1\n",
    "\n",
    "# Ans:- \n",
    "l1 = [\"rohit\",\"vikas\",\"raja\"]\n",
    "def find_pos(l,target):\n",
    "    for pos,name in enumerate(l):\n",
    "        if name==target:\n",
    "            return pos\n",
    "    return -1\n",
    "find_pos(l1,\"raja\")"
   ]
  },
  {
   "cell_type": "code",
   "execution_count": null,
   "id": "e8df0325",
   "metadata": {},
   "outputs": [],
   "source": []
  },
  {
   "cell_type": "markdown",
   "id": "2c4f56d4",
   "metadata": {},
   "source": [
    "# "
   ]
  },
  {
   "cell_type": "markdown",
   "id": "2a3384e8",
   "metadata": {},
   "source": [
    "# Map Function "
   ]
  },
  {
   "cell_type": "code",
   "execution_count": 27,
   "id": "a33ec965",
   "metadata": {},
   "outputs": [
    {
     "name": "stdout",
     "output_type": "stream",
     "text": [
      "<map object at 0x00000163D5450D30>\n",
      "[6, 5, 4, 10, 5]\n"
     ]
    }
   ],
   "source": [
    "string = \"kishan\",\"vivek\",\"raju\",\"vivekanand\",\"rohan\"\n",
    "# we have to find the length of all names which is present in string variable\n",
    "print(map(len,string))\n",
    "length = list(map(len,string))\n",
    "print(length)"
   ]
  },
  {
   "cell_type": "code",
   "execution_count": 28,
   "id": "35779194",
   "metadata": {},
   "outputs": [
    {
     "name": "stdout",
     "output_type": "stream",
     "text": [
      "('kishan', 'vivek', 'raju', 'vivekanand', 'rohan')\n",
      "[6, 5, 4, 10, 5]\n"
     ]
    }
   ],
   "source": [
    "print(string)\n",
    "print(length)"
   ]
  },
  {
   "cell_type": "code",
   "execution_count": 29,
   "id": "ea305322",
   "metadata": {},
   "outputs": [
    {
     "name": "stdout",
     "output_type": "stream",
     "text": [
      "kishan  6\n",
      "vivek  5\n",
      "raju  4\n",
      "vivekanand  10\n",
      "rohan  5\n"
     ]
    }
   ],
   "source": [
    "a = zip(string,length)\n",
    "for i,j in a:\n",
    "    print(f\"{i}  {j}\")"
   ]
  },
  {
   "cell_type": "code",
   "execution_count": null,
   "id": "c30d974b",
   "metadata": {},
   "outputs": [],
   "source": []
  }
 ],
 "metadata": {
  "kernelspec": {
   "display_name": "Python 3 (ipykernel)",
   "language": "python",
   "name": "python3"
  },
  "language_info": {
   "codemirror_mode": {
    "name": "ipython",
    "version": 3
   },
   "file_extension": ".py",
   "mimetype": "text/x-python",
   "name": "python",
   "nbconvert_exporter": "python",
   "pygments_lexer": "ipython3",
   "version": "3.10.2"
  }
 },
 "nbformat": 4,
 "nbformat_minor": 5
}
