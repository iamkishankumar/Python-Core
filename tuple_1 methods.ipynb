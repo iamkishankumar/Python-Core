{
 "cells": [
  {
   "cell_type": "code",
   "execution_count": 2,
   "id": "82e1800a",
   "metadata": {},
   "outputs": [],
   "source": [
    "t1 = (1,2,4,5,3,4,6,4,2,3,4,5,\"aman\",\"singh\",\"rohit\",\"raj\")"
   ]
  },
  {
   "cell_type": "markdown",
   "id": "f6fa605c",
   "metadata": {},
   "source": [
    "# Tuple have only two methods"
   ]
  },
  {
   "cell_type": "markdown",
   "id": "d5c1d326",
   "metadata": {},
   "source": [
    "# tuple.count()"
   ]
  },
  {
   "cell_type": "code",
   "execution_count": 5,
   "id": "4e297d39",
   "metadata": {},
   "outputs": [
    {
     "data": {
      "text/plain": [
       "2"
      ]
     },
     "execution_count": 5,
     "metadata": {},
     "output_type": "execute_result"
    }
   ],
   "source": [
    "t1.count(3)"
   ]
  },
  {
   "cell_type": "markdown",
   "id": "2e14d188",
   "metadata": {},
   "source": [
    "it means count method count a value form a particular tuple"
   ]
  },
  {
   "cell_type": "markdown",
   "id": "6417e925",
   "metadata": {},
   "source": [
    "#"
   ]
  },
  {
   "cell_type": "markdown",
   "id": "31e3525b",
   "metadata": {},
   "source": [
    "# tuple.index()"
   ]
  },
  {
   "cell_type": "code",
   "execution_count": 6,
   "id": "94b95683",
   "metadata": {},
   "outputs": [
    {
     "data": {
      "text/plain": [
       "12"
      ]
     },
     "execution_count": 6,
     "metadata": {},
     "output_type": "execute_result"
    }
   ],
   "source": [
    "t1.index(\"aman\")"
   ]
  },
  {
   "cell_type": "markdown",
   "id": "3ac247f5",
   "metadata": {},
   "source": [
    "it means index method return index position from a particular tuple of a value."
   ]
  },
  {
   "cell_type": "markdown",
   "id": "875dbd58",
   "metadata": {},
   "source": [
    "# Thanks For Watching Tuple Methods"
   ]
  },
  {
   "cell_type": "code",
   "execution_count": null,
   "id": "a4e7c7e9",
   "metadata": {},
   "outputs": [],
   "source": []
  }
 ],
 "metadata": {
  "kernelspec": {
   "display_name": "Python 3 (ipykernel)",
   "language": "python",
   "name": "python3"
  },
  "language_info": {
   "codemirror_mode": {
    "name": "ipython",
    "version": 3
   },
   "file_extension": ".py",
   "mimetype": "text/x-python",
   "name": "python",
   "nbconvert_exporter": "python",
   "pygments_lexer": "ipython3",
   "version": "3.10.2"
  }
 },
 "nbformat": 4,
 "nbformat_minor": 5
}
