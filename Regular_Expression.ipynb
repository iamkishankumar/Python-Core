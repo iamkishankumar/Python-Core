{
 "cells": [
  {
   "cell_type": "markdown",
   "id": "f998423e",
   "metadata": {},
   "source": [
    "# Match Function"
   ]
  },
  {
   "cell_type": "code",
   "execution_count": 11,
   "id": "18b2e7c5",
   "metadata": {},
   "outputs": [
    {
     "name": "stdout",
     "output_type": "stream",
     "text": [
      "<re.Match object; span=(0, 4), match='abcd'>\n"
     ]
    }
   ],
   "source": [
    "# Import re module first\n",
    "\n",
    "import re\n",
    "\n",
    "pattern = r\"^abcd\"\n",
    "mystring = \"abcdef\"\n",
    "\n",
    "x = re.match(pattern,mystring)\n",
    "print(x)"
   ]
  },
  {
   "cell_type": "markdown",
   "id": "96bae1fa",
   "metadata": {},
   "source": [
    "# Search Function"
   ]
  },
  {
   "cell_type": "code",
   "execution_count": 14,
   "id": "48007a58",
   "metadata": {},
   "outputs": [
    {
     "name": "stdout",
     "output_type": "stream",
     "text": [
      "The first whitespace :  2\n"
     ]
    }
   ],
   "source": [
    "# import re module first\n",
    "\n",
    "import re\n",
    "\n",
    "txt = \"We are learning python\"\n",
    "x = re.search(\"\\s\",txt) # This expression is written for searching whitespace\n",
    "print(\"The first whitespace : \",x.start())\n"
   ]
  },
  {
   "cell_type": "code",
   "execution_count": 15,
   "id": "2995d807",
   "metadata": {},
   "outputs": [
    {
     "name": "stdout",
     "output_type": "stream",
     "text": [
      "None\n"
     ]
    }
   ],
   "source": [
    "import re\n",
    "\n",
    "txt = \"The rain in Gujarat\"\n",
    "x = re.search(\"Ahmedabad\",txt)\n",
    "print(x)"
   ]
  }
 ],
 "metadata": {
  "kernelspec": {
   "display_name": "Python 3",
   "language": "python",
   "name": "python3"
  },
  "language_info": {
   "codemirror_mode": {
    "name": "ipython",
    "version": 3
   },
   "file_extension": ".py",
   "mimetype": "text/x-python",
   "name": "python",
   "nbconvert_exporter": "python",
   "pygments_lexer": "ipython3",
   "version": "3.9.5"
  }
 },
 "nbformat": 4,
 "nbformat_minor": 5
}
