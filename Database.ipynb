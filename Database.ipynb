{
 "cells": [
  {
   "cell_type": "markdown",
   "id": "7604dccc",
   "metadata": {},
   "source": [
    "# Import pymysql API"
   ]
  },
  {
   "cell_type": "code",
   "execution_count": 1,
   "id": "046f3b24",
   "metadata": {},
   "outputs": [],
   "source": [
    "import pymysql"
   ]
  },
  {
   "cell_type": "markdown",
   "id": "cfe3b8be",
   "metadata": {},
   "source": [
    "# Creating Connection with Database"
   ]
  },
  {
   "cell_type": "code",
   "execution_count": null,
   "id": "38c79ecf",
   "metadata": {},
   "outputs": [],
   "source": [
    "def CreateConn():\n",
    "    return pymysql.connect(host=\"localhost\",database=\"learnvern\",user=\"root\",\n",
    "                           password=\"\",port=3306)"
   ]
  }
 ],
 "metadata": {
  "kernelspec": {
   "display_name": "Python 3",
   "language": "python",
   "name": "python3"
  },
  "language_info": {
   "codemirror_mode": {
    "name": "ipython",
    "version": 3
   },
   "file_extension": ".py",
   "mimetype": "text/x-python",
   "name": "python",
   "nbconvert_exporter": "python",
   "pygments_lexer": "ipython3",
   "version": "3.9.5"
  }
 },
 "nbformat": 4,
 "nbformat_minor": 5
}
