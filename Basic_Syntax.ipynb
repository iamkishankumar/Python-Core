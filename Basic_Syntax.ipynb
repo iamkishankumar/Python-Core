{
 "cells": [
  {
   "cell_type": "markdown",
   "id": "cf62e803",
   "metadata": {},
   "source": [
    "# Basic Function"
   ]
  },
  {
   "cell_type": "code",
   "execution_count": 3,
   "id": "fdc6069d",
   "metadata": {},
   "outputs": [
    {
     "name": "stdout",
     "output_type": "stream",
     "text": [
      "Hello World\n",
      "123\n"
     ]
    }
   ],
   "source": [
    "# Using print()\n",
    "\n",
    "print(\"Hello World\")\n",
    "\n",
    "\n",
    "print(123)"
   ]
  },
  {
   "cell_type": "code",
   "execution_count": 7,
   "id": "c4d0d0c2",
   "metadata": {},
   "outputs": [
    {
     "name": "stdout",
     "output_type": "stream",
     "text": [
      "<class 'int'>\n",
      "<class 'str'>\n",
      "<class 'float'>\n"
     ]
    }
   ],
   "source": [
    "# Using Type()\n",
    "\n",
    "a = 10\n",
    "print(type(a))\n",
    "\n",
    "b = \"Python\"\n",
    "print(type(b))\n",
    "\n",
    "c = 10.5\n",
    "print(type(c))"
   ]
  },
  {
   "cell_type": "code",
   "execution_count": 11,
   "id": "820c1bac",
   "metadata": {},
   "outputs": [
    {
     "name": "stdout",
     "output_type": "stream",
     "text": [
      "Enter the value of A :10\n",
      "A :  10\n"
     ]
    }
   ],
   "source": [
    "# Using input()\n",
    "\n",
    "a = input(\"Enter the value of A :\")\n",
    "print(\"A : \",a)"
   ]
  },
  {
   "cell_type": "markdown",
   "id": "1d7bdbae",
   "metadata": {},
   "source": [
    "# Mutli-Line Comments"
   ]
  },
  {
   "cell_type": "code",
   "execution_count": null,
   "id": "afe41fec",
   "metadata": {},
   "outputs": [],
   "source": [
    "# Write a program to print\n",
    "# mutliples values with variable\n",
    "\n",
    "\n",
    "# To apply multilines comments use this shortcut keys == ctrl+ question marks"
   ]
  }
 ],
 "metadata": {
  "kernelspec": {
   "display_name": "Python 3",
   "language": "python",
   "name": "python3"
  },
  "language_info": {
   "codemirror_mode": {
    "name": "ipython",
    "version": 3
   },
   "file_extension": ".py",
   "mimetype": "text/x-python",
   "name": "python",
   "nbconvert_exporter": "python",
   "pygments_lexer": "ipython3",
   "version": "3.9.5"
  }
 },
 "nbformat": 4,
 "nbformat_minor": 5
}
