{
 "cells": [
  {
   "cell_type": "markdown",
   "id": "1d09dccd",
   "metadata": {},
   "source": [
    "# Import Math "
   ]
  },
  {
   "cell_type": "code",
   "execution_count": 1,
   "id": "7cada250",
   "metadata": {},
   "outputs": [],
   "source": [
    "# import math\n",
    "\n",
    "# from math import function name"
   ]
  },
  {
   "cell_type": "markdown",
   "id": "9874b5dd",
   "metadata": {},
   "source": [
    "# Factorial()"
   ]
  },
  {
   "cell_type": "code",
   "execution_count": 6,
   "id": "1bd6bb94",
   "metadata": {},
   "outputs": [
    {
     "name": "stdout",
     "output_type": "stream",
     "text": [
      "362880\n",
      "720\n",
      "479001600\n"
     ]
    }
   ],
   "source": [
    "import math\n",
    "\n",
    "print(math.factorial(9))\n",
    "print(math.factorial(6))\n",
    "print(math.factorial(12))"
   ]
  },
  {
   "cell_type": "markdown",
   "id": "db8e34f9",
   "metadata": {},
   "source": [
    "# Ceil()"
   ]
  },
  {
   "cell_type": "code",
   "execution_count": 10,
   "id": "733dcb0e",
   "metadata": {},
   "outputs": [
    {
     "name": "stdout",
     "output_type": "stream",
     "text": [
      "2\n",
      "6\n",
      "-5\n"
     ]
    }
   ],
   "source": [
    "import math\n",
    "\n",
    "print(math.ceil(1.4))\n",
    "print(math.ceil(5.3))\n",
    "print(math.ceil(-5.3))"
   ]
  },
  {
   "cell_type": "markdown",
   "id": "6b028272",
   "metadata": {},
   "source": [
    "# floor()"
   ]
  },
  {
   "cell_type": "code",
   "execution_count": 13,
   "id": "8f751c76",
   "metadata": {},
   "outputs": [
    {
     "name": "stdout",
     "output_type": "stream",
     "text": [
      "0\n",
      "1\n"
     ]
    }
   ],
   "source": [
    "import math\n",
    "\n",
    "print(math.floor(0.6))\n",
    "print(math.floor(1.4))"
   ]
  },
  {
   "cell_type": "markdown",
   "id": "1a68c390",
   "metadata": {},
   "source": [
    "# sqrt()"
   ]
  },
  {
   "cell_type": "code",
   "execution_count": 15,
   "id": "bbecfa41",
   "metadata": {},
   "outputs": [
    {
     "name": "stdout",
     "output_type": "stream",
     "text": [
      "3.1622776601683795\n",
      "10.0\n"
     ]
    }
   ],
   "source": [
    "import math\n",
    "\n",
    "print(math.sqrt(10))\n",
    "print(math.sqrt(100))"
   ]
  }
 ],
 "metadata": {
  "kernelspec": {
   "display_name": "Python 3",
   "language": "python",
   "name": "python3"
  },
  "language_info": {
   "codemirror_mode": {
    "name": "ipython",
    "version": 3
   },
   "file_extension": ".py",
   "mimetype": "text/x-python",
   "name": "python",
   "nbconvert_exporter": "python",
   "pygments_lexer": "ipython3",
   "version": "3.9.5"
  }
 },
 "nbformat": 4,
 "nbformat_minor": 5
}
