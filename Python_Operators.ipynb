{
 "cells": [
  {
   "cell_type": "markdown",
   "id": "f26b8cae",
   "metadata": {},
   "source": [
    "# Arithemetic Operators"
   ]
  },
  {
   "cell_type": "code",
   "execution_count": 2,
   "id": "dac17015",
   "metadata": {},
   "outputs": [
    {
     "name": "stdout",
     "output_type": "stream",
     "text": [
      "Answer :  30\n"
     ]
    }
   ],
   "source": [
    "# Addition operator\n",
    "\n",
    "x = 10\n",
    "y = 20\n",
    "\n",
    "z = x+y\n",
    "print(\"Answer : \",z)"
   ]
  },
  {
   "cell_type": "code",
   "execution_count": 4,
   "id": "55e2f8db",
   "metadata": {},
   "outputs": [
    {
     "name": "stdout",
     "output_type": "stream",
     "text": [
      "Answer :  20\n"
     ]
    }
   ],
   "source": [
    "# Subtraction Operator\n",
    "\n",
    "x = 30\n",
    "y = 10\n",
    "\n",
    "z = x - y\n",
    "print(\"Answer : \",z)"
   ]
  },
  {
   "cell_type": "code",
   "execution_count": 6,
   "id": "df50a5b3",
   "metadata": {},
   "outputs": [
    {
     "name": "stdout",
     "output_type": "stream",
     "text": [
      "Answer :  20\n"
     ]
    }
   ],
   "source": [
    "# Multiplication Operator\n",
    "\n",
    "x = 10\n",
    "y = 2\n",
    "\n",
    "z = x*y\n",
    "print(\"Answer : \",z)"
   ]
  },
  {
   "cell_type": "markdown",
   "id": "2b0b47a8",
   "metadata": {},
   "source": [
    "# Assignment Operator"
   ]
  },
  {
   "cell_type": "code",
   "execution_count": 8,
   "id": "11b2dad6",
   "metadata": {},
   "outputs": [
    {
     "name": "stdout",
     "output_type": "stream",
     "text": [
      "X :  5\n"
     ]
    }
   ],
   "source": [
    "# Equalto operator\n",
    "\n",
    "x = 5\n",
    "print(\"X : \",x)"
   ]
  },
  {
   "cell_type": "code",
   "execution_count": 10,
   "id": "2def74f2",
   "metadata": {},
   "outputs": [
    {
     "name": "stdout",
     "output_type": "stream",
     "text": [
      "X :  10\n"
     ]
    }
   ],
   "source": [
    "# Addition and Equalto Operator\n",
    "\n",
    "x = 5\n",
    "x+=5 # x = x+5\n",
    "print(\"X : \",x)"
   ]
  },
  {
   "cell_type": "code",
   "execution_count": 12,
   "id": "277e1ce3",
   "metadata": {},
   "outputs": [
    {
     "name": "stdout",
     "output_type": "stream",
     "text": [
      "X :  4\n"
     ]
    }
   ],
   "source": [
    "# Subtraction and Equalto operator\n",
    "x = 6\n",
    "x-=2 # x = x-2\n",
    "print(\"X : \",x)"
   ]
  },
  {
   "cell_type": "markdown",
   "id": "20a6249b",
   "metadata": {},
   "source": [
    "# Comparsion Operator"
   ]
  },
  {
   "cell_type": "code",
   "execution_count": 15,
   "id": "760512d6",
   "metadata": {},
   "outputs": [
    {
     "name": "stdout",
     "output_type": "stream",
     "text": [
      "True\n"
     ]
    }
   ],
   "source": [
    "# Equalto-Equalto Operator\n",
    "\n",
    "x = 5\n",
    "y = 5\n",
    "print(x==y)"
   ]
  },
  {
   "cell_type": "code",
   "execution_count": 17,
   "id": "94a54dc6",
   "metadata": {},
   "outputs": [
    {
     "name": "stdout",
     "output_type": "stream",
     "text": [
      "True\n"
     ]
    }
   ],
   "source": [
    "# not Equalto Operator\n",
    "\n",
    "x = 5\n",
    "y = 3\n",
    "\n",
    "print(x!=y)"
   ]
  },
  {
   "cell_type": "code",
   "execution_count": 19,
   "id": "eb064e51",
   "metadata": {},
   "outputs": [
    {
     "name": "stdout",
     "output_type": "stream",
     "text": [
      "True\n"
     ]
    }
   ],
   "source": [
    "# Greater than equalto\n",
    "\n",
    "x = 5\n",
    "y = 3\n",
    "print(x>=y)"
   ]
  },
  {
   "cell_type": "markdown",
   "id": "efdebf04",
   "metadata": {},
   "source": [
    "# Logical Operator"
   ]
  },
  {
   "cell_type": "code",
   "execution_count": 21,
   "id": "0453bea0",
   "metadata": {},
   "outputs": [
    {
     "name": "stdout",
     "output_type": "stream",
     "text": [
      "False\n"
     ]
    }
   ],
   "source": [
    "# And operator\n",
    "\n",
    "x = 5\n",
    "print(x>3 and x<3)"
   ]
  },
  {
   "cell_type": "code",
   "execution_count": 28,
   "id": "ddecace5",
   "metadata": {},
   "outputs": [
    {
     "name": "stdout",
     "output_type": "stream",
     "text": [
      "True\n"
     ]
    }
   ],
   "source": [
    "# Or Operator\n",
    "\n",
    "x = 5\n",
    "print(x>3 or x<4)"
   ]
  },
  {
   "cell_type": "markdown",
   "id": "80cdd52e",
   "metadata": {},
   "source": [
    "# identity Operator"
   ]
  },
  {
   "cell_type": "code",
   "execution_count": 34,
   "id": "e0064d41",
   "metadata": {},
   "outputs": [
    {
     "name": "stdout",
     "output_type": "stream",
     "text": [
      "False\n",
      "True\n"
     ]
    }
   ],
   "source": [
    "# Is operator\n",
    "\n",
    "x = [\"Apple\",\"Mango\"]\n",
    "y = [\"Apple\",\"Mango\"]\n",
    "z = x\n",
    "\n",
    "print(x is y) # the object is not matching that's why it give as False\n",
    "\n",
    "print(x is z) # the object is matching that' why it returns True"
   ]
  },
  {
   "cell_type": "markdown",
   "id": "9a00b046",
   "metadata": {},
   "source": [
    "# Membership Operator"
   ]
  },
  {
   "cell_type": "code",
   "execution_count": 1,
   "id": "f4785275",
   "metadata": {},
   "outputs": [
    {
     "name": "stdout",
     "output_type": "stream",
     "text": [
      "False\n",
      "True\n"
     ]
    }
   ],
   "source": [
    "x = [\"Apple\",\"Mango\"]\n",
    "print(\"Banana\" in x)\n",
    "print(\"Graps\" not in x)"
   ]
  },
  {
   "cell_type": "markdown",
   "id": "52bd1688",
   "metadata": {},
   "source": [
    "# Operator Precedence"
   ]
  },
  {
   "cell_type": "code",
   "execution_count": 4,
   "id": "3ab7e17f",
   "metadata": {},
   "outputs": [
    {
     "name": "stdout",
     "output_type": "stream",
     "text": [
      "Value :  90.0\n",
      "Value of Y :  90.0\n",
      "Value of Z :  50.0\n"
     ]
    }
   ],
   "source": [
    "a = 20\n",
    "b = 10\n",
    "c = 15\n",
    "d = 5\n",
    "\n",
    "\n",
    "x = (a+b)*c/d  #(30*15)/5\n",
    "print(\"Value : \",x)\n",
    "\n",
    "\n",
    "y = ((a+b)*c)/d   # (30*15)/5\n",
    "print(\"Value of Y : \",y)\n",
    "\n",
    "\n",
    "z = a+(b*c)/d   # 20+(150/5)\n",
    "print(\"Value of Z : \",z)"
   ]
  }
 ],
 "metadata": {
  "kernelspec": {
   "display_name": "Python 3",
   "language": "python",
   "name": "python3"
  },
  "language_info": {
   "codemirror_mode": {
    "name": "ipython",
    "version": 3
   },
   "file_extension": ".py",
   "mimetype": "text/x-python",
   "name": "python",
   "nbconvert_exporter": "python",
   "pygments_lexer": "ipython3",
   "version": "3.9.5"
  }
 },
 "nbformat": 4,
 "nbformat_minor": 5
}
