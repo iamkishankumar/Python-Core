{
 "cells": [
  {
   "cell_type": "markdown",
   "id": "b284bf3d",
   "metadata": {},
   "source": [
    "# Creating a List"
   ]
  },
  {
   "cell_type": "code",
   "execution_count": 2,
   "id": "40f07e51",
   "metadata": {},
   "outputs": [
    {
     "name": "stdout",
     "output_type": "stream",
     "text": [
      "Integer List  :  [1, 2, 3, 4, 5, 6]\n",
      "String List :  ['Apple', 'Mango', 'orange']\n"
     ]
    }
   ],
   "source": [
    "# This list Store the integer values\n",
    "l1 = [1,2,3,4,5,6]\n",
    "# This List Stores the String Values\n",
    "l2 = [\"Apple\",\"Mango\",\"orange\"]\n",
    "\n",
    "print(\"Integer List  : \",l1)\n",
    "print(\"String List : \",l2)"
   ]
  },
  {
   "cell_type": "markdown",
   "id": "69f8900c",
   "metadata": {},
   "source": [
    "# Duplicate Values in List "
   ]
  },
  {
   "cell_type": "code",
   "execution_count": 4,
   "id": "4c1b647d",
   "metadata": {},
   "outputs": [
    {
     "name": "stdout",
     "output_type": "stream",
     "text": [
      "Duplicate Value : [1, 2, 3, 4, 5, 6, 1, 2, 3]\n"
     ]
    }
   ],
   "source": [
    "l1 = [1,2,3,4,5,6,1,2,3]\n",
    "print(\"Duplicate Value :\",l1)"
   ]
  },
  {
   "cell_type": "markdown",
   "id": "bf30058e",
   "metadata": {},
   "source": [
    "# List Contructor"
   ]
  },
  {
   "cell_type": "code",
   "execution_count": 6,
   "id": "e8527427",
   "metadata": {},
   "outputs": [
    {
     "name": "stdout",
     "output_type": "stream",
     "text": [
      "['Apple', 'Mango', 'Orange']\n"
     ]
    }
   ],
   "source": [
    "l1 = list((\"Apple\",\"Mango\",\"Orange\")) # Note there is Double Brackets\n",
    "print(l1)"
   ]
  },
  {
   "cell_type": "markdown",
   "id": "c657bbbd",
   "metadata": {},
   "source": [
    "# List Slicing"
   ]
  },
  {
   "cell_type": "code",
   "execution_count": 12,
   "id": "2d1a33d2",
   "metadata": {},
   "outputs": [
    {
     "name": "stdout",
     "output_type": "stream",
     "text": [
      "Current List :  [1, 2, 3, 4, 5, 6, 7, 8, 9, 10]\n",
      "Index 1 value :  2\n",
      "Index Between 1 to 6 :  [2, 3, 4, 5, 6]\n",
      "Index Till 6 :  [1, 2, 3, 4, 5, 6]\n",
      "Last Value :  10\n"
     ]
    }
   ],
   "source": [
    "l1 = [1,2,3,4,5,6,7,8,9,10]\n",
    "print(\"Current List : \",l1)\n",
    "\n",
    "# Access the value of Index 1\n",
    "print(\"Index 1 value : \",l1[1])\n",
    "\n",
    "# Access the value Between index 1 to 6\n",
    "print(\"Index Between 1 to 6 : \",l1[1:6])\n",
    "\n",
    "# Access the value till index 6\n",
    "print(\"Index Till 6 : \",l1[:6])\n",
    "\n",
    "# Access the last value from List\n",
    "print(\"Last Value : \",l1[-1])"
   ]
  },
  {
   "cell_type": "markdown",
   "id": "d4a7e186",
   "metadata": {},
   "source": [
    "# List Item Change"
   ]
  },
  {
   "cell_type": "code",
   "execution_count": 15,
   "id": "a88ed08b",
   "metadata": {},
   "outputs": [
    {
     "name": "stdout",
     "output_type": "stream",
     "text": [
      "Current List :  ['Apple', 'Banana', 'Cherry', 'Mango', 'Orange', 'Kiwi']\n",
      "Updated List :  ['Apple', 'Grapes', 'Watermelon', 'Mango', 'Orange', 'Kiwi']\n"
     ]
    }
   ],
   "source": [
    "x = [\"Apple\",\"Banana\",\"Cherry\",\"Mango\",\"Orange\",\"Kiwi\"]\n",
    "print(\"Current List : \",x)\n",
    "\n",
    "# Change the item in list\n",
    "x[1:3] = [\"Grapes\",\"Watermelon\"]\n",
    "print(\"Updated List : \",x)"
   ]
  },
  {
   "cell_type": "markdown",
   "id": "5c1c1277",
   "metadata": {},
   "source": [
    "# Insert into List"
   ]
  },
  {
   "cell_type": "code",
   "execution_count": 18,
   "id": "3ee7b346",
   "metadata": {},
   "outputs": [
    {
     "name": "stdout",
     "output_type": "stream",
     "text": [
      "Current List :  [1, 2, 3, 4, 5, 6]\n",
      "Updated List :  [1, 2, 'Python', 3, 4, 5, 6]\n"
     ]
    }
   ],
   "source": [
    "l1 = [1,2,3,4,5,6]\n",
    "print(\"Current List : \",l1)\n",
    "# Updating the list using insert method\n",
    "l1.insert(2,\"Python\")\n",
    "print(\"Updated List : \",l1)"
   ]
  },
  {
   "cell_type": "markdown",
   "id": "77ec56d3",
   "metadata": {},
   "source": [
    "# Extend the List"
   ]
  },
  {
   "cell_type": "code",
   "execution_count": 20,
   "id": "12f0cadb",
   "metadata": {},
   "outputs": [
    {
     "name": "stdout",
     "output_type": "stream",
     "text": [
      "[1, 2, 3, 4, 5, 'A', 'B', 'C', 'D', 'E']\n"
     ]
    }
   ],
   "source": [
    "l1 = [1,2,3,4,5]\n",
    "l2 = ['A','B','C','D','E']\n",
    "# Extending the list of l2 into list of L1\n",
    "l1.extend(l2)\n",
    "print(l1)"
   ]
  },
  {
   "cell_type": "markdown",
   "id": "73d98afb",
   "metadata": {},
   "source": [
    "# Remove Item from List"
   ]
  },
  {
   "cell_type": "code",
   "execution_count": 23,
   "id": "96186cbc",
   "metadata": {},
   "outputs": [
    {
     "name": "stdout",
     "output_type": "stream",
     "text": [
      "Current list :  [1, 2, 3, 4, 5, 6, 7]\n",
      "Update List :  [1, 2, 4, 5, 6, 7]\n"
     ]
    }
   ],
   "source": [
    "# remove() :  This method is used to remove element from list\n",
    "\n",
    "l1 = [1,2,3,4,5,6,7]\n",
    "print(\"Current list : \",l1)\n",
    "\n",
    "# Removing the item using remove method\n",
    "l1.remove(3)\n",
    "print(\"Update List : \",l1)"
   ]
  },
  {
   "cell_type": "code",
   "execution_count": 26,
   "id": "cd5034d6",
   "metadata": {},
   "outputs": [
    {
     "name": "stdout",
     "output_type": "stream",
     "text": [
      "Current List :  [1, 2, 3, 4, 5, 6, 7]\n",
      "Update List :  [1, 2, 3, 4, 5, 6]\n"
     ]
    }
   ],
   "source": [
    "# pop() : This method is used to remove last value from list\n",
    "\n",
    "l1 = [1,2,3,4,5,6,7]\n",
    "print(\"Current List : \",l1)\n",
    "\n",
    "# Remove item using pop method\n",
    "l1.pop()\n",
    "print(\"Update List : \",l1)"
   ]
  },
  {
   "cell_type": "code",
   "execution_count": 30,
   "id": "1868a392",
   "metadata": {},
   "outputs": [
    {
     "name": "stdout",
     "output_type": "stream",
     "text": [
      "Current List :  [1, 2, 3, 4, 5, 6, 7]\n",
      "Update list :  [1, 2, 4, 5, 6, 7]\n"
     ]
    }
   ],
   "source": [
    "# del() : This method is used to remove item from the index\n",
    "\n",
    "l1 = [1,2,3,4,5,6,7]\n",
    "print(\"Current List : \",l1)\n",
    "\n",
    "# Remove item using del method\n",
    "del l1[2]\n",
    "print(\"Update list : \",l1)"
   ]
  },
  {
   "cell_type": "code",
   "execution_count": 32,
   "id": "f8a83843",
   "metadata": {},
   "outputs": [
    {
     "name": "stdout",
     "output_type": "stream",
     "text": [
      "Current List :  [1, 2, 3, 4, 5, 6, 7]\n",
      "Updated List :  []\n"
     ]
    }
   ],
   "source": [
    "# clear() :  this method is used to clear the list\n",
    "\n",
    "l1 = [1,2,3,4,5,6,7]\n",
    "print(\"Current List : \",l1)\n",
    "\n",
    "# Remove items using clear method\n",
    "l1.clear()\n",
    "print(\"Updated List : \",l1)"
   ]
  }
 ],
 "metadata": {
  "kernelspec": {
   "display_name": "Python 3",
   "language": "python",
   "name": "python3"
  },
  "language_info": {
   "codemirror_mode": {
    "name": "ipython",
    "version": 3
   },
   "file_extension": ".py",
   "mimetype": "text/x-python",
   "name": "python",
   "nbconvert_exporter": "python",
   "pygments_lexer": "ipython3",
   "version": "3.9.5"
  }
 },
 "nbformat": 4,
 "nbformat_minor": 5
}
