{
 "cells": [
  {
   "cell_type": "markdown",
   "id": "f1fba742",
   "metadata": {},
   "source": [
    "# Break Statement"
   ]
  },
  {
   "cell_type": "code",
   "execution_count": 3,
   "id": "225ba737",
   "metadata": {},
   "outputs": [
    {
     "name": "stdout",
     "output_type": "stream",
     "text": [
      "Current Letter :  P\n",
      "Current Letter :  y\n",
      "Current Letter :  t\n",
      "Current Letter :  h\n",
      "bye\n"
     ]
    }
   ],
   "source": [
    "for letter in \"Python\":\n",
    "    if letter == \"o\":\n",
    "        # Here i am using break statement to break execution\n",
    "        break\n",
    "    print(\"Current Letter : \",letter)\n",
    "print(\"bye\")"
   ]
  },
  {
   "cell_type": "markdown",
   "id": "71a953e3",
   "metadata": {},
   "source": [
    "# Continue Statement"
   ]
  },
  {
   "cell_type": "code",
   "execution_count": 1,
   "id": "e0713856",
   "metadata": {},
   "outputs": [
    {
     "name": "stdout",
     "output_type": "stream",
     "text": [
      "Current Letter  : P\n",
      "Current Letter  : y\n",
      "Current Letter  : t\n",
      "Current Letter  : o\n",
      "Current Letter  : n\n",
      "bye\n"
     ]
    }
   ],
   "source": [
    "for letter in \"Python\":\n",
    "    if letter == 'h':\n",
    "        # Continue statement will skip the \"h\"\n",
    "        continue\n",
    "    print(\"Current Letter  :\",letter)\n",
    "    \n",
    "print(\"bye\")"
   ]
  },
  {
   "cell_type": "code",
   "execution_count": 2,
   "id": "37ff7a57",
   "metadata": {},
   "outputs": [
    {
     "name": "stdout",
     "output_type": "stream",
     "text": [
      "Current Letter  : P\n",
      "Current Letter  : y\n",
      "Current Letter  : t\n",
      "Current Letter  : h\n",
      "Current Letter  : o\n",
      "Current Letter  : n\n",
      "bye\n"
     ]
    }
   ],
   "source": [
    "for letter in \"Python\":\n",
    "    if letter == 'h':\n",
    "        # Continue statement will skip the \"h\"\n",
    "        pass\n",
    "    print(\"Current Letter  :\",letter)\n",
    "    \n",
    "print(\"bye\")"
   ]
  },
  {
   "cell_type": "markdown",
   "id": "e35e08c6",
   "metadata": {},
   "source": [
    "# Pass Statement"
   ]
  },
  {
   "cell_type": "code",
   "execution_count": 5,
   "id": "9d5457c6",
   "metadata": {},
   "outputs": [
    {
     "name": "stdout",
     "output_type": "stream",
     "text": [
      "P\n",
      "y\n",
      "t\n"
     ]
    }
   ],
   "source": [
    "for letter in \"Python\":\n",
    "    if letter == 'h':\n",
    "        break\n",
    "    print(letter)"
   ]
  },
  {
   "cell_type": "code",
   "execution_count": null,
   "id": "1152c588",
   "metadata": {},
   "outputs": [],
   "source": []
  }
 ],
 "metadata": {
  "kernelspec": {
   "display_name": "Python 3 (ipykernel)",
   "language": "python",
   "name": "python3"
  },
  "language_info": {
   "codemirror_mode": {
    "name": "ipython",
    "version": 3
   },
   "file_extension": ".py",
   "mimetype": "text/x-python",
   "name": "python",
   "nbconvert_exporter": "python",
   "pygments_lexer": "ipython3",
   "version": "3.10.2"
  }
 },
 "nbformat": 4,
 "nbformat_minor": 5
}
