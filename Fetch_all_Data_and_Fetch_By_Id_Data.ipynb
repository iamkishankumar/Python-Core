{
 "cells": [
  {
   "cell_type": "code",
   "execution_count": 9,
   "id": "a9589dc8",
   "metadata": {},
   "outputs": [],
   "source": [
    "# Import Database API\n",
    "import pymysql\n",
    "\n",
    "# Database connection function\n",
    "def CreateConn():\n",
    "    return pymysql.connect(host=\"localhost\",database=\"learnvern\",\n",
    "                          user=\"root\",password=\"\",port=3306)"
   ]
  },
  {
   "cell_type": "markdown",
   "id": "da1b764a",
   "metadata": {},
   "source": [
    "# Fetch All Data from Database"
   ]
  },
  {
   "cell_type": "code",
   "execution_count": 10,
   "id": "3961b2bf",
   "metadata": {},
   "outputs": [
    {
     "name": "stdout",
     "output_type": "stream",
     "text": [
      "(2, 'Sunit', 's@gmail.com', 'Ahmedabad')\n",
      "(3, 'Ram', 'r@gmail.com', 'Surat')\n"
     ]
    }
   ],
   "source": [
    "def ShowAllData():\n",
    "    conn = CreateConn()\n",
    "    cursor = conn.cursor()\n",
    "    query = \"select * from student\"\n",
    "    cursor.execute(query)\n",
    "    result = cursor.fetchall()\n",
    "    for i in result:\n",
    "        print(i)\n",
    "        \n",
    "ShowAllData()"
   ]
  },
  {
   "cell_type": "markdown",
   "id": "d80e5475",
   "metadata": {},
   "source": [
    "# Fetch Data By Id from Database"
   ]
  },
  {
   "cell_type": "code",
   "execution_count": 11,
   "id": "d4682df0",
   "metadata": {},
   "outputs": [
    {
     "name": "stdout",
     "output_type": "stream",
     "text": [
      "(2, 'Sunit', 's@gmail.com', 'Ahmedabad')\n",
      "(3, 'Ram', 'r@gmail.com', 'Surat')\n",
      "Enter your Id : 2\n",
      "(2, 'Sunit', 's@gmail.com', 'Ahmedabad')\n"
     ]
    }
   ],
   "source": [
    "def ShowAllDataById(sid):\n",
    "    conn = CreateConn()\n",
    "    cursor = conn.cursor()\n",
    "    args = (sid)\n",
    "    query = \"select * from student where sid=%s\"\n",
    "    cursor.execute(query,args)\n",
    "    result = cursor.fetchall()\n",
    "    for i in result:\n",
    "        print(i)\n",
    "        \n",
    "ShowAllData()\n",
    "\n",
    "sid = int(input(\"Enter your Id : \"))\n",
    "ShowAllDataById(sid)        \n"
   ]
  }
 ],
 "metadata": {
  "kernelspec": {
   "display_name": "Python 3",
   "language": "python",
   "name": "python3"
  },
  "language_info": {
   "codemirror_mode": {
    "name": "ipython",
    "version": 3
   },
   "file_extension": ".py",
   "mimetype": "text/x-python",
   "name": "python",
   "nbconvert_exporter": "python",
   "pygments_lexer": "ipython3",
   "version": "3.9.5"
  }
 },
 "nbformat": 4,
 "nbformat_minor": 5
}
