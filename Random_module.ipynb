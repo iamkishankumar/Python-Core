{
 "cells": [
  {
   "cell_type": "markdown",
   "id": "a5b5a99f",
   "metadata": {},
   "source": [
    "# Import Random"
   ]
  },
  {
   "cell_type": "code",
   "execution_count": 5,
   "id": "f2b47c0a",
   "metadata": {},
   "outputs": [],
   "source": [
    "# from random import functionname\n",
    "\n",
    "# import random"
   ]
  },
  {
   "cell_type": "markdown",
   "id": "720db260",
   "metadata": {},
   "source": [
    "# Choice()"
   ]
  },
  {
   "cell_type": "code",
   "execution_count": 7,
   "id": "4ac50cdd",
   "metadata": {},
   "outputs": [
    {
     "name": "stdout",
     "output_type": "stream",
     "text": [
      "2\n"
     ]
    }
   ],
   "source": [
    "from random import choice\n",
    "\n",
    "l1 = [1,2,3,4,5,6]\n",
    "print(choice(l1))"
   ]
  },
  {
   "cell_type": "markdown",
   "id": "7decbc47",
   "metadata": {},
   "source": [
    "# Randint()"
   ]
  },
  {
   "cell_type": "code",
   "execution_count": 9,
   "id": "bb90a00e",
   "metadata": {},
   "outputs": [
    {
     "name": "stdout",
     "output_type": "stream",
     "text": [
      "Your Otp :  313163\n"
     ]
    }
   ],
   "source": [
    "from random import randint\n",
    "\n",
    "otp = randint(10000,999999)\n",
    "print(\"Your Otp : \",otp)"
   ]
  },
  {
   "cell_type": "markdown",
   "id": "fe44733c",
   "metadata": {},
   "source": [
    "# Shuffle()"
   ]
  },
  {
   "cell_type": "code",
   "execution_count": 18,
   "id": "547c686e",
   "metadata": {},
   "outputs": [
    {
     "name": "stdout",
     "output_type": "stream",
     "text": [
      "['Banana', 'Mango', 'Apple']\n"
     ]
    }
   ],
   "source": [
    "from random import shuffle\n",
    "\n",
    "l2 = [\"Apple\",\"Banana\",\"Mango\"]\n",
    "shuffle(l2)\n",
    "print(l2)"
   ]
  }
 ],
 "metadata": {
  "kernelspec": {
   "display_name": "Python 3",
   "language": "python",
   "name": "python3"
  },
  "language_info": {
   "codemirror_mode": {
    "name": "ipython",
    "version": 3
   },
   "file_extension": ".py",
   "mimetype": "text/x-python",
   "name": "python",
   "nbconvert_exporter": "python",
   "pygments_lexer": "ipython3",
   "version": "3.9.5"
  }
 },
 "nbformat": 4,
 "nbformat_minor": 5
}
