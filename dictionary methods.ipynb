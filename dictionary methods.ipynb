{
 "cells": [
  {
   "cell_type": "code",
   "execution_count": 23,
   "id": "fc4d752c",
   "metadata": {},
   "outputs": [],
   "source": [
    "#########################################################"
   ]
  },
  {
   "cell_type": "code",
   "execution_count": 24,
   "id": "a9968ccb",
   "metadata": {},
   "outputs": [],
   "source": [
    "# dict in-build-functions\n",
    "# len(),any(),all(),sorted()\n",
    "# dict methods"
   ]
  },
  {
   "cell_type": "code",
   "execution_count": null,
   "id": "e1339b0a",
   "metadata": {},
   "outputs": [],
   "source": []
  },
  {
   "cell_type": "code",
   "execution_count": null,
   "id": "49587970",
   "metadata": {},
   "outputs": [],
   "source": []
  },
  {
   "cell_type": "code",
   "execution_count": 58,
   "id": "05c0b5bc",
   "metadata": {},
   "outputs": [],
   "source": [
    "dict1={\"first name\":\"kishan\",\"middle name\":\"kumar\",\"last name\":\"thakur\",\"class\":\"B.com(H)\",\"course\":\"Data Science\",\"Roll no\":21}"
   ]
  },
  {
   "cell_type": "code",
   "execution_count": 60,
   "id": "2cc19f10",
   "metadata": {},
   "outputs": [
    {
     "ename": "TypeError",
     "evalue": "pop expected at least 1 argument, got 0",
     "output_type": "error",
     "traceback": [
      "\u001b[1;31m---------------------------------------------------------------------------\u001b[0m",
      "\u001b[1;31mTypeError\u001b[0m                                 Traceback (most recent call last)",
      "Input \u001b[1;32mIn [60]\u001b[0m, in \u001b[0;36m<cell line: 1>\u001b[1;34m()\u001b[0m\n\u001b[1;32m----> 1\u001b[0m \u001b[43mdict1\u001b[49m\u001b[38;5;241;43m.\u001b[39;49m\u001b[43mpop\u001b[49m\u001b[43m(\u001b[49m\u001b[43m)\u001b[49m\n",
      "\u001b[1;31mTypeError\u001b[0m: pop expected at least 1 argument, got 0"
     ]
    }
   ],
   "source": [
    "dict1.pop()"
   ]
  },
  {
   "cell_type": "code",
   "execution_count": 61,
   "id": "1b8d32b7",
   "metadata": {},
   "outputs": [
    {
     "data": {
      "text/plain": [
       "('Roll no', 21)"
      ]
     },
     "execution_count": 61,
     "metadata": {},
     "output_type": "execute_result"
    }
   ],
   "source": [
    "dict1.popitem()"
   ]
  },
  {
   "cell_type": "code",
   "execution_count": null,
   "id": "4627f3ce",
   "metadata": {},
   "outputs": [],
   "source": []
  },
  {
   "cell_type": "code",
   "execution_count": null,
   "id": "49cffd33",
   "metadata": {},
   "outputs": [],
   "source": []
  },
  {
   "cell_type": "code",
   "execution_count": 4,
   "id": "fe30eeda",
   "metadata": {},
   "outputs": [],
   "source": [
    "dict1.clear()"
   ]
  },
  {
   "cell_type": "code",
   "execution_count": 5,
   "id": "b8879c7f",
   "metadata": {},
   "outputs": [
    {
     "data": {
      "text/plain": [
       "{}"
      ]
     },
     "execution_count": 5,
     "metadata": {},
     "output_type": "execute_result"
    }
   ],
   "source": [
    "dict1"
   ]
  },
  {
   "cell_type": "code",
   "execution_count": 16,
   "id": "69b01d61",
   "metadata": {},
   "outputs": [],
   "source": [
    "dict1={\"first name\":\"kishan\",\"middle name\":\"kumar\",\"last name\":\"thakur\",\"class\":\"B.com(H)\",\"course\":\"Data Science\",\"Roll no\":21}"
   ]
  },
  {
   "cell_type": "code",
   "execution_count": 7,
   "id": "4027c0db",
   "metadata": {},
   "outputs": [],
   "source": [
    "dict2=dict1.copy()"
   ]
  },
  {
   "cell_type": "code",
   "execution_count": 8,
   "id": "7c5527e6",
   "metadata": {},
   "outputs": [
    {
     "data": {
      "text/plain": [
       "{'first name': 'kishan',\n",
       " 'middle name': 'kumar',\n",
       " 'last name': 'thakur',\n",
       " 'class': 'B.com(H)',\n",
       " 'course': 'Data Science',\n",
       " 'Roll no': 21}"
      ]
     },
     "execution_count": 8,
     "metadata": {},
     "output_type": "execute_result"
    }
   ],
   "source": [
    "dict2"
   ]
  },
  {
   "cell_type": "code",
   "execution_count": 19,
   "id": "2064a13c",
   "metadata": {},
   "outputs": [
    {
     "data": {
      "text/plain": [
       "{'City': {'Bihar', 'Delhi', 'Goa', 'Mumbai', 'Rajasthan'}}"
      ]
     },
     "execution_count": 19,
     "metadata": {},
     "output_type": "execute_result"
    }
   ],
   "source": [
    "keys={\"City\"}\n",
    "values={\"Delhi\",\"Mumbai\",\"Goa\",\"Rajasthan\",\"Bihar\"}\n",
    "dictonary=dict.fromkeys(keys,values)\n",
    "dictonary"
   ]
  },
  {
   "cell_type": "code",
   "execution_count": 21,
   "id": "077d2c3b",
   "metadata": {},
   "outputs": [],
   "source": [
    "dict1.get(\"city\")"
   ]
  },
  {
   "cell_type": "code",
   "execution_count": 25,
   "id": "908b57f0",
   "metadata": {},
   "outputs": [
    {
     "data": {
      "text/plain": [
       "{'first name': 'kishan',\n",
       " 'middle name': 'kumar',\n",
       " 'last name': 'thakur',\n",
       " 'class': 'B.com(H)',\n",
       " 'course': 'Data Science',\n",
       " 'Roll no': 21}"
      ]
     },
     "execution_count": 25,
     "metadata": {},
     "output_type": "execute_result"
    }
   ],
   "source": [
    "dict1"
   ]
  },
  {
   "cell_type": "code",
   "execution_count": 28,
   "id": "5d2a7329",
   "metadata": {},
   "outputs": [],
   "source": [
    "a=[\"name\",\"class\",\"roll no\",\"subject\"]\n",
    "b={}\n",
    "b=b.fromkeys(a)"
   ]
  },
  {
   "cell_type": "code",
   "execution_count": 32,
   "id": "34d8dc77",
   "metadata": {},
   "outputs": [
    {
     "data": {
      "text/plain": [
       "dict_items([('first name', 'kishan'), ('middle name', 'kumar'), ('last name', 'thakur'), ('class', 'B.com(H)'), ('course', 'Data Science'), ('Roll no', 21)])"
      ]
     },
     "execution_count": 32,
     "metadata": {},
     "output_type": "execute_result"
    }
   ],
   "source": [
    "dict1.items()"
   ]
  },
  {
   "cell_type": "code",
   "execution_count": 33,
   "id": "949008a6",
   "metadata": {},
   "outputs": [
    {
     "data": {
      "text/plain": [
       "dict_keys(['first name', 'middle name', 'last name', 'class', 'course', 'Roll no'])"
      ]
     },
     "execution_count": 33,
     "metadata": {},
     "output_type": "execute_result"
    }
   ],
   "source": [
    "dict1.keys()"
   ]
  },
  {
   "cell_type": "code",
   "execution_count": 34,
   "id": "4643cbf7",
   "metadata": {},
   "outputs": [
    {
     "data": {
      "text/plain": [
       "dict_values(['kishan', 'kumar', 'thakur', 'B.com(H)', 'Data Science', 21])"
      ]
     },
     "execution_count": 34,
     "metadata": {},
     "output_type": "execute_result"
    }
   ],
   "source": [
    "dict1.values()"
   ]
  },
  {
   "cell_type": "code",
   "execution_count": 41,
   "id": "23a44c5c",
   "metadata": {},
   "outputs": [
    {
     "ename": "TypeError",
     "evalue": "pop expected at least 1 argument, got 0",
     "output_type": "error",
     "traceback": [
      "\u001b[1;31m---------------------------------------------------------------------------\u001b[0m",
      "\u001b[1;31mTypeError\u001b[0m                                 Traceback (most recent call last)",
      "Input \u001b[1;32mIn [41]\u001b[0m, in \u001b[0;36m<cell line: 1>\u001b[1;34m()\u001b[0m\n\u001b[1;32m----> 1\u001b[0m \u001b[43mdict1\u001b[49m\u001b[38;5;241;43m.\u001b[39;49m\u001b[43mpop\u001b[49m\u001b[43m(\u001b[49m\u001b[43m)\u001b[49m\n",
      "\u001b[1;31mTypeError\u001b[0m: pop expected at least 1 argument, got 0"
     ]
    }
   ],
   "source": [
    "dict1.pop()"
   ]
  },
  {
   "cell_type": "code",
   "execution_count": 40,
   "id": "af605cbf",
   "metadata": {},
   "outputs": [
    {
     "data": {
      "text/plain": [
       "('course', 'Data Science')"
      ]
     },
     "execution_count": 40,
     "metadata": {},
     "output_type": "execute_result"
    }
   ],
   "source": [
    "dict1.popitem()"
   ]
  },
  {
   "cell_type": "code",
   "execution_count": 45,
   "id": "8f68a906",
   "metadata": {},
   "outputs": [
    {
     "data": {
      "text/plain": [
       "{'first name': 'kishan', 'middle name': 'kumar', 'class': 'B.com(H)'}"
      ]
     },
     "execution_count": 45,
     "metadata": {},
     "output_type": "execute_result"
    }
   ],
   "source": [
    "dict1\n"
   ]
  },
  {
   "cell_type": "code",
   "execution_count": 46,
   "id": "8afb6243",
   "metadata": {},
   "outputs": [
    {
     "data": {
      "text/plain": [
       "{'first name': 'kishan',\n",
       " 'middle name': 'kumar',\n",
       " 'last name': 'thakur',\n",
       " 'class': 'B.com(H)',\n",
       " 'course': 'Data Science',\n",
       " 'Roll no': 21}"
      ]
     },
     "execution_count": 46,
     "metadata": {},
     "output_type": "execute_result"
    }
   ],
   "source": [
    "dict2"
   ]
  },
  {
   "cell_type": "code",
   "execution_count": 50,
   "id": "ddf33359",
   "metadata": {},
   "outputs": [],
   "source": [
    "dict2.update(dict1)"
   ]
  },
  {
   "cell_type": "code",
   "execution_count": 51,
   "id": "18055379",
   "metadata": {},
   "outputs": [
    {
     "data": {
      "text/plain": [
       "{'first name': 'kishan',\n",
       " 'middle name': 'kumar',\n",
       " 'class': 'B.com(H)',\n",
       " 'last name': 'thakur',\n",
       " 'course': 'Data Science',\n",
       " 'Roll no': 21}"
      ]
     },
     "execution_count": 51,
     "metadata": {},
     "output_type": "execute_result"
    }
   ],
   "source": [
    "dict1"
   ]
  },
  {
   "cell_type": "code",
   "execution_count": 52,
   "id": "649f5172",
   "metadata": {},
   "outputs": [
    {
     "data": {
      "text/plain": [
       "{'first name': 'kishan',\n",
       " 'middle name': 'kumar',\n",
       " 'last name': 'thakur',\n",
       " 'class': 'B.com(H)',\n",
       " 'course': 'Data Science',\n",
       " 'Roll no': 21}"
      ]
     },
     "execution_count": 52,
     "metadata": {},
     "output_type": "execute_result"
    }
   ],
   "source": [
    "dict2"
   ]
  },
  {
   "cell_type": "code",
   "execution_count": 5,
   "id": "147ed9d7",
   "metadata": {},
   "outputs": [],
   "source": [
    "dict1={\"first name\":\"kishan\",\"middle name\":\"kumar\",\"last name\":\"thakur\",\"class\":\"B.com(H)\",\"course\":\"Data Science\",\"Roll no\":21}"
   ]
  },
  {
   "cell_type": "code",
   "execution_count": 6,
   "id": "2e45e5aa",
   "metadata": {},
   "outputs": [],
   "source": [
    "dict2={\"first name\":\"rohit\",\"middle name\":\"joshi\",\"last name\":\"mandal\",\"class\":\"B.com\",\"course\":\"sap\",\"Roll no\":20}"
   ]
  },
  {
   "cell_type": "code",
   "execution_count": 7,
   "id": "5abb16af",
   "metadata": {},
   "outputs": [
    {
     "name": "stdout",
     "output_type": "stream",
     "text": [
      "{'first name': 'kishan', 'middle name': 'kumar', 'last name': 'thakur', 'class': 'B.com(H)', 'course': 'Data Science', 'Roll no': 21}\n",
      "{'first name': 'rohit', 'middle name': 'joshi', 'last name': 'mandal', 'class': 'B.com', 'course': 'sap', 'Roll no': 20}\n"
     ]
    }
   ],
   "source": [
    "print(dict1)\n",
    "print(dict2)"
   ]
  },
  {
   "cell_type": "code",
   "execution_count": 9,
   "id": "18e78acf",
   "metadata": {},
   "outputs": [
    {
     "data": {
      "text/plain": [
       "dict_keys(['first name', 'middle name', 'last name', 'class', 'course', 'Roll no'])"
      ]
     },
     "execution_count": 9,
     "metadata": {},
     "output_type": "execute_result"
    }
   ],
   "source": [
    "dict1.keys()"
   ]
  },
  {
   "cell_type": "code",
   "execution_count": 10,
   "id": "11acb887",
   "metadata": {},
   "outputs": [
    {
     "data": {
      "text/plain": [
       "dict_values(['rohit', 'joshi', 'mandal', 'B.com', 'sap', 20])"
      ]
     },
     "execution_count": 10,
     "metadata": {},
     "output_type": "execute_result"
    }
   ],
   "source": [
    "dict2.values()"
   ]
  },
  {
   "cell_type": "code",
   "execution_count": 11,
   "id": "7459505d",
   "metadata": {},
   "outputs": [
    {
     "data": {
      "text/plain": [
       "dict_items([('first name', 'kishan'), ('middle name', 'kumar'), ('last name', 'thakur'), ('class', 'B.com(H)'), ('course', 'Data Science'), ('Roll no', 21)])"
      ]
     },
     "execution_count": 11,
     "metadata": {},
     "output_type": "execute_result"
    }
   ],
   "source": [
    "dict1.items()"
   ]
  },
  {
   "cell_type": "code",
   "execution_count": 12,
   "id": "a8e852fd",
   "metadata": {},
   "outputs": [],
   "source": [
    "ls1=[(\"name\",\"gopal jee\"),(\"class\",9),(\"roll no\",22),(\"subject\",\"all\")]"
   ]
  },
  {
   "cell_type": "code",
   "execution_count": 13,
   "id": "2f2519e9",
   "metadata": {},
   "outputs": [],
   "source": [
    "ls2 = [1,2,3,4,5]"
   ]
  },
  {
   "cell_type": "code",
   "execution_count": 14,
   "id": "4d4d5cc9",
   "metadata": {},
   "outputs": [
    {
     "ename": "TypeError",
     "evalue": "cannot convert dictionary update sequence element #0 to a sequence",
     "output_type": "error",
     "traceback": [
      "\u001b[1;31m---------------------------------------------------------------------------\u001b[0m",
      "\u001b[1;31mTypeError\u001b[0m                                 Traceback (most recent call last)",
      "Input \u001b[1;32mIn [14]\u001b[0m, in \u001b[0;36m<cell line: 2>\u001b[1;34m()\u001b[0m\n\u001b[0;32m      1\u001b[0m ld1 \u001b[38;5;241m=\u001b[39m \u001b[38;5;28mdict\u001b[39m(ls1)\n\u001b[1;32m----> 2\u001b[0m ld2 \u001b[38;5;241m=\u001b[39m \u001b[38;5;28;43mdict\u001b[39;49m\u001b[43m(\u001b[49m\u001b[43mls2\u001b[49m\u001b[43m)\u001b[49m\n",
      "\u001b[1;31mTypeError\u001b[0m: cannot convert dictionary update sequence element #0 to a sequence"
     ]
    }
   ],
   "source": [
    "ld1 = dict(ls1)\n",
    "ld2 = dict(ls2)"
   ]
  },
  {
   "cell_type": "code",
   "execution_count": 15,
   "id": "d6a6ffb3",
   "metadata": {},
   "outputs": [
    {
     "ename": "NameError",
     "evalue": "name 'ld2' is not defined",
     "output_type": "error",
     "traceback": [
      "\u001b[1;31m---------------------------------------------------------------------------\u001b[0m",
      "\u001b[1;31mNameError\u001b[0m                                 Traceback (most recent call last)",
      "Input \u001b[1;32mIn [15]\u001b[0m, in \u001b[0;36m<cell line: 1>\u001b[1;34m()\u001b[0m\n\u001b[1;32m----> 1\u001b[0m \u001b[43mld2\u001b[49m\n",
      "\u001b[1;31mNameError\u001b[0m: name 'ld2' is not defined"
     ]
    }
   ],
   "source": [
    "ld2"
   ]
  },
  {
   "cell_type": "code",
   "execution_count": 16,
   "id": "0f7fce72",
   "metadata": {},
   "outputs": [
    {
     "data": {
      "text/plain": [
       "{'name': 'gopal jee', 'class': 9, 'roll no': 22, 'subject': 'all'}"
      ]
     },
     "execution_count": 16,
     "metadata": {},
     "output_type": "execute_result"
    }
   ],
   "source": [
    "ld1"
   ]
  },
  {
   "cell_type": "code",
   "execution_count": 17,
   "id": "0968d891",
   "metadata": {},
   "outputs": [
    {
     "data": {
      "text/plain": [
       "{'first name': 'kishan',\n",
       " 'middle name': 'kumar',\n",
       " 'last name': 'thakur',\n",
       " 'class': 'B.com(H)',\n",
       " 'course': 'Data Science',\n",
       " 'Roll no': 21}"
      ]
     },
     "execution_count": 17,
     "metadata": {},
     "output_type": "execute_result"
    }
   ],
   "source": [
    "dict1"
   ]
  },
  {
   "cell_type": "code",
   "execution_count": 18,
   "id": "28eeb8a4",
   "metadata": {},
   "outputs": [
    {
     "data": {
      "text/plain": [
       "{'first name': 'rohit',\n",
       " 'middle name': 'joshi',\n",
       " 'last name': 'mandal',\n",
       " 'class': 'B.com',\n",
       " 'course': 'sap',\n",
       " 'Roll no': 20}"
      ]
     },
     "execution_count": 18,
     "metadata": {},
     "output_type": "execute_result"
    }
   ],
   "source": [
    "dict2"
   ]
  },
  {
   "cell_type": "code",
   "execution_count": 21,
   "id": "5ded0da1",
   "metadata": {},
   "outputs": [
    {
     "data": {
      "text/plain": [
       "'kishan'"
      ]
     },
     "execution_count": 21,
     "metadata": {},
     "output_type": "execute_result"
    }
   ],
   "source": [
    "dict1.get(\"first name\",\"rohit\")"
   ]
  },
  {
   "cell_type": "code",
   "execution_count": 22,
   "id": "aafec7d5",
   "metadata": {},
   "outputs": [
    {
     "data": {
      "text/plain": [
       "'rohit'"
      ]
     },
     "execution_count": 22,
     "metadata": {},
     "output_type": "execute_result"
    }
   ],
   "source": [
    "dict1.get(\"name\",\"rohit\")"
   ]
  },
  {
   "cell_type": "code",
   "execution_count": 32,
   "id": "77e64f7d",
   "metadata": {},
   "outputs": [
    {
     "data": {
      "text/plain": [
       "{1: None, 2: None, 3: None, 4: None, 5: None}"
      ]
     },
     "execution_count": 32,
     "metadata": {},
     "output_type": "execute_result"
    }
   ],
   "source": [
    "ls2\n",
    "dict3={}\n",
    "dict3=dict3.fromkeys(ls2)\n",
    "dict3"
   ]
  },
  {
   "cell_type": "code",
   "execution_count": 38,
   "id": "c665a587",
   "metadata": {},
   "outputs": [
    {
     "data": {
      "text/plain": [
       "21"
      ]
     },
     "execution_count": 38,
     "metadata": {},
     "output_type": "execute_result"
    }
   ],
   "source": [
    "dict1.pop(\"Roll no\")"
   ]
  },
  {
   "cell_type": "code",
   "execution_count": 39,
   "id": "0dd2a337",
   "metadata": {},
   "outputs": [
    {
     "data": {
      "text/plain": [
       "{'first name': 'kishan',\n",
       " 'middle name': 'kumar',\n",
       " 'last name': 'thakur',\n",
       " 'class': 'B.com(H)',\n",
       " 'course': 'Data Science'}"
      ]
     },
     "execution_count": 39,
     "metadata": {},
     "output_type": "execute_result"
    }
   ],
   "source": [
    "dict1"
   ]
  },
  {
   "cell_type": "code",
   "execution_count": 40,
   "id": "f6322a25",
   "metadata": {},
   "outputs": [
    {
     "data": {
      "text/plain": [
       "('Roll no', 20)"
      ]
     },
     "execution_count": 40,
     "metadata": {},
     "output_type": "execute_result"
    }
   ],
   "source": [
    "dict2.popitem()"
   ]
  },
  {
   "cell_type": "code",
   "execution_count": 41,
   "id": "96810b78",
   "metadata": {},
   "outputs": [
    {
     "data": {
      "text/plain": [
       "{'first name': 'rohit',\n",
       " 'middle name': 'joshi',\n",
       " 'last name': 'mandal',\n",
       " 'class': 'B.com',\n",
       " 'course': 'sap'}"
      ]
     },
     "execution_count": 41,
     "metadata": {},
     "output_type": "execute_result"
    }
   ],
   "source": [
    "dict2"
   ]
  },
  {
   "cell_type": "code",
   "execution_count": 42,
   "id": "d78ed620",
   "metadata": {},
   "outputs": [],
   "source": [
    "dict1.update(dict2)"
   ]
  },
  {
   "cell_type": "code",
   "execution_count": 45,
   "id": "39ad4a63",
   "metadata": {},
   "outputs": [
    {
     "data": {
      "text/plain": [
       "{'first name': 'rohit',\n",
       " 'middle name': 'joshi',\n",
       " 'last name': 'mandal',\n",
       " 'class': 'B.com',\n",
       " 'course': 'sap'}"
      ]
     },
     "execution_count": 45,
     "metadata": {},
     "output_type": "execute_result"
    }
   ],
   "source": [
    "dict1"
   ]
  },
  {
   "cell_type": "code",
   "execution_count": 51,
   "id": "92c98fef",
   "metadata": {},
   "outputs": [
    {
     "data": {
      "text/plain": [
       "['class', 'course', 'first name', 'last name', 'middle name']"
      ]
     },
     "execution_count": 51,
     "metadata": {},
     "output_type": "execute_result"
    }
   ],
   "source": [
    "sorted(dict1)"
   ]
  },
  {
   "cell_type": "code",
   "execution_count": 52,
   "id": "b07c6fa8",
   "metadata": {},
   "outputs": [
    {
     "data": {
      "text/plain": [
       "5"
      ]
     },
     "execution_count": 52,
     "metadata": {},
     "output_type": "execute_result"
    }
   ],
   "source": [
    "len(dict1)"
   ]
  },
  {
   "cell_type": "code",
   "execution_count": 53,
   "id": "b7bd0938",
   "metadata": {},
   "outputs": [
    {
     "data": {
      "text/plain": [
       "True"
      ]
     },
     "execution_count": 53,
     "metadata": {},
     "output_type": "execute_result"
    }
   ],
   "source": [
    "any(dict1)"
   ]
  },
  {
   "cell_type": "code",
   "execution_count": 54,
   "id": "31e82e99",
   "metadata": {},
   "outputs": [
    {
     "data": {
      "text/plain": [
       "True"
      ]
     },
     "execution_count": 54,
     "metadata": {},
     "output_type": "execute_result"
    }
   ],
   "source": [
    "all(dict1)"
   ]
  },
  {
   "cell_type": "code",
   "execution_count": 55,
   "id": "24543ad3",
   "metadata": {},
   "outputs": [
    {
     "data": {
      "text/plain": [
       "True"
      ]
     },
     "execution_count": 55,
     "metadata": {},
     "output_type": "execute_result"
    }
   ],
   "source": [
    "any(dict3)"
   ]
  },
  {
   "cell_type": "code",
   "execution_count": 56,
   "id": "6deec2b5",
   "metadata": {},
   "outputs": [
    {
     "data": {
      "text/plain": [
       "True"
      ]
     },
     "execution_count": 56,
     "metadata": {},
     "output_type": "execute_result"
    }
   ],
   "source": [
    "all(dict3)"
   ]
  },
  {
   "cell_type": "code",
   "execution_count": null,
   "id": "e77a4b3b",
   "metadata": {},
   "outputs": [],
   "source": []
  },
  {
   "cell_type": "code",
   "execution_count": null,
   "id": "2bcfff75",
   "metadata": {},
   "outputs": [],
   "source": []
  }
 ],
 "metadata": {
  "kernelspec": {
   "display_name": "Python 3 (ipykernel)",
   "language": "python",
   "name": "python3"
  },
  "language_info": {
   "codemirror_mode": {
    "name": "ipython",
    "version": 3
   },
   "file_extension": ".py",
   "mimetype": "text/x-python",
   "name": "python",
   "nbconvert_exporter": "python",
   "pygments_lexer": "ipython3",
   "version": "3.10.2"
  }
 },
 "nbformat": 4,
 "nbformat_minor": 5
}
