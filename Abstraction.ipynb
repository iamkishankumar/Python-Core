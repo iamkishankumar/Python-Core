{
 "cells": [
  {
   "cell_type": "code",
   "execution_count": 2,
   "id": "7d5f7942",
   "metadata": {},
   "outputs": [
    {
     "name": "stdout",
     "output_type": "stream",
     "text": [
      "SBI Interest is 5%\n",
      "HDFC Interest is 2%\n"
     ]
    }
   ],
   "source": [
    "class RBI: # Abtract Class\n",
    "    def Interest(self): # Abstract Method\n",
    "        pass\n",
    "    \n",
    "class SBI(RBI): # Child Class\n",
    "    def Interest(self): # RBI Interest Implements here\n",
    "        print(\"SBI Interest is 5%\")\n",
    "        \n",
    "class HDFC(RBI): # Child Class\n",
    "    def Interest(self): # RBI Interest Implements here\n",
    "        print(\"HDFC Interest is 2%\")\n",
    "\n",
    "        \n",
    "# Creating an object of CLass SBI\n",
    "s = SBI()\n",
    "\n",
    "# Creating an object of Class HDFC\n",
    "h = HDFC()\n",
    "\n",
    "\n",
    "s.Interest() # SBI Interest Method Called\n",
    "h.Interest() # HDFC Interest Method Called\n"
   ]
  },
  {
   "cell_type": "code",
   "execution_count": 3,
   "id": "b1e37c4e",
   "metadata": {},
   "outputs": [
    {
     "name": "stdout",
     "output_type": "stream",
     "text": [
      "I can bark\n",
      "I can hisss\n"
     ]
    }
   ],
   "source": [
    "class Animal: # Abstract Class/Parent Class\n",
    "    def move(self): # Abstract Method\n",
    "        pass\n",
    "    \n",
    "class Dog(Animal): # Child Class\n",
    "    def move(self): # Class Animal Implements method here\n",
    "        print(\"I can bark\")\n",
    "        \n",
    "class Snake(Animal): # Child Class\n",
    "    def move(self):\n",
    "        print(\"I can hisss\")\n",
    "        \n",
    "# Creating an object of Class Dog\n",
    "d = Dog()\n",
    "\n",
    "# Creating an object of class Snake\n",
    "s = Snake()\n",
    "\n",
    "\n",
    "d.move() \n",
    "s.move()\n",
    "        "
   ]
  }
 ],
 "metadata": {
  "kernelspec": {
   "display_name": "Python 3",
   "language": "python",
   "name": "python3"
  },
  "language_info": {
   "codemirror_mode": {
    "name": "ipython",
    "version": 3
   },
   "file_extension": ".py",
   "mimetype": "text/x-python",
   "name": "python",
   "nbconvert_exporter": "python",
   "pygments_lexer": "ipython3",
   "version": "3.9.5"
  }
 },
 "nbformat": 4,
 "nbformat_minor": 5
}
