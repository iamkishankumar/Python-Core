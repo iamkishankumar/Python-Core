{
 "cells": [
  {
   "cell_type": "markdown",
   "metadata": {},
   "source": [
    "## Object Oriented programming"
   ]
  },
  {
   "cell_type": "markdown",
   "metadata": {},
   "source": [
    "Object-oriented programming is a programming paradigm that provides a means of structuring programs so that properties and behaviours are bundled into individual objects. \n",
    "\n",
    "For instance, an object could represent a person with properties like a name, age, and address and behaviours such as walking, talking, breathing, and running. Or it could represent an email with properties like a recipient list, subject, and body and behaviours like adding attachments and sending.\n",
    "\n",
    "Python is an object-oriented programming language. Almost everything in Python is an object, with its properties and methods."
   ]
  },
  {
   "cell_type": "markdown",
   "metadata": {},
   "source": [
    "## Class-:\n",
    "\n",
    "A class is a blueprint for how something should be defined.\n",
    "\n",
    "A straight forward answer to this question is- A class is a collection of objects. Unlike the primitive data structures, classes are data structures that the user defines. They make the code more manageable."
   ]
  },
  {
   "cell_type": "code",
   "execution_count": 1,
   "metadata": {},
   "outputs": [
    {
     "name": "stdout",
     "output_type": "stream",
     "text": [
      "the glseries of black color is having a top speed of 220\n"
     ]
    }
   ],
   "source": [
    "class car:\n",
    "    car_brand = \"M\"\n",
    "    def __init__(self,name,color,ts):\n",
    "        self.name = name\n",
    "        self.color = color\n",
    "        self.ts = ts\n",
    "    def hatchback(self):\n",
    "        print(f\"the {self.name} of {self.color} color is having a top speed of {self.ts}\")\n",
    "        \n",
    "c = car(\"glseries\",\"black\",220)\n",
    "c.hatchback()"
   ]
  },
  {
   "cell_type": "code",
   "execution_count": 9,
   "metadata": {},
   "outputs": [
    {
     "name": "stdout",
     "output_type": "stream",
     "text": [
      "enter length: 10\n",
      "enter breadth: 8\n",
      "the perimeter is :  36\n",
      "the area is :  80\n"
     ]
    }
   ],
   "source": [
    "class shape:\n",
    "    shape_type = \"rectangle\"\n",
    "    def __init__(self,l,b):\n",
    "        self.l= int(input(\"enter length: \"))\n",
    "        self.b= int(input(\"enter breadth: \"))\n",
    "    def pr(self):\n",
    "        print(\"the perimeter is : \",2*(self.l+self.b))\n",
    "        \n",
    "    def ar(self):\n",
    "        print(\"the area is : \",(self.l*self.b))\n",
    "s = shape(10,9)\n",
    "s.pr()\n",
    "s.ar()"
   ]
  },
  {
   "cell_type": "code",
   "execution_count": 3,
   "metadata": {},
   "outputs": [
    {
     "data": {
      "text/plain": [
       "['__add__',\n",
       " '__class__',\n",
       " '__contains__',\n",
       " '__delattr__',\n",
       " '__delitem__',\n",
       " '__dir__',\n",
       " '__doc__',\n",
       " '__eq__',\n",
       " '__format__',\n",
       " '__ge__',\n",
       " '__getattribute__',\n",
       " '__getitem__',\n",
       " '__gt__',\n",
       " '__hash__',\n",
       " '__iadd__',\n",
       " '__imul__',\n",
       " '__init__',\n",
       " '__init_subclass__',\n",
       " '__iter__',\n",
       " '__le__',\n",
       " '__len__',\n",
       " '__lt__',\n",
       " '__mul__',\n",
       " '__ne__',\n",
       " '__new__',\n",
       " '__reduce__',\n",
       " '__reduce_ex__',\n",
       " '__repr__',\n",
       " '__reversed__',\n",
       " '__rmul__',\n",
       " '__setattr__',\n",
       " '__setitem__',\n",
       " '__sizeof__',\n",
       " '__str__',\n",
       " '__subclasshook__',\n",
       " 'append',\n",
       " 'clear',\n",
       " 'copy',\n",
       " 'count',\n",
       " 'extend',\n",
       " 'index',\n",
       " 'insert',\n",
       " 'pop',\n",
       " 'remove',\n",
       " 'reverse',\n",
       " 'sort']"
      ]
     },
     "execution_count": 3,
     "metadata": {},
     "output_type": "execute_result"
    }
   ],
   "source": [
    "dir(list)"
   ]
  },
  {
   "cell_type": "code",
   "execution_count": 5,
   "metadata": {},
   "outputs": [
    {
     "name": "stdout",
     "output_type": "stream",
     "text": [
      "the name of the car is dzire and its top speed is 120km/hr \n"
     ]
    }
   ],
   "source": [
    "class Car:\n",
    "    car_type = \"Sedan\" #class attribute\n",
    "    def show(self):\n",
    "        print(\"the name of the car is dzire and its top speed is 120km/hr \")\n",
    "c = Car()\n",
    "c.show()"
   ]
  },
  {
   "cell_type": "code",
   "execution_count": 7,
   "metadata": {},
   "outputs": [
    {
     "name": "stdout",
     "output_type": "stream",
     "text": [
      "100\n",
      " the color of the car is black and the mileage is 13 with maxspeed 120\n",
      "Sedan\n",
      "black 13 120\n"
     ]
    }
   ],
   "source": [
    "class Car:\n",
    "    car_type = \"Sedan\"\n",
    "    \n",
    "    def __init__(test1,color,mileage,maxspeed):\n",
    "        test1.color = color #instance attribute\n",
    "        test1.mileage = mileage\n",
    "        test1.maxspeed = maxspeed\n",
    "    def show(test1,x):\n",
    "        print(x)\n",
    "        print(f\" the color of the car is {test1.color} and the mileage is {test1.mileage} with maxspeed {test1.maxspeed}\")\n",
    "c = Car(\"black\",13,120)\n",
    "c.show(100)\n",
    "print(c.car_type)\n",
    "print(c.color,c.mileage,c.maxspeed)"
   ]
  },
  {
   "cell_type": "code",
   "execution_count": 2,
   "metadata": {},
   "outputs": [
    {
     "name": "stdout",
     "output_type": "stream",
     "text": [
      "This Vehicle has 2 and its a Petrol vehicle\n",
      "Its a 2, so sitting capacity is: 2\n",
      "This Vehicle has 4 and its a Diesel vehicle\n",
      "Sitting Capacity is {sittingCapac}, kindly confirm if its a car or a bus? car\n",
      "Sitting Capacity is 6 and as confirmed by user, its a car\n"
     ]
    }
   ],
   "source": [
    "class vehicle:\n",
    "    def __init__(self,vehWheels,vehType,):\n",
    "        self.vehWheels = vehWheels\n",
    "        self.vehType = vehType\n",
    "    def vehDetails(self):\n",
    "        print(f\"This Vehicle has {self.vehWheels} and its a {self.vehType} vehicle\")\n",
    "    def sittingCapa(self):\n",
    "        #print(sitCapa)\n",
    "        if self.vehWheels == 2:\n",
    "            self.sitCapa = 2\n",
    "            print(f\"Its a {self.vehWheels}, so sitting capacity is: {self.sitCapa}\")\n",
    "        elif self.vehWheels == 3:\n",
    "            print(f\"Its a {self.vehWheels}, so sitting capacity is: {self.sitCapa}\")\n",
    "        elif self.vehWheels == 4:\n",
    "            s1 = input(\"Sitting Capacity is {sittingCapac}, kindly confirm if its a car or a bus? \")\n",
    "            if s1 == \"car\":\n",
    "                sittingCapac = 6\n",
    "                print(f\"Sitting Capacity is 6 and as confirmed by user, its a {s1}\")\n",
    "            elif s1 == \"bus\":\n",
    "                sittingCapac = 50\n",
    "                print(f\"Sitting Capacity is {sittingCapac} and as confirmed by user, its a {s1}\")\n",
    "            else:\n",
    "                print(\"Invalid input for number of wheels the vehicle is having!\")\n",
    "\n",
    "r1 = vehicle(2,\"Petrol\")\n",
    "r1.vehDetails()\n",
    "r1.sittingCapa()\n",
    "r2 = vehicle(4,\"Diesel\")\n",
    "r2.vehDetails()\n",
    "r2.sittingCapa()\n",
    "\n"
   ]
  },
  {
   "cell_type": "markdown",
   "metadata": {},
   "source": [
    "define a class vehicle , define constructor of the class , take instance variables as wheelerof veh,type of wheeler - petrol,diesel or electric. define a method of the class to print the details of the vehicle also define a method sitting capacity . and if the wheeler is two - sitting capacity should be printed as 2 if the wheeler is 3 sitting capacity should be 3 and if it four , ask user whether its a car , bus.if its a car print 6 , if its is bus say 50.\n"
   ]
  },
  {
   "cell_type": "code",
   "execution_count": 18,
   "metadata": {},
   "outputs": [],
   "source": [
    "class class_name:\n",
    "    a  = 10\n",
    "    b  = 20\n",
    "obj = class_name()"
   ]
  },
  {
   "cell_type": "code",
   "execution_count": 20,
   "metadata": {},
   "outputs": [
    {
     "name": "stdout",
     "output_type": "stream",
     "text": [
      "10 20\n"
     ]
    }
   ],
   "source": [
    "print(obj.a,obj.b)"
   ]
  },
  {
   "cell_type": "markdown",
   "metadata": {},
   "source": [
    "### syntax:\n",
    "class class_name:\n",
    "\n",
    "      class body"
   ]
  },
  {
   "cell_type": "code",
   "execution_count": 13,
   "metadata": {},
   "outputs": [],
   "source": [
    "class Car:\n",
    "    pass\n",
    "    "
   ]
  },
  {
   "cell_type": "markdown",
   "metadata": {},
   "source": [
    "### Object-:\n",
    "While the class is the blueprint, an instance is an object that is built from a class and contains real data. \n",
    "\n",
    "The object is an entity that has state and behaviour. \n",
    "\n",
    "When we define a class only the description or a blueprint of the object is created. There is no memory allocation until we create its object.\n",
    "\n",
    "The objector instance contains real data or information.\n",
    "\n",
    "Instantiation is nothing but creating a new object/instance of a class\n",
    "### how to create an object-:\n",
    "instace_variable/object_variable = class_name()"
   ]
  },
  {
   "cell_type": "code",
   "execution_count": 14,
   "metadata": {},
   "outputs": [],
   "source": [
    "class my_first_class:\n",
    "    a = 10\n",
    "    b = 20"
   ]
  },
  {
   "cell_type": "code",
   "execution_count": 15,
   "metadata": {},
   "outputs": [],
   "source": [
    "obj = my_first_class()"
   ]
  },
  {
   "cell_type": "code",
   "execution_count": 17,
   "metadata": {},
   "outputs": [
    {
     "name": "stdout",
     "output_type": "stream",
     "text": [
      "10\n",
      "20\n"
     ]
    }
   ],
   "source": [
    "print(obj.a)\n",
    "print(obj.b)\n"
   ]
  },
  {
   "cell_type": "code",
   "execution_count": 1,
   "metadata": {},
   "outputs": [
    {
     "name": "stdout",
     "output_type": "stream",
     "text": [
      "<class 'list'>\n"
     ]
    }
   ],
   "source": [
    "print(type([1,2,4]))"
   ]
  },
  {
   "cell_type": "markdown",
   "metadata": {},
   "source": [
    "### Type of variables inside class and object-:"
   ]
  },
  {
   "cell_type": "markdown",
   "metadata": {},
   "source": [
    "1. local variable : Local variables are those variables which are declared inside a function (first time). These variables can only be used inside a function. You can not use/access them outside that function.\n",
    "2. class variable : Class variable are those variables that are declared inside a class with the class name. these variables can be access inside or outside a class using class name.\n",
    "3. Instance Variable:a variable declared inside a class or outside the class. They are also called the variable of object. Since they are object variable so they will be accessed using object name.We can access instance anywhere inside or outside the class.If you have created constructor then you will access the instance variable with self parameter inside the class and using instance name outside the class."
   ]
  },
  {
   "cell_type": "code",
   "execution_count": 21,
   "metadata": {},
   "outputs": [
    {
     "data": {
      "text/plain": [
       "['__add__',\n",
       " '__class__',\n",
       " '__contains__',\n",
       " '__delattr__',\n",
       " '__delitem__',\n",
       " '__dir__',\n",
       " '__doc__',\n",
       " '__eq__',\n",
       " '__format__',\n",
       " '__ge__',\n",
       " '__getattribute__',\n",
       " '__getitem__',\n",
       " '__gt__',\n",
       " '__hash__',\n",
       " '__iadd__',\n",
       " '__imul__',\n",
       " '__init__',\n",
       " '__init_subclass__',\n",
       " '__iter__',\n",
       " '__le__',\n",
       " '__len__',\n",
       " '__lt__',\n",
       " '__mul__',\n",
       " '__ne__',\n",
       " '__new__',\n",
       " '__reduce__',\n",
       " '__reduce_ex__',\n",
       " '__repr__',\n",
       " '__reversed__',\n",
       " '__rmul__',\n",
       " '__setattr__',\n",
       " '__setitem__',\n",
       " '__sizeof__',\n",
       " '__str__',\n",
       " '__subclasshook__',\n",
       " 'append',\n",
       " 'clear',\n",
       " 'copy',\n",
       " 'count',\n",
       " 'extend',\n",
       " 'index',\n",
       " 'insert',\n",
       " 'pop',\n",
       " 'remove',\n",
       " 'reverse',\n",
       " 'sort']"
      ]
     },
     "execution_count": 21,
     "metadata": {},
     "output_type": "execute_result"
    }
   ],
   "source": [
    "#dir(list)"
   ]
  },
  {
   "cell_type": "code",
   "execution_count": null,
   "metadata": {},
   "outputs": [],
   "source": [
    "l = [1,2]\n",
    "l.append"
   ]
  },
  {
   "cell_type": "markdown",
   "metadata": {},
   "source": [
    "define a class vehicle , define constructor of the class , take instance variables as \n",
    "wheeler of vehicle,type of wheeler - petrol,diesel or electric.\n",
    "define a method of the class to print the details of the vehicle \n",
    "also define a method sitting capacity . and if the wheeler is two - sitting capacity should be printed as 2 if the wheeler is 3 sitting capacity should be 3 and if it four , ask user whether its a car , bus.if its a car print 6 , if its is bus say 50. "
   ]
  },
  {
   "cell_type": "code",
   "execution_count": 37,
   "metadata": {},
   "outputs": [
    {
     "name": "stdout",
     "output_type": "stream",
     "text": [
      "the car, is great at higherspeed and mileage ,this is Ferari 340SX\n"
     ]
    }
   ],
   "source": [
    "class Student:\n",
    "    student_type = \"college\"    #class attribute/variable\n",
    "    def show(self,a,b,c,x):\n",
    "        print(f\"the {a} is great at {b} and {c} ,this is {x}\")\n",
    "stud = Student()\n",
    "stud.show(\"car,\",\"higherspeed\",\"mileage\",\"Ferari 340SX\")"
   ]
  },
  {
   "cell_type": "code",
   "execution_count": 36,
   "metadata": {},
   "outputs": [
    {
     "name": "stdout",
     "output_type": "stream",
     "text": [
      "Ferari is having 340 km/hr\n"
     ]
    }
   ],
   "source": [
    "class Car:\n",
    "    def show(self,a,b):\n",
    "        print(f\"{a} is having {b} km/hr\")\n",
    "c = Car()\n",
    "c.show(\"Ferari\",340)"
   ]
  },
  {
   "cell_type": "code",
   "execution_count": 32,
   "metadata": {},
   "outputs": [
    {
     "ename": "TypeError",
     "evalue": "show() takes 4 positional arguments but 5 were given",
     "output_type": "error",
     "traceback": [
      "\u001b[1;31m---------------------------------------------------------------------------\u001b[0m",
      "\u001b[1;31mTypeError\u001b[0m                                 Traceback (most recent call last)",
      "\u001b[1;32m<ipython-input-32-fdd142d42d21>\u001b[0m in \u001b[0;36m<module>\u001b[1;34m\u001b[0m\n\u001b[1;32m----> 1\u001b[1;33m \u001b[0mstud\u001b[0m\u001b[1;33m.\u001b[0m\u001b[0mshow\u001b[0m\u001b[1;33m(\u001b[0m\u001b[1;34m\"car\"\u001b[0m\u001b[1;33m,\u001b[0m\u001b[1;34m\"higherspeed\"\u001b[0m\u001b[1;33m,\u001b[0m\u001b[1;34m\"mileage\"\u001b[0m\u001b[1;33m,\u001b[0m\u001b[1;34m\"Ferari 340SX\"\u001b[0m\u001b[1;33m)\u001b[0m\u001b[1;33m\u001b[0m\u001b[1;33m\u001b[0m\u001b[0m\n\u001b[0m",
      "\u001b[1;31mTypeError\u001b[0m: show() takes 4 positional arguments but 5 were given"
     ]
    }
   ],
   "source": [
    "stud.show(\"car\",\"higherspeed\",\"mileage\",\"Ferari 340SX\")"
   ]
  },
  {
   "cell_type": "code",
   "execution_count": 26,
   "metadata": {},
   "outputs": [
    {
     "data": {
      "text/plain": [
       "'college'"
      ]
     },
     "execution_count": 26,
     "metadata": {},
     "output_type": "execute_result"
    }
   ],
   "source": [
    "stud.student_type"
   ]
  },
  {
   "cell_type": "code",
   "execution_count": 28,
   "metadata": {},
   "outputs": [
    {
     "name": "stdout",
     "output_type": "stream",
     "text": [
      "honda city\n",
      "black\n"
     ]
    }
   ],
   "source": [
    "class Car:\n",
    "    car_type = \"Sedan\"                 #class attribute\n",
    "    def __init__(self,name,color):\n",
    "        self.name = name               #instance attribute   \n",
    "        self.color = color             #instance attribute\n",
    "    \n",
    "    def show(self):\n",
    "        c = 10\n",
    "\n",
    "obj = Car('honda city','black')\n",
    "print(obj.name)\n",
    "print(obj.color)"
   ]
  },
  {
   "cell_type": "code",
   "execution_count": 26,
   "metadata": {},
   "outputs": [
    {
     "data": {
      "text/plain": [
       "'honda city'"
      ]
     },
     "execution_count": 26,
     "metadata": {},
     "output_type": "execute_result"
    }
   ],
   "source": [
    "obj.name"
   ]
  },
  {
   "cell_type": "code",
   "execution_count": 27,
   "metadata": {},
   "outputs": [
    {
     "data": {
      "text/plain": [
       "'black'"
      ]
     },
     "execution_count": 27,
     "metadata": {},
     "output_type": "execute_result"
    }
   ],
   "source": [
    "obj.color"
   ]
  },
  {
   "cell_type": "code",
   "execution_count": 15,
   "metadata": {},
   "outputs": [
    {
     "data": {
      "image/png": "[encoded data removed]",
      "text/plain": [
       "<IPython.core.display.Image object>"
      ]
     },
     "execution_count": 15,
     "metadata": {},
     "output_type": "execute_result"
    }
   ],
   "source": [
    "from IPython.display import Image\n",
    "\n",
    "Image(\"H:/madrid/Tableau/Session 4/i.png\")"
   ]
  },
  {
   "cell_type": "markdown",
   "metadata": {},
   "source": [
    "### Constructor in python-:\n",
    "Constructor is a special function that has the same name as the class.\n",
    "Python has a special name of the constructor which is __init__.\n",
    "__init__ is a method which is immediately and automatically called after an instance has been created. This name is fixed and it is not possible to choose another name. __init__ is one of the so-called magic methods, we will get to know it with some more details later. The __init__ method is used to initialize an instance. There is no explicit constructor or destructor method in Python Syntax of constructor declaration:\n",
    "def __init__(self):\n",
    "### body of the constructor\n",
    "Note-: we create constructor to initialize our instance variables inside a class.\n",
    "Constructor can take any number of parameters. The first parameter is the copy of the name of instance/object inside the class (it means constructors first variable is nothing but just a name that is another reference of your object).\n",
    "\n",
    "### Self Parameter-:\n",
    "It is the first parameter of any constructor. You can give it any name but this will be the variable using which you can access of the instance variables inside a class. Because self is just a copy of your instance variable. Note: The self parameter is a reference to the current instance of the class, and is used to access variables that belong to the class.\n",
    "\n",
    "Types of constructors : • default constructor: The default constructor is simple constructor which doesn’t accept any arguments. If you did not create any constructor in your program it will automatically create by the interpreter. \n",
    "\n",
    "Syntax-: def __init__(): \n",
    "\n",
    "• parameterized constructor: constructor with parameters is known as parameterized constructor. The parameterized constructor takes its first argument as a reference to the instance being constructed known as self and the rest of the arguments are provided by the programmer.\n",
    "\n",
    "Note -: you cannot overload the constructor in python. If you try, it will automatically follow python override property."
   ]
  },
  {
   "cell_type": "code",
   "execution_count": 29,
   "metadata": {},
   "outputs": [
    {
     "name": "stdout",
     "output_type": "stream",
     "text": [
      "20\n",
      "ankur\n",
      "12\n"
     ]
    }
   ],
   "source": [
    "class student:\n",
    "    def __init__(self,name,age,cls):\n",
    "        self.age = age\n",
    "        self.name = name\n",
    "        self.cls = cls\n",
    "obj = student('ankur',20,12)\n",
    "print(obj.age)\n",
    "print(obj.name)\n",
    "print(obj.cls)"
   ]
  },
  {
   "cell_type": "code",
   "execution_count": 5,
   "metadata": {},
   "outputs": [
    {
     "data": {
      "text/plain": [
       "<__main__.student at 0x180e1d1eb88>"
      ]
     },
     "execution_count": 5,
     "metadata": {},
     "output_type": "execute_result"
    }
   ],
   "source": [
    "obj"
   ]
  },
  {
   "cell_type": "code",
   "execution_count": 2,
   "metadata": {},
   "outputs": [
    {
     "data": {
      "text/plain": [
       "'ankur'"
      ]
     },
     "execution_count": 2,
     "metadata": {},
     "output_type": "execute_result"
    }
   ],
   "source": [
    "obj.name"
   ]
  },
  {
   "cell_type": "code",
   "execution_count": 3,
   "metadata": {},
   "outputs": [
    {
     "name": "stdout",
     "output_type": "stream",
     "text": [
      "ankur 20 12\n"
     ]
    }
   ],
   "source": [
    "print(obj.name,obj.age,obj.cls)"
   ]
  },
  {
   "cell_type": "code",
   "execution_count": 31,
   "metadata": {},
   "outputs": [
    {
     "name": "stdout",
     "output_type": "stream",
     "text": [
      "history\n",
      "science\n",
      "maths\n",
      "Ankur roll no is 16 and his age is 17\n"
     ]
    }
   ],
   "source": [
    "class student:\n",
    "    def __init__(self,name,age,cls):\n",
    "        self.age = age\n",
    "        self.name = name\n",
    "        self.cls = cls\n",
    "        \n",
    "    def subject(self):\n",
    "        print('history')\n",
    "        print('science')\n",
    "        print('maths')\n",
    "        \n",
    "    def roll(self,x):\n",
    "        print(f\"{self.name} roll no is {x} and his age is {self.age}\")\n",
    "\n",
    "stud = student(\"Ankur\",17,12)\n",
    "stud.subject()\n",
    "stud.roll(16)"
   ]
  },
  {
   "cell_type": "code",
   "execution_count": 5,
   "metadata": {},
   "outputs": [],
   "source": [
    "s1 = student('ankur' , 20, 12)"
   ]
  },
  {
   "cell_type": "code",
   "execution_count": 6,
   "metadata": {},
   "outputs": [
    {
     "name": "stdout",
     "output_type": "stream",
     "text": [
      "history\n",
      "science\n",
      "maths\n"
     ]
    }
   ],
   "source": [
    "s1.subject()"
   ]
  },
  {
   "cell_type": "code",
   "execution_count": 7,
   "metadata": {},
   "outputs": [
    {
     "name": "stdout",
     "output_type": "stream",
     "text": [
      "ankur roll no is 12 and his age is 20\n"
     ]
    }
   ],
   "source": [
    "s1.roll(12)"
   ]
  },
  {
   "cell_type": "markdown",
   "metadata": {},
   "source": [
    "Q1. Construct a class car with attributes max speed and mileage \n",
    "also define a method description which prints the name max speed and mileage \n",
    "of cars . and one more method named as sitting capacity and u need to print the sitting capacity of the car "
   ]
  },
  {
   "cell_type": "code",
   "execution_count": null,
   "metadata": {},
   "outputs": [],
   "source": [
    "class CAR:\n",
    "        #class attribute/variable\n",
    "    def __init__(self,max_speed,mileage,sitting_capacity):\n",
    "        self.max_speed = max_speed\n",
    "        self.mileage = mileage\n",
    "        self.sitting_capacity = sitting_capacity\n",
    "    def description(self):\n",
    "        print(f\"the speed is {self.max_speed} and the mileage is {self.mileage}\")\n",
    "    def sitting_capacity(self):\n",
    "        print(f\"sitting capacity is {self.sitting_capacity}\")\n",
    "        \n",
    "stud.show(\"200\",\"10kmpl\",\"2\")\n"
   ]
  },
  {
   "cell_type": "code",
   "execution_count": 32,
   "metadata": {},
   "outputs": [
    {
     "name": "stdout",
     "output_type": "stream",
     "text": [
      "the car speed is  320 and the mileage is  13\n"
     ]
    }
   ],
   "source": [
    "class car:\n",
    "    def __init__(self,maxspeed,mileage):\n",
    "        self.maxspeed = maxspeed\n",
    "        self.mileage = mileage\n",
    "        \n",
    "    def description(self):\n",
    "        print(\"the car speed is \",self.maxspeed,\"and the mileage is \",self.mileage)\n",
    "\n",
    "c = car(320,13)\n",
    "c.description()"
   ]
  },
  {
   "cell_type": "code",
   "execution_count": 9,
   "metadata": {},
   "outputs": [
    {
     "name": "stdout",
     "output_type": "stream",
     "text": [
      " the Audi gives 12 km/l mileage and its maxspeed is 320 km/hr\n"
     ]
    }
   ],
   "source": [
    "class Car:\n",
    "    def __init__(self,maxspeed,mileage):\n",
    "        self.maxspeed = maxspeed\n",
    "        self.mileage = mileage\n",
    "        \n",
    "    def description(self):\n",
    "        print(f\" the Audi gives {self.mileage} km/l mileage and its maxspeed is {self.maxspeed} km/hr\")\n",
    "        \n",
    "c= Car(320,12)\n",
    "c.description()\n",
    "              "
   ]
  },
  {
   "cell_type": "markdown",
   "metadata": {},
   "source": [
    "### Modify the Self\n"
   ]
  },
  {
   "cell_type": "markdown",
   "metadata": {},
   "source": [
    "### Object oriented properties-:"
   ]
  },
  {
   "cell_type": "markdown",
   "metadata": {},
   "source": [
    "### 1. Inheritance\n",
    "Inheritance allows us to define a class that inherits all the methods and properties from another class.\n",
    "Parent class is the class being inherited from, also called base class.\n",
    "Child class is the class that inherits from another class, also called derived class.\n"
   ]
  },
  {
   "cell_type": "code",
   "execution_count": 5,
   "metadata": {},
   "outputs": [
    {
     "ename": "NameError",
     "evalue": "name 'fname' is not defined",
     "output_type": "error",
     "traceback": [
      "\u001b[1;31m---------------------------------------------------------------------------\u001b[0m",
      "\u001b[1;31mNameError\u001b[0m                                 Traceback (most recent call last)",
      "\u001b[1;32m<ipython-input-5-886074c10a79>\u001b[0m in \u001b[0;36m<module>\u001b[1;34m\u001b[0m\n\u001b[0;32m     12\u001b[0m     \u001b[1;32mdef\u001b[0m \u001b[0mdetails\u001b[0m\u001b[1;33m(\u001b[0m\u001b[0mself\u001b[0m\u001b[1;33m)\u001b[0m\u001b[1;33m:\u001b[0m\u001b[1;33m\u001b[0m\u001b[1;33m\u001b[0m\u001b[0m\n\u001b[0;32m     13\u001b[0m         \u001b[0mprint\u001b[0m\u001b[1;33m(\u001b[0m\u001b[1;34mf\"the {self.fname} {self.lname} is having empid {self.empid}\"\u001b[0m\u001b[1;33m)\u001b[0m\u001b[1;33m\u001b[0m\u001b[1;33m\u001b[0m\u001b[0m\n\u001b[1;32m---> 14\u001b[1;33m \u001b[0memp\u001b[0m \u001b[1;33m=\u001b[0m \u001b[0mEmployee\u001b[0m\u001b[1;33m(\u001b[0m\u001b[1;34m\"110023\"\u001b[0m\u001b[1;33m)\u001b[0m\u001b[1;33m\u001b[0m\u001b[1;33m\u001b[0m\u001b[0m\n\u001b[0m\u001b[0;32m     15\u001b[0m \u001b[0memp\u001b[0m\u001b[1;33m.\u001b[0m\u001b[0mprintname\u001b[0m\u001b[1;33m(\u001b[0m\u001b[1;33m)\u001b[0m\u001b[1;33m\u001b[0m\u001b[1;33m\u001b[0m\u001b[0m\n\u001b[0;32m     16\u001b[0m \u001b[0memp\u001b[0m\u001b[1;33m.\u001b[0m\u001b[0mfname\u001b[0m\u001b[1;33m\u001b[0m\u001b[1;33m\u001b[0m\u001b[0m\n",
      "\u001b[1;32m<ipython-input-5-886074c10a79>\u001b[0m in \u001b[0;36m__init__\u001b[1;34m(self, empid)\u001b[0m\n\u001b[0;32m      9\u001b[0m         \u001b[0mself\u001b[0m\u001b[1;33m.\u001b[0m\u001b[0mempid\u001b[0m \u001b[1;33m=\u001b[0m \u001b[0mempid\u001b[0m\u001b[1;33m\u001b[0m\u001b[1;33m\u001b[0m\u001b[0m\n\u001b[0;32m     10\u001b[0m \u001b[1;33m\u001b[0m\u001b[0m\n\u001b[1;32m---> 11\u001b[1;33m         \u001b[0mPerson\u001b[0m\u001b[1;33m.\u001b[0m\u001b[0m__init__\u001b[0m\u001b[1;33m(\u001b[0m\u001b[0mself\u001b[0m\u001b[1;33m,\u001b[0m\u001b[0mfname\u001b[0m\u001b[1;33m,\u001b[0m\u001b[0mlname\u001b[0m\u001b[1;33m)\u001b[0m\u001b[1;33m\u001b[0m\u001b[1;33m\u001b[0m\u001b[0m\n\u001b[0m\u001b[0;32m     12\u001b[0m     \u001b[1;32mdef\u001b[0m \u001b[0mdetails\u001b[0m\u001b[1;33m(\u001b[0m\u001b[0mself\u001b[0m\u001b[1;33m)\u001b[0m\u001b[1;33m:\u001b[0m\u001b[1;33m\u001b[0m\u001b[1;33m\u001b[0m\u001b[0m\n\u001b[0;32m     13\u001b[0m         \u001b[0mprint\u001b[0m\u001b[1;33m(\u001b[0m\u001b[1;34mf\"the {self.fname} {self.lname} is having empid {self.empid}\"\u001b[0m\u001b[1;33m)\u001b[0m\u001b[1;33m\u001b[0m\u001b[1;33m\u001b[0m\u001b[0m\n",
      "\u001b[1;31mNameError\u001b[0m: name 'fname' is not defined"
     ]
    }
   ],
   "source": [
    "class Person:\n",
    "    def __init__(self,fname,lname):\n",
    "        self.fname = fname\n",
    "        self.lname = lname\n",
    "    def printname(self):\n",
    "        print(self.fname,self.lname)\n",
    "class Employee(Person):\n",
    "    def __init__(self,empid):\n",
    "        self.empid = empid\n",
    "        Person.__init__(self,fname,lname)\n",
    "    def details(self):\n",
    "        print(f\"the {self.fname} {self.lname} is having empid {self.empid}\")\n",
    "emp = Employee(\"110023\")\n",
    "emp.printname()\n",
    "emp.fname\n",
    "emp.lname"
   ]
  },
  {
   "cell_type": "code",
   "execution_count": 11,
   "metadata": {},
   "outputs": [
    {
     "name": "stdout",
     "output_type": "stream",
     "text": [
      "Ankit Singh is a nice person\n",
      "the student id 110023 having name Ankit Singh has scored 100 marks\n"
     ]
    }
   ],
   "source": [
    "class Person:\n",
    "    def __init__(self):\n",
    "        self.fname = \"Ankit\"\n",
    "        self.lname = \"Singh\"\n",
    "    def details(self):\n",
    "        print(f\"{self.fname} {self.lname} is a nice person\")\n",
    "class Student(Person):\n",
    "    def __init__(self,stid):\n",
    "        super().__init__()\n",
    "        self.stid = stid\n",
    "    def print_name(self):\n",
    "        print(f\"the student id {self.stid} having name {self.fname} {self.lname} has scored 100 marks\")\n",
    "s = Student(110023)\n",
    "s.details()\n",
    "s.print_name()"
   ]
  },
  {
   "cell_type": "code",
   "execution_count": null,
   "metadata": {},
   "outputs": [],
   "source": []
  },
  {
   "cell_type": "code",
   "execution_count": 6,
   "metadata": {},
   "outputs": [
    {
     "name": "stdout",
     "output_type": "stream",
     "text": [
      "ankit\n",
      "singh\n",
      "ankit singh\n",
      "the ankit singh is having empid 110023\n"
     ]
    }
   ],
   "source": [
    "class Person:\n",
    "    def __init__(self):\n",
    "        self.fname = input(\"\")\n",
    "        self.lname = input(\"\")\n",
    "    def printname(self):\n",
    "        print(self.fname,self.lname)\n",
    "class Employee(Person):\n",
    "    def __init__(self,empid):\n",
    "        self.empid = empid\n",
    "        Person.__init__(self)\n",
    "    def details(self):\n",
    "        print(f\"the {self.fname} {self.lname} is having empid {self.empid}\")\n",
    "emp = Employee(\"110023\")\n",
    "emp.printname()\n",
    "emp.fname\n",
    "emp.lname\n",
    "emp.details()"
   ]
  },
  {
   "cell_type": "code",
   "execution_count": 8,
   "metadata": {},
   "outputs": [
    {
     "ename": "TypeError",
     "evalue": "__init__() takes 1 positional argument but 2 were given",
     "output_type": "error",
     "traceback": [
      "\u001b[1;31m---------------------------------------------------------------------------\u001b[0m",
      "\u001b[1;31mTypeError\u001b[0m                                 Traceback (most recent call last)",
      "\u001b[1;32m<ipython-input-8-9494e9e19e86>\u001b[0m in \u001b[0;36m<module>\u001b[1;34m\u001b[0m\n\u001b[0;32m     12\u001b[0m     \u001b[1;32mdef\u001b[0m \u001b[0mdetails\u001b[0m\u001b[1;33m(\u001b[0m\u001b[0mself\u001b[0m\u001b[1;33m)\u001b[0m\u001b[1;33m:\u001b[0m\u001b[1;33m\u001b[0m\u001b[1;33m\u001b[0m\u001b[0m\n\u001b[0;32m     13\u001b[0m         \u001b[0mprint\u001b[0m\u001b[1;33m(\u001b[0m\u001b[1;34mf\"the {self.fname} {self.lname} is having empid {self.empid}\"\u001b[0m\u001b[1;33m)\u001b[0m\u001b[1;33m\u001b[0m\u001b[1;33m\u001b[0m\u001b[0m\n\u001b[1;32m---> 14\u001b[1;33m \u001b[0memp\u001b[0m \u001b[1;33m=\u001b[0m \u001b[0mEmployee\u001b[0m\u001b[1;33m(\u001b[0m\u001b[1;34m\"110023\"\u001b[0m\u001b[1;33m)\u001b[0m\u001b[1;33m\u001b[0m\u001b[1;33m\u001b[0m\u001b[0m\n\u001b[0m\u001b[0;32m     15\u001b[0m \u001b[0memp\u001b[0m\u001b[1;33m.\u001b[0m\u001b[0mprintname\u001b[0m\u001b[1;33m(\u001b[0m\u001b[1;33m)\u001b[0m\u001b[1;33m\u001b[0m\u001b[1;33m\u001b[0m\u001b[0m\n\u001b[0;32m     16\u001b[0m \u001b[0memp\u001b[0m\u001b[1;33m.\u001b[0m\u001b[0mfname\u001b[0m\u001b[1;33m\u001b[0m\u001b[1;33m\u001b[0m\u001b[0m\n",
      "\u001b[1;32m<ipython-input-8-9494e9e19e86>\u001b[0m in \u001b[0;36m__init__\u001b[1;34m(self, empid)\u001b[0m\n\u001b[0;32m      9\u001b[0m         \u001b[0mself\u001b[0m\u001b[1;33m.\u001b[0m\u001b[0mempid\u001b[0m \u001b[1;33m=\u001b[0m \u001b[0mempid\u001b[0m\u001b[1;33m\u001b[0m\u001b[1;33m\u001b[0m\u001b[0m\n\u001b[0;32m     10\u001b[0m \u001b[1;33m\u001b[0m\u001b[0m\n\u001b[1;32m---> 11\u001b[1;33m         \u001b[0msuper\u001b[0m\u001b[1;33m(\u001b[0m\u001b[1;33m)\u001b[0m\u001b[1;33m.\u001b[0m\u001b[0m__init__\u001b[0m\u001b[1;33m(\u001b[0m\u001b[0mself\u001b[0m\u001b[1;33m)\u001b[0m\u001b[1;33m\u001b[0m\u001b[1;33m\u001b[0m\u001b[0m\n\u001b[0m\u001b[0;32m     12\u001b[0m     \u001b[1;32mdef\u001b[0m \u001b[0mdetails\u001b[0m\u001b[1;33m(\u001b[0m\u001b[0mself\u001b[0m\u001b[1;33m)\u001b[0m\u001b[1;33m:\u001b[0m\u001b[1;33m\u001b[0m\u001b[1;33m\u001b[0m\u001b[0m\n\u001b[0;32m     13\u001b[0m         \u001b[0mprint\u001b[0m\u001b[1;33m(\u001b[0m\u001b[1;34mf\"the {self.fname} {self.lname} is having empid {self.empid}\"\u001b[0m\u001b[1;33m)\u001b[0m\u001b[1;33m\u001b[0m\u001b[1;33m\u001b[0m\u001b[0m\n",
      "\u001b[1;31mTypeError\u001b[0m: __init__() takes 1 positional argument but 2 were given"
     ]
    }
   ],
   "source": [
    "class Person:\n",
    "    def __init__(self):\n",
    "        self.fname = input(\"\")\n",
    "        self.lname = input(\"\")\n",
    "    def printname(self):\n",
    "        print(self.fname,self.lname)\n",
    "class Employee(Person):\n",
    "    def __init__(self,empid):\n",
    "        self.empid = empid\n",
    "        super().__init__(self)\n",
    "    def details(self):\n",
    "        print(f\"the {self.fname} {self.lname} is having empid {self.empid}\")\n",
    "emp = Employee(\"110023\")\n",
    "emp.printname()\n",
    "emp.fname\n",
    "emp.lname\n",
    "emp.details()"
   ]
  },
  {
   "cell_type": "code",
   "execution_count": 21,
   "metadata": {},
   "outputs": [
    {
     "name": "stdout",
     "output_type": "stream",
     "text": [
      "annual meeting\n",
      "a of 10 has scored 90 in maths and he is still 19 years old\n"
     ]
    }
   ],
   "source": [
    "class student:\n",
    "    def __init__(self,name,age,cls):\n",
    "        self.name = name\n",
    "        self.age =  age\n",
    "        self.cls =  cls\n",
    "        print(\"annual meeting\")\n",
    "    def show_marks(self,marks):\n",
    "        print(f\"{self.name} of {self.cls} has scored {marks} in maths and he is still {self.age} years old\")\n",
    "        \n",
    "class Annual_meeting(student):\n",
    "    def __init__(self,name,age,cls,year):\n",
    "        self.year = year\n",
    "        super().__init__(name,age,cls)\n",
    "    def meet(self):\n",
    "        print(f\"the {self.name} of {self.cls} has stood 1st in academic year {self.year}\")\n",
    "obj = Annual_meeting(\"a\",19,10,2022)\n",
    "obj.show_marks(90)"
   ]
  },
  {
   "cell_type": "markdown",
   "metadata": {},
   "source": [
    "### super() Function:\n",
    "Python also has a super() function that will make the child class inherit all the methods and properties from its parent. By using the super() function, you do not have to use the name of the parent element, it will automatically inherit the methods and properties from its parent."
   ]
  },
  {
   "cell_type": "code",
   "execution_count": 50,
   "metadata": {},
   "outputs": [
    {
     "name": "stdout",
     "output_type": "stream",
     "text": [
      "Employee details are : Ankur Kaushik 4560\n",
      "Ankur Kaushik\n"
     ]
    }
   ],
   "source": [
    "class Person:\n",
    "    def __init__(self,firstname,lastname):\n",
    "        self.firstname = firstname\n",
    "        self.lastname = lastname\n",
    "    \n",
    "    def printname(self):\n",
    "        print(self.firstname,self.lastname)\n",
    "        \n",
    "class Employee(Person):\n",
    "    def __init__(self,firstname,lastname,emp_id):\n",
    "        self.emp_id = emp_id\n",
    "        super().__init__(firstname,lastname)   \n",
    "        \n",
    "        Person.__init__(self,firstname,lastname)   \n",
    "        \n",
    "    \n",
    "    def details(self):\n",
    "        print('Employee details are :',self.firstname,self.lastname,self.emp_id)\n",
    "        \n",
    "obj = Employee('Ankur','Kaushik',4560)\n",
    "obj.details()\n",
    "obj.printname()"
   ]
  },
  {
   "cell_type": "code",
   "execution_count": 57,
   "metadata": {},
   "outputs": [],
   "source": [
    "class Computer:\n",
    "    def __init__(self,a,b):\n",
    "        self.a = a\n",
    "        self.b = b\n",
    "    def hardware(self):\n",
    "        print(\"the computer needs to have i3 and 500GB HDD for Analytics\")\n",
    "class Laptop(Computer):\n",
    "    def __init__(self,c,d,a,b):\n",
    "        self.c = c\n",
    "        self.d = d\n",
    "        super().__init__(c,d)\n",
    "    \n",
    "        Computer.__init__(self,a,b)\n",
    "    def details(self):\n",
    "        print(\"the laptops starts from 30k...\")\n",
    "\n",
    "lappy = Laptop(\"lenovo\",\"I3\",23,45)\n",
    "comp = Computer(23,45)"
   ]
  },
  {
   "cell_type": "markdown",
   "metadata": {},
   "source": [
    "WAC transport and def a constructor for the same for different transport type then define another class tax and tax the vehicle according to different transport type. \n",
    "if the transport is \n",
    "car_tax = 2000\n",
    "bus_tax = 1000\n",
    "two_wheeler = 500\n",
    "govt_transport = free"
   ]
  },
  {
   "cell_type": "code",
   "execution_count": null,
   "metadata": {},
   "outputs": [],
   "source": [
    "class transport:\n",
    "    def __init__(self):\n",
    "        "
   ]
  },
  {
   "cell_type": "code",
   "execution_count": 60,
   "metadata": {},
   "outputs": [
    {
     "name": "stdout",
     "output_type": "stream",
     "text": [
      "the computer needs to have i3 and 500GB HDD for Analytics\n"
     ]
    }
   ],
   "source": [
    "comp.hardware()"
   ]
  },
  {
   "cell_type": "code",
   "execution_count": 61,
   "metadata": {},
   "outputs": [
    {
     "ename": "AttributeError",
     "evalue": "'Computer' object has no attribute 'details'",
     "output_type": "error",
     "traceback": [
      "\u001b[1;31m---------------------------------------------------------------------------\u001b[0m",
      "\u001b[1;31mAttributeError\u001b[0m                            Traceback (most recent call last)",
      "\u001b[1;32m<ipython-input-61-0b7175208aec>\u001b[0m in \u001b[0;36m<module>\u001b[1;34m\u001b[0m\n\u001b[1;32m----> 1\u001b[1;33m \u001b[0mcomp\u001b[0m\u001b[1;33m.\u001b[0m\u001b[0mdetails\u001b[0m\u001b[1;33m(\u001b[0m\u001b[1;33m)\u001b[0m\u001b[1;33m\u001b[0m\u001b[1;33m\u001b[0m\u001b[0m\n\u001b[0m",
      "\u001b[1;31mAttributeError\u001b[0m: 'Computer' object has no attribute 'details'"
     ]
    }
   ],
   "source": [
    "comp.details()"
   ]
  },
  {
   "cell_type": "code",
   "execution_count": 48,
   "metadata": {},
   "outputs": [
    {
     "name": "stdout",
     "output_type": "stream",
     "text": [
      "the laptops starts from 30k...\n"
     ]
    }
   ],
   "source": [
    "lappy.details()"
   ]
  },
  {
   "cell_type": "code",
   "execution_count": 49,
   "metadata": {},
   "outputs": [
    {
     "name": "stdout",
     "output_type": "stream",
     "text": [
      "the computer needs to have i3 and 500GB HDD for Analytics\n"
     ]
    }
   ],
   "source": [
    "lappy.hardware()"
   ]
  },
  {
   "cell_type": "code",
   "execution_count": 51,
   "metadata": {},
   "outputs": [
    {
     "name": "stdout",
     "output_type": "stream",
     "text": [
      "lenovo I3\n"
     ]
    }
   ],
   "source": [
    "print(lappy.c,lappy.d)"
   ]
  },
  {
   "cell_type": "code",
   "execution_count": 55,
   "metadata": {},
   "outputs": [
    {
     "name": "stdout",
     "output_type": "stream",
     "text": [
      "23 45\n"
     ]
    }
   ],
   "source": [
    "print(lappy.a,lappy.b)"
   ]
  },
  {
   "cell_type": "code",
   "execution_count": 11,
   "metadata": {},
   "outputs": [
    {
     "name": "stdout",
     "output_type": "stream",
     "text": [
      "aman singh\n"
     ]
    }
   ],
   "source": [
    "class Person:\n",
    "    def __init__(self,fname,lname):\n",
    "        self.fname = fname\n",
    "        self.lname = lname\n",
    "        \n",
    "    def show(self):\n",
    "        print(f\"{self.fname} {self.lname}\")\n",
    "class Employee(Person):\n",
    "    def __init__(self,fname,lname,empid):\n",
    "        self.empid = empid\n",
    "        super().__init__(fname,lname)\n",
    "        Person.__init__(self,fname,lname)\n",
    "\n",
    "obj = Employee(\"aman\",\"singh\",12334)\n",
    "obj.show()"
   ]
  },
  {
   "cell_type": "code",
   "execution_count": null,
   "metadata": {},
   "outputs": [],
   "source": [
    "def add(a,b):\n",
    "    c = a+b\n",
    "    print(c)\n",
    "add(10,10)"
   ]
  },
  {
   "cell_type": "markdown",
   "metadata": {},
   "source": [
    "**Data Encapsulation**\n"
   ]
  },
  {
   "cell_type": "code",
   "execution_count": null,
   "metadata": {},
   "outputs": [],
   "source": [
    "Capsule :\n",
    "    two or medicines clubbed together in a capsule "
   ]
  },
  {
   "cell_type": "code",
   "execution_count": 27,
   "metadata": {},
   "outputs": [
    {
     "data": {
      "text/plain": [
       "'wer'"
      ]
     },
     "execution_count": 27,
     "metadata": {},
     "output_type": "execute_result"
    }
   ],
   "source": [
    "class comp:\n",
    "    def __init__(self,name,a,b):\n",
    "        self._name= name #protected attribute \n",
    "        self.__a = a #private attribute\n",
    "        self.b = b #public attirbute \n",
    "    def show(self):\n",
    "        print(\"comp\")\n",
    "c = comp(\"aman\",\"wer\",435)\n",
    "c._name\n",
    "c.b\n",
    "#c.__a #name mangling \n",
    "c._comp__a"
   ]
  },
  {
   "cell_type": "code",
   "execution_count": 41,
   "metadata": {},
   "outputs": [
    {
     "data": {
      "text/plain": [
       "3"
      ]
     },
     "execution_count": 41,
     "metadata": {},
     "output_type": "execute_result"
    }
   ],
   "source": [
    "class var:\n",
    "    def __init__(self,a,b,c):\n",
    "        self.a = a\n",
    "        self._b = b\n",
    "        self.__c = c\n",
    "v = var(1,2,3)\n",
    "v._var__c #mangled name"
   ]
  },
  {
   "cell_type": "code",
   "execution_count": 1,
   "metadata": {},
   "outputs": [
    {
     "name": "stdout",
     "output_type": "stream",
     "text": [
      "As transport is: car, so tax would be: 2000\n",
      "The type of this transport is: car\n",
      "As transport is: bus, so tax would be: 1000\n",
      "As transport is: xya, so tax would be: Undefined Input!!\n",
      "As transport is: govTransport, so tax would be: Free!!\n",
      "As transport is: 2wheeler, so tax would be: Undefined Input!!\n",
      "As transport is: 2Wheeler, so tax would be: 500\n"
     ]
    }
   ],
   "source": [
    "class transport:\n",
    "    def __init__(self,transType):\n",
    "        self.transType = transType\n",
    "    def printTransType(self):\n",
    "        print(f\"The type of this transport is: {self.transType}\")\n",
    "class tax(transport):\n",
    "    def __init__(self,transType):\n",
    "        transport.__init__(self,transType)\n",
    "        if self.transType==\"car\":\n",
    "            payableTax = 2000\n",
    "        elif self.transType==\"bus\":\n",
    "            payableTax = 1000\n",
    "        elif self.transType == \"2Wheeler\":\n",
    "            payableTax = 500\n",
    "        elif self.transType==\"govTransport\":\n",
    "            payableTax = \"Free!!\"\n",
    "        else:\n",
    "            payableTax = \"Undefined Input!!\"\n",
    "        print(f\"As transport is: {self.transType}, so tax would be: {payableTax}\")\n",
    "\n",
    "c1 = tax(\"car\")\n",
    "c1.printTransType()\n",
    "c1 = tax(\"bus\")\n",
    "c1 = tax(\"xya\")\n",
    "c1 = tax(\"govTransport\")\n",
    "c1 = tax(\"2wheeler\")\n",
    "c1 = tax(\"2Wheeler\")"
   ]
  },
  {
   "cell_type": "markdown",
   "metadata": {},
   "source": [
    "WAC bank and u need to take three instances attributes ,\n",
    "1) withdrawal amount \n",
    "2) deposit amount \n",
    "3 balance \n",
    "make a method withdrawal and input from the user regarding the amount withdrawal \n",
    "then tell him the bal left . \n",
    "similarly for deposit . \n",
    "and atlast the bank charges 0.25 percent of the bal to the customer for having an account in their bank "
   ]
  },
  {
   "cell_type": "code",
   "execution_count": 10,
   "metadata": {},
   "outputs": [
    {
     "name": "stdout",
     "output_type": "stream",
     "text": [
      " the amount withdrawn is 3200\n",
      "the netbalance is : 6800\n",
      "1000\n"
     ]
    },
    {
     "data": {
      "text/plain": [
       "10000"
      ]
     },
     "execution_count": 10,
     "metadata": {},
     "output_type": "execute_result"
    }
   ],
   "source": [
    "class bank:\n",
    "    def __init__(self,withdrawal,deposit,balance):\n",
    "        self._withdrawal = withdrawal\n",
    "        self.__deposit = deposit #mangled name\n",
    "        self.balance = balance\n",
    "    def drawn(self):\n",
    "        print(f\" the amount withdrawn is {self._withdrawal}\")\n",
    "        print(\"the netbalance is :\",self.balance - self._withdrawal)\n",
    "        print(self.__deposit)\n",
    "acc = bank(3200,1000,10000)\n",
    "acc.drawn()\n",
    "#acc.__deposit\n",
    "acc._withdrawal\n",
    "acc._bank__deposit #mangled name \n",
    "acc.balance"
   ]
  },
  {
   "cell_type": "code",
   "execution_count": 9,
   "metadata": {},
   "outputs": [
    {
     "name": "stdout",
     "output_type": "stream",
     "text": [
      "<class 'list'>\n"
     ]
    }
   ],
   "source": [
    "print(type([1,2,3]))"
   ]
  },
  {
   "cell_type": "code",
   "execution_count": null,
   "metadata": {},
   "outputs": [],
   "source": [
    "l = [1,2,3]"
   ]
  },
  {
   "cell_type": "markdown",
   "metadata": {},
   "source": [
    "### 2. Data abstraction\n",
    "We use Abstraction for hiding the internal details or implementations of a function and showing its functionalities only. This is similar to the way you know how to drive a car without knowing the background mechanism. Or you know how to turn on or off a light using a switch but you don’t know what is happening behind the socket."
   ]
  },
  {
   "cell_type": "code",
   "execution_count": null,
   "metadata": {},
   "outputs": [],
   "source": [
    "abstraction :\n",
    "    abstract : which we cannot see ,its present but its hidden \n",
    "        the break peddle in our cars, \n",
    "        the switches we press the switch and the light is off or on "
   ]
  },
  {
   "cell_type": "code",
   "execution_count": 2,
   "metadata": {},
   "outputs": [
    {
     "name": "stdout",
     "output_type": "stream",
     "text": [
      "this method is hidden cannot open or use this 100\n",
      "the a is of black and has maxspeed of 310\n",
      "310\n",
      "a\n",
      "black\n",
      "this is price of Sedan  1000000\n"
     ]
    }
   ],
   "source": [
    "from abc import ABC, abstractmethod\n",
    "\n",
    "class Car(ABC):\n",
    "    def __init__(self):\n",
    "        self.name = \"a\"  #protected variable\n",
    "        self.color = \"black\" \n",
    "        self.maxspeed = 310\n",
    "    def show(self):\n",
    "        print(f\"the {self.name} is of {self.color} and has maxspeed of {self.maxspeed}\")\n",
    "\n",
    "    @abstractmethod\n",
    "    def price(self,x):\n",
    "        print(\"this method is hidden cannot open or use this\",x)\n",
    "#c1 = Car(\"Honda\",\"black\",340)\n",
    "#c1.show()\n",
    "class Sedan(Car):\n",
    "    def __init__(self):\n",
    "        super().__init__()\n",
    "        super().price(100)\n",
    "    def price(self):\n",
    "            print(\"this is price of Sedan \",1000000)\n",
    "\n",
    "obj1 = Sedan()\n",
    "obj1.show()\n",
    "print(obj1.maxspeed)\n",
    "print(obj1.name)\n",
    "print(obj1.color)\n",
    "obj1.price()\n"
   ]
  },
  {
   "cell_type": "code",
   "execution_count": 6,
   "metadata": {},
   "outputs": [
    {
     "ename": "TypeError",
     "evalue": "Can't instantiate abstract class calc with abstract methods add",
     "output_type": "error",
     "traceback": [
      "\u001b[1;31m---------------------------------------------------------------------------\u001b[0m",
      "\u001b[1;31mTypeError\u001b[0m                                 Traceback (most recent call last)",
      "\u001b[1;32m<ipython-input-6-cc4d36a2ee1c>\u001b[0m in \u001b[0;36m<module>\u001b[1;34m\u001b[0m\n\u001b[0;32m      8\u001b[0m         \u001b[0mc\u001b[0m \u001b[1;33m=\u001b[0m \u001b[0mself\u001b[0m\u001b[1;33m.\u001b[0m\u001b[0ma\u001b[0m \u001b[1;33m+\u001b[0m\u001b[0mself\u001b[0m\u001b[1;33m.\u001b[0m\u001b[0mb\u001b[0m\u001b[1;33m\u001b[0m\u001b[1;33m\u001b[0m\u001b[0m\n\u001b[0;32m      9\u001b[0m         \u001b[0mprint\u001b[0m\u001b[1;33m(\u001b[0m\u001b[0mc\u001b[0m\u001b[1;33m)\u001b[0m\u001b[1;33m\u001b[0m\u001b[1;33m\u001b[0m\u001b[0m\n\u001b[1;32m---> 10\u001b[1;33m \u001b[0mc\u001b[0m \u001b[1;33m=\u001b[0m \u001b[0mcalc\u001b[0m\u001b[1;33m(\u001b[0m\u001b[1;33m)\u001b[0m\u001b[1;33m\u001b[0m\u001b[1;33m\u001b[0m\u001b[0m\n\u001b[0m\u001b[0;32m     11\u001b[0m \u001b[0mc\u001b[0m\u001b[1;33m.\u001b[0m\u001b[0madd\u001b[0m\u001b[1;33m(\u001b[0m\u001b[1;33m)\u001b[0m\u001b[1;33m\u001b[0m\u001b[1;33m\u001b[0m\u001b[0m\n",
      "\u001b[1;31mTypeError\u001b[0m: Can't instantiate abstract class calc with abstract methods add"
     ]
    }
   ],
   "source": [
    "from abc import ABC, abstractmethod\n",
    "class calc(ABC):\n",
    "    def __init__(self):\n",
    "        self.a = 10\n",
    "        self.b = 20\n",
    "    @abstractmethod\n",
    "    def add(self):\n",
    "        c = self.a +self.b\n",
    "        print(c)\n",
    "c = calc()\n",
    "c.add()"
   ]
  },
  {
   "cell_type": "code",
   "execution_count": 25,
   "metadata": {},
   "outputs": [
    {
     "name": "stdout",
     "output_type": "stream",
     "text": [
      "this is a show\n",
      "the price of the car is 2.6 crores\n"
     ]
    },
    {
     "data": {
      "text/plain": [
       "'Lamborgini'"
      ]
     },
     "execution_count": 25,
     "metadata": {},
     "output_type": "execute_result"
    }
   ],
   "source": [
    "from abc import ABC, abstractmethod\n",
    "\n",
    "class Car(ABC):\n",
    "    def __init__(self,name):\n",
    "        self.name = name\n",
    "    def show(self):\n",
    "        print(\"this is a show\")\n",
    "\n",
    "    @abstractmethod\n",
    "    def price(self,x):\n",
    "        print(\"the method is hidden\")\n",
    "# c = Car(\"Honda City\")\n",
    "# c.show()\n",
    "class new(Car):\n",
    "    def price(self,x):\n",
    "        print(f\"the price of the car is {x} crores\")\n",
    "ob1 = new('Lamborgini')\n",
    "ob1.show()\n",
    "ob1.price(2.6)\n",
    "ob1.name"
   ]
  },
  {
   "cell_type": "markdown",
   "metadata": {},
   "source": [
    "### Polymorphism\n",
    "This is a Greek word. If we break the term Polymorphism, we get “poly”-many and “morph”-forms. So, Polymorphism means having many forms. In OOP it refers to the functions having the same names but carrying different functionalities"
   ]
  },
  {
   "cell_type": "code",
   "execution_count": null,
   "metadata": {},
   "outputs": [],
   "source": [
    "str.index\n",
    "list.index\n",
    "tuple.index"
   ]
  },
  {
   "cell_type": "code",
   "execution_count": 5,
   "metadata": {},
   "outputs": [
    {
     "name": "stdout",
     "output_type": "stream",
     "text": [
      "ferari is  having top speed of 320\n",
      "Mercedes is having top speed of 340\n",
      "Honda gives best mileage out of ferari and mercedes\n"
     ]
    }
   ],
   "source": [
    "class Ferari:\n",
    "    def features(self):\n",
    "        print('ferari is  having top speed of 320')\n",
    "    \n",
    "class Mercedes:\n",
    "    def features(self):\n",
    "        print('Mercedes is having top speed of 340')\n",
    "class Honda:\n",
    "    def features(self):\n",
    "        print(\"Honda gives best mileage out of ferari and mercedes\")\n",
    "        \n",
    "fer = Ferari()\n",
    "m = Mercedes()\n",
    "h = Honda()\n",
    "for i in fer,m,h:\n",
    "    i.features()"
   ]
  },
  {
   "cell_type": "code",
   "execution_count": 4,
   "metadata": {},
   "outputs": [
    {
     "name": "stdout",
     "output_type": "stream",
     "text": [
      "ferari is  having top speed of 320\n"
     ]
    }
   ],
   "source": [
    "fer.features()"
   ]
  },
  {
   "cell_type": "code",
   "execution_count": 5,
   "metadata": {},
   "outputs": [
    {
     "name": "stdout",
     "output_type": "stream",
     "text": [
      "Mercedes is having top speed of 340\n"
     ]
    }
   ],
   "source": [
    "m.features()"
   ]
  },
  {
   "cell_type": "code",
   "execution_count": 6,
   "metadata": {},
   "outputs": [
    {
     "name": "stdout",
     "output_type": "stream",
     "text": [
      "Honda gives best mileage out of ferari and mercedes\n"
     ]
    }
   ],
   "source": [
    "h = Honda()\n",
    "h.features()"
   ]
  },
  {
   "cell_type": "code",
   "execution_count": 9,
   "metadata": {},
   "outputs": [
    {
     "name": "stdout",
     "output_type": "stream",
     "text": [
      "ferari is  having top speed of 320\n",
      "None\n",
      "Mercedes is having top speed of 340\n",
      "None\n",
      "Honda gives best mileage out of ferari and mercedes\n",
      "None\n"
     ]
    }
   ],
   "source": [
    "for car_feature in (fer,m,h):\n",
    "    print(car_feature.features())"
   ]
  },
  {
   "cell_type": "code",
   "execution_count": 31,
   "metadata": {},
   "outputs": [],
   "source": [
    "mer = Ferari()"
   ]
  },
  {
   "cell_type": "code",
   "execution_count": 32,
   "metadata": {},
   "outputs": [
    {
     "name": "stdout",
     "output_type": "stream",
     "text": [
      "ferari is  having top speed of 320\n"
     ]
    }
   ],
   "source": [
    "mer.features()"
   ]
  },
  {
   "cell_type": "code",
   "execution_count": 29,
   "metadata": {},
   "outputs": [
    {
     "name": "stdout",
     "output_type": "stream",
     "text": [
      "ferari is  having top speed of 320\n"
     ]
    }
   ],
   "source": [
    "f.features()"
   ]
  },
  {
   "cell_type": "code",
   "execution_count": 28,
   "metadata": {},
   "outputs": [
    {
     "name": "stdout",
     "output_type": "stream",
     "text": [
      "Mercedes is having top speed of 340\n"
     ]
    }
   ],
   "source": [
    "m.features()"
   ]
  },
  {
   "cell_type": "code",
   "execution_count": 30,
   "metadata": {},
   "outputs": [
    {
     "name": "stdout",
     "output_type": "stream",
     "text": [
      "ferari is  having top speed of 320\n",
      "Mercedes is having top speed of 340\n"
     ]
    }
   ],
   "source": [
    "for i in (f,m):\n",
    "    i.features()"
   ]
  },
  {
   "cell_type": "code",
   "execution_count": 18,
   "metadata": {},
   "outputs": [
    {
     "name": "stdout",
     "output_type": "stream",
     "text": [
      "ferari is  having top speed of 320\n"
     ]
    }
   ],
   "source": [
    "objf.features()"
   ]
  },
  {
   "cell_type": "code",
   "execution_count": 19,
   "metadata": {},
   "outputs": [
    {
     "name": "stdout",
     "output_type": "stream",
     "text": [
      "Mercedes is having top speed of 340\n"
     ]
    }
   ],
   "source": [
    "objm.features()"
   ]
  },
  {
   "cell_type": "code",
   "execution_count": 21,
   "metadata": {},
   "outputs": [
    {
     "name": "stdout",
     "output_type": "stream",
     "text": [
      "ferari is  having top speed of 320\n",
      "Mercedes is having top speed of 340\n"
     ]
    }
   ],
   "source": [
    "for car in (objf, objm):\n",
    "    car.features()"
   ]
  },
  {
   "cell_type": "markdown",
   "metadata": {},
   "source": [
    "### Encapsulation\n",
    "\n",
    "Encapsulation, as I mentioned in the initial part of the article, is a way to ensure security. Basically, it hides the data from the access of outsiders. Such as if an organization wants to protect an object/information from unwanted access by clients or any unauthorized person then encapsulation is the way to ensure this.\n",
    "\n",
    "You can declare the methods or the attributes protected by using a single underscore ( _ ) before their names. Such as- self._name or def _method( ); Both of these lines tell that the attribute and method are protected and should not be used outside the access of the class and sub-classes but can be accessed by class methods and objects.\n",
    "\n",
    "Though Python uses ‘ _ ‘ just as a coding convention, it tells that you should use these attributes/methods within the scope of the class. But you can still access the variables and methods which are defined as protected, as usual.\n",
    "\n",
    "Now for actually preventing the access of attributes/methods from outside the scope of a class, you can use “private members“. In order to declare the attributes/method as private members, use double underscore ( __ ) in the prefix.\n",
    "Such as – self.__name or def __method(); Both of these lines tell that the attribute and method are private and access is not possible from outside the class."
   ]
  },
  {
   "cell_type": "code",
   "execution_count": 22,
   "metadata": {},
   "outputs": [
    {
     "name": "stdout",
     "output_type": "stream",
     "text": [
      "The BMW 7-series car gives the mileage of 39.53km/l and its maxspeed is 320\n",
      "BMW 7-series\n",
      "39.53\n",
      "320\n"
     ]
    }
   ],
   "source": [
    "class car:\n",
    "\n",
    "    def __init__(self, name, mileage,maxspeed):\n",
    "        self._name = name                #protected variable\n",
    "        self.mileage = mileage\n",
    "        self.__maxspeed = maxspeed\n",
    "\n",
    "    def description(self):                \n",
    "        return f\"The {self._name} car gives the mileage of {self.mileage}km/l and its maxspeed is {self.__maxspeed}\"\n",
    "obj = car(\"BMW 7-series\",39.53,320)\n",
    "\n",
    "#accessing protected variable via class method \n",
    "print(obj.description())\n",
    "\n",
    "#accessing protected variable directly from outside\n",
    "print(obj._name)\n",
    "print(obj.mileage)\n",
    "print(obj._car__maxspeed)"
   ]
  },
  {
   "cell_type": "code",
   "execution_count": 47,
   "metadata": {},
   "outputs": [],
   "source": [
    "class example:\n",
    "    def __init__(self,var1,var2,var3):\n",
    "        self.var1 = var1 #public\n",
    "        self._var2 = var2 #protected\n",
    "        self.__var3 = var3 #private"
   ]
  },
  {
   "cell_type": "code",
   "execution_count": 48,
   "metadata": {},
   "outputs": [],
   "source": [
    "obj = example(12,23,45)"
   ]
  },
  {
   "cell_type": "code",
   "execution_count": 49,
   "metadata": {},
   "outputs": [
    {
     "data": {
      "text/plain": [
       "12"
      ]
     },
     "execution_count": 49,
     "metadata": {},
     "output_type": "execute_result"
    }
   ],
   "source": [
    "obj.var1"
   ]
  },
  {
   "cell_type": "code",
   "execution_count": 50,
   "metadata": {},
   "outputs": [
    {
     "data": {
      "text/plain": [
       "23"
      ]
     },
     "execution_count": 50,
     "metadata": {},
     "output_type": "execute_result"
    }
   ],
   "source": [
    "obj._var2"
   ]
  },
  {
   "cell_type": "code",
   "execution_count": 51,
   "metadata": {},
   "outputs": [
    {
     "ename": "AttributeError",
     "evalue": "'example' object has no attribute '__var3'",
     "output_type": "error",
     "traceback": [
      "\u001b[1;31m---------------------------------------------------------------------------\u001b[0m",
      "\u001b[1;31mAttributeError\u001b[0m                            Traceback (most recent call last)",
      "\u001b[1;32m<ipython-input-51-6b29438f2313>\u001b[0m in \u001b[0;36m<module>\u001b[1;34m\u001b[0m\n\u001b[1;32m----> 1\u001b[1;33m \u001b[0mobj\u001b[0m\u001b[1;33m.\u001b[0m\u001b[0m__var3\u001b[0m\u001b[1;33m\u001b[0m\u001b[1;33m\u001b[0m\u001b[0m\n\u001b[0m",
      "\u001b[1;31mAttributeError\u001b[0m: 'example' object has no attribute '__var3'"
     ]
    }
   ],
   "source": [
    "obj.__var3"
   ]
  },
  {
   "cell_type": "code",
   "execution_count": 52,
   "metadata": {},
   "outputs": [
    {
     "data": {
      "text/plain": [
       "45"
      ]
     },
     "execution_count": 52,
     "metadata": {},
     "output_type": "execute_result"
    }
   ],
   "source": [
    "obj._example__var3 #mangled name access private member "
   ]
  },
  {
   "cell_type": "code",
   "execution_count": 14,
   "metadata": {},
   "outputs": [
    {
     "name": "stdout",
     "output_type": "stream",
     "text": [
      "The BMW 7-series car gives the mileage of 39.53km/l\n",
      "BMW 7-series\n",
      "39.53\n"
     ]
    }
   ],
   "source": [
    "class car:\n",
    "\n",
    "    def __init__(self, name, mileage):\n",
    "        self._name = name                #protected variable\n",
    "        self.mileage = mileage \n",
    "\n",
    "    def description(self):                \n",
    "        return f\"The {self._name} car gives the mileage of {self.mileage}km/l\"\n",
    "obj = car(\"BMW 7-series\",39.53)\n",
    "\n",
    "#accessing protected variable via class method \n",
    "print(obj.description())\n",
    "\n",
    "#accessing protected variable directly from outside\n",
    "print(obj._name)\n",
    "print(obj.mileage)"
   ]
  },
  {
   "cell_type": "markdown",
   "metadata": {},
   "source": [
    "### Access private members"
   ]
  },
  {
   "cell_type": "code",
   "execution_count": 15,
   "metadata": {},
   "outputs": [
    {
     "name": "stdout",
     "output_type": "stream",
     "text": [
      "The BMW 7-series car gives the mileage of 39.53km/l\n",
      "39.53\n"
     ]
    },
    {
     "ename": "AttributeError",
     "evalue": "'Car' object has no attribute '__name'",
     "output_type": "error",
     "traceback": [
      "\u001b[1;31m---------------------------------------------------------------------------\u001b[0m",
      "\u001b[1;31mAttributeError\u001b[0m                            Traceback (most recent call last)",
      "\u001b[1;32m<ipython-input-15-ecc076bef72f>\u001b[0m in \u001b[0;36m<module>\u001b[1;34m\u001b[0m\n\u001b[0;32m     14\u001b[0m \u001b[1;31m#accessing private variable directly from outside\u001b[0m\u001b[1;33m\u001b[0m\u001b[1;33m\u001b[0m\u001b[1;33m\u001b[0m\u001b[0m\n\u001b[0;32m     15\u001b[0m \u001b[0mprint\u001b[0m\u001b[1;33m(\u001b[0m\u001b[0mobj\u001b[0m\u001b[1;33m.\u001b[0m\u001b[0mmileage\u001b[0m\u001b[1;33m)\u001b[0m\u001b[1;33m\u001b[0m\u001b[1;33m\u001b[0m\u001b[0m\n\u001b[1;32m---> 16\u001b[1;33m \u001b[0mprint\u001b[0m\u001b[1;33m(\u001b[0m\u001b[0mobj\u001b[0m\u001b[1;33m.\u001b[0m\u001b[0m__name\u001b[0m\u001b[1;33m)\u001b[0m\u001b[1;33m\u001b[0m\u001b[1;33m\u001b[0m\u001b[0m\n\u001b[0m",
      "\u001b[1;31mAttributeError\u001b[0m: 'Car' object has no attribute '__name'"
     ]
    }
   ],
   "source": [
    "class Car:\n",
    "\n",
    "    def __init__(self, name, mileage):\n",
    "        self.__name = name              #private variable        \n",
    "        self.mileage = mileage \n",
    "\n",
    "    def description(self):                \n",
    "        return f\"The {self.__name} car gives the mileage of {self.mileage}km/l\"\n",
    "obj = Car(\"BMW 7-series\",39.53)\n",
    "\n",
    "#accessing private variable via class method \n",
    "print(obj.description())\n",
    "\n",
    "#accessing private variable directly from outside\n",
    "print(obj.mileage)\n",
    "print(obj.__name)"
   ]
  },
  {
   "cell_type": "code",
   "execution_count": 16,
   "metadata": {},
   "outputs": [
    {
     "name": "stdout",
     "output_type": "stream",
     "text": [
      "The BMW 7-series car gives the mileage of 39.53km/l\n",
      "39.53\n",
      "BMW 7-series\n"
     ]
    }
   ],
   "source": [
    "class Car:\n",
    "\n",
    "    def __init__(self, name, mileage):\n",
    "        self.__name = name              #private variable        \n",
    "        self.mileage = mileage \n",
    "\n",
    "    def description(self):                \n",
    "        return f\"The {self.__name} car gives the mileage of {self.mileage}km/l\"\n",
    "obj = Car(\"BMW 7-series\",39.53)\n",
    "\n",
    "#accessing private variable via class method \n",
    "print(obj.description())\n",
    "\n",
    "#accessing private variable directly from outside\n",
    "print(obj.mileage)\n",
    "print(obj._Car__name)      #mangled name"
   ]
  },
  {
   "cell_type": "markdown",
   "metadata": {},
   "source": [
    "Q1. Create a Vehicle class with max_speed and mileage instance attributes\n",
    "\n",
    "Q2.Create a Vehicle class without any variables and methods\n",
    "\n",
    "Q3.Create a child class Bus that will inherit all of the variables and methods of the Vehicle class\n",
    "\n",
    "Q4.Class Inheritance\n",
    "Given:Create a Bus class that inherits from the Vehicle class. \n",
    "Give the capacity argument of Bus.seating_capacity() a default value of 50."
   ]
  },
  {
   "cell_type": "markdown",
   "metadata": {},
   "source": [
    "WAC shape take the input from the user regarding the shape and then make a method called area and take the sides input from the user and then compute the area of the shape.     "
   ]
  },
  {
   "cell_type": "code",
   "execution_count": null,
   "metadata": {},
   "outputs": [],
   "source": [
    "class shape:\n",
    "    def __init__(self):\n",
    "        self.sh1 = input(\"Enter the shape: \")\n",
    "    def area(self):\n",
    "        self.side1 = int(input(\"Enter length: \"))\n",
    "        self.side2 = int(input(\"Enter breadth: \"))\n",
    "        if self.sh1 == \"rectangle\":\n",
    "            ar1 = self.side1*self.side2\n",
    "        elif self.sh1 == \"square\":\n",
    "            ar1 = self.side1**2\n",
    "        else:\n",
    "            ar1 = \"Invalid Input/Out of scope!!\"\n",
    "        print(f\"Area of shape: {self.sh1} is {ar1}\")\n",
    "c = shape()\n",
    "c.area()\n"
   ]
  },
  {
   "cell_type": "code",
   "execution_count": 36,
   "metadata": {},
   "outputs": [
    {
     "name": "stdout",
     "output_type": "stream",
     "text": [
      "enter the shape: Square\n",
      "50\n",
      "the area is : 2500\n"
     ]
    }
   ],
   "source": [
    "class shape:\n",
    "    def __init__(self,s):\n",
    "        self.s = input(\"enter the shape: \")\n",
    "    def area(self):\n",
    "        if self.s==\"rectangle\":\n",
    "            l = int(input())\n",
    "            b = int(input())\n",
    "            print(\"the area is :\",l*b)\n",
    "        elif self.s == \"Square\":\n",
    "            a = int(input())\n",
    "            print(\"the area is :\",a*a)\n",
    "m = shape(\"r\")\n",
    "m.area()"
   ]
  },
  {
   "cell_type": "code",
   "execution_count": 28,
   "metadata": {},
   "outputs": [
    {
     "name": "stdout",
     "output_type": "stream",
     "text": [
      "Enter the name of the bus :Volvo\n",
      "Bus details are : 45kmpl 50 Volvo\n",
      "the seating capacity of bus is : 50\n"
     ]
    }
   ],
   "source": [
    "class Vehicle:\n",
    "    def __init__(self, max_speed, mileage):\n",
    "        self.max_speed = max_speed\n",
    "        self.mileage = mileage\n",
    "        \n",
    "        \n",
    "class Bus(Vehicle):\n",
    "    bus_name = input(\"Enter the name of the bus :\")        \n",
    "    \n",
    "    def details(self):\n",
    "        print('Bus details are :',self.max_speed,self.mileage,self.bus_name)\n",
    "        \n",
    "    def seating_capacity(self,n=50):\n",
    "        print(\"the seating capacity of bus is :\",n)\n",
    "        \n",
    "obj = Bus('45kmpl','50')\n",
    "obj.details()\n",
    "obj.seating_capacity()"
   ]
  },
  {
   "cell_type": "markdown",
   "metadata": {},
   "source": [
    "WAC shapes, take the input from the user as the shape . and make methods which calculates the area and perimeter of the shape"
   ]
  },
  {
   "cell_type": "code",
   "execution_count": null,
   "metadata": {},
   "outputs": [],
   "source": [
    "class shapes:\n",
    "    def __init__(self,shape):\n",
    "        self.shape = input(\"enter the Shape\")\n",
    "        \n",
    "        \n",
    "    def area(self):\n",
    "        if shape==\"rectangle\":\n",
    "            l = int(input())\n",
    "            b = int(input())\n",
    "            area = l*b\n",
    "            print(area)\n",
    "            print(2*(l+b))\n",
    "        elif \n",
    "        "
   ]
  },
  {
   "cell_type": "code",
   "execution_count": 4,
   "metadata": {},
   "outputs": [
    {
     "data": {
      "text/plain": [
       "12"
      ]
     },
     "execution_count": 4,
     "metadata": {},
     "output_type": "execute_result"
    }
   ],
   "source": [
    "class vehicle:\n",
    "    def __init__(self,maxspeed,mileage):\n",
    "        self.maxspeed = maxspeed\n",
    "        self.mileage = mileage\n",
    "obj = vehicle(300,12)\n",
    "obj.mileage"
   ]
  },
  {
   "cell_type": "code",
   "execution_count": null,
   "metadata": {},
   "outputs": [],
   "source": [
    "class shape:\n",
    "    def size(self,shape):\n",
    "        shape=input()\n",
    "    def dimension(self,l,b,h):\n",
    "        l=int(input())\n",
    "        b=(input())\n",
    "        h=(input())\n",
    "    def show(self):\n",
    "        print(\"The are is\",l*b*h)\n",
    "obj1=shape(\"rect\")\n",
    "obj1.dimension()\n",
    "class shape:\n",
    "    def size(self,shape):\n",
    "        self.shape=input()\n",
    "    def dimension(self,l,b,h):\n",
    "        self.l=int(input())\n",
    "        self.b=(input())\n",
    "        self.h=(input())\n",
    "    def show(self):\n",
    "        print(\"The are is\",l*b*h)\n",
    "obj1=shape(\"rect\")\n",
    "obj1.dimension()\n"
   ]
  },
  {
   "cell_type": "code",
   "execution_count": 9,
   "metadata": {},
   "outputs": [
    {
     "name": "stdout",
     "output_type": "stream",
     "text": [
      "the sitting capacity of the bus is 50\n"
     ]
    }
   ],
   "source": [
    "class Bus(vehicle):\n",
    "    def seating_capacity(self,x = 50):\n",
    "        print(f\"the sitting capacity of the bus is {x}\")\n",
    "obj1 = Bus()\n",
    "obj1.seating_capacity()"
   ]
  },
  {
   "cell_type": "markdown",
   "metadata": {},
   "source": [
    "Define a Book class with the following attributes: Title, Author (Full name), Price. Define a constructor used to initialize the attributes of the method with values entered by the user.                        \n",
    "Set the View() method to display information for the current book.               \n",
    "Write a program to testing the Book class."
   ]
  },
  {
   "cell_type": "code",
   "execution_count": 1,
   "metadata": {},
   "outputs": [
    {
     "name": "stdout",
     "output_type": "stream",
     "text": [
      "title: python\n",
      "Author: bala\n",
      "price: 900\n",
      "The python of the book authored by Mr. bala and the price is 900\n"
     ]
    }
   ],
   "source": [
    "class book:\n",
    "    def __init__(self,Title,Author,Price):\n",
    "        self.Title = input(\"title: \")\n",
    "        self.Author = input(\"Author: \")\n",
    "        self.Price = int(input(\"price: \"))\n",
    "                         \n",
    "    def View(self):\n",
    "        print(f\"The {self.Title} of the book authored by Mr. {self.Author} and the price is {self.Price}\")\n",
    "book = book(\"a\",\"b\",2)\n",
    "book.View()"
   ]
  },
  {
   "cell_type": "code",
   "execution_count": null,
   "metadata": {},
   "outputs": [],
   "source": []
  },
  {
   "cell_type": "code",
   "execution_count": 13,
   "metadata": {},
   "outputs": [],
   "source": [
    "class vehicle:\n",
    "    def __init__(self,maxspeed,mileage):\n",
    "        self.maxspeed = maxspeed\n",
    "        self.mileage = mileage\n",
    "    \n",
    "obj1= vehicle(320,13.45)"
   ]
  },
  {
   "cell_type": "code",
   "execution_count": 14,
   "metadata": {},
   "outputs": [
    {
     "name": "stdout",
     "output_type": "stream",
     "text": [
      "13.45\n"
     ]
    }
   ],
   "source": [
    "print(obj1.mileage)"
   ]
  },
  {
   "cell_type": "code",
   "execution_count": 15,
   "metadata": {},
   "outputs": [
    {
     "name": "stdout",
     "output_type": "stream",
     "text": [
      "320\n"
     ]
    }
   ],
   "source": [
    "print(obj1.maxspeed)"
   ]
  },
  {
   "cell_type": "code",
   "execution_count": 1,
   "metadata": {},
   "outputs": [],
   "source": [
    "class vehicle:\n",
    "    pass"
   ]
  },
  {
   "cell_type": "code",
   "execution_count": 20,
   "metadata": {},
   "outputs": [
    {
     "name": "stdout",
     "output_type": "stream",
     "text": [
      "seating capacity of bus is  50\n",
      "40\n",
      "18\n"
     ]
    }
   ],
   "source": [
    "class bus(vehicle):\n",
    "    def seating_capacity(self,x =50):\n",
    "        print('seating capacity of bus is ',x)   \n",
    "bus = bus(40,18)\n",
    "bus.seating_capacity()\n",
    "print(bus.maxspeed)\n",
    "print(bus.mileage)"
   ]
  },
  {
   "cell_type": "code",
   "execution_count": null,
   "metadata": {},
   "outputs": [],
   "source": [
    "Write a program to make a class whose name is Polygon: \n",
    "instance variable  = shape\n",
    "# no.of sides =3\n",
    "define methods of finding area of rec , square and triangle \n",
    "class rec , sq and triangle inherit prop from polygon and print the area "
   ]
  },
  {
   "cell_type": "code",
   "execution_count": null,
   "metadata": {},
   "outputs": [],
   "source": [
    "s = [[\"the\",1,2],[3,4,\"python\"],[\"is\",\"fun\",1,2,3]]\n",
    "u need to print the strings given in the list to a new list. "
   ]
  },
  {
   "cell_type": "markdown",
   "metadata": {},
   "source": [
    "s = \"A man, A plan, A goodman:\"\n",
    "u need to lower all the characters in the given strings and remove all non-alphanumeric characters from the string and check after removing if the string is palindrome or not."
   ]
  },
  {
   "cell_type": "code",
   "execution_count": 1,
   "metadata": {},
   "outputs": [
    {
     "name": "stdout",
     "output_type": "stream",
     "text": [
      "enter the shapesquare\n",
      "enter no.of sides :1\n",
      "enter side : 90\n",
      "the area of sq is :  8100\n"
     ]
    }
   ],
   "source": [
    "class Polygon:\n",
    "    def __init__(self,shape,no_of_sides):\n",
    "        #self.shape = shape\n",
    "        self.shape = input(\"enter the shape\")\n",
    "        self.no_of_sides = int(input(\"enter no.of sides :\"))\n",
    "    \n",
    "    def area(self):\n",
    "        if self.no_of_sides==2:\n",
    "            l = int(input(\"enter length : \"))\n",
    "            b = int(input(\"enter breadth : \"))\n",
    "            area = l*b\n",
    "            print(\"the area of rec is : \",area)\n",
    "        elif self.no_of_sides==1:\n",
    "            a = int(input(\"enter side : \"))\n",
    "            area = a*a\n",
    "            print(\"the area of sq is : \",area)\n",
    "        elif self.no_of_sides==3:\n",
    "            b = int(input(\"enter base : \"))\n",
    "            h = int(input(\"enter height : \"))\n",
    "            area = (1/2)*(b*h)\n",
    "            print(\"the area of tri is : \",area)\n",
    "    \n",
    "    \n",
    "obj = Polygon(\"rectangle\",2)\n",
    "obj.area()"
   ]
  },
  {
   "cell_type": "code",
   "execution_count": 18,
   "metadata": {},
   "outputs": [],
   "source": [
    "import numpy as np"
   ]
  },
  {
   "cell_type": "code",
   "execution_count": 26,
   "metadata": {},
   "outputs": [
    {
     "ename": "TypeError",
     "evalue": "Field elements must be 2- or 3-tuples, got ''.''",
     "output_type": "error",
     "traceback": [
      "\u001b[1;31m---------------------------------------------------------------------------\u001b[0m",
      "\u001b[1;31mTypeError\u001b[0m                                 Traceback (most recent call last)",
      "\u001b[1;32m<ipython-input-26-ff238c0c200f>\u001b[0m in \u001b[0;36m<module>\u001b[1;34m\u001b[0m\n\u001b[1;32m----> 1\u001b[1;33m \u001b[0ma\u001b[0m \u001b[1;33m=\u001b[0m \u001b[0mnp\u001b[0m\u001b[1;33m.\u001b[0m\u001b[0marray\u001b[0m\u001b[1;33m(\u001b[0m\u001b[1;33m[\u001b[0m\u001b[1;34m\".\"\u001b[0m\u001b[1;33m,\u001b[0m\u001b[1;34m\".\"\u001b[0m\u001b[1;33m,\u001b[0m\u001b[1;34m\".\"\u001b[0m\u001b[1;33m,\u001b[0m\u001b[1;34m\"#\"\u001b[0m\u001b[1;33m,\u001b[0m\u001b[1;34m\"#\"\u001b[0m\u001b[1;33m,\u001b[0m\u001b[1;34m\"#\"\u001b[0m\u001b[1;33m]\u001b[0m\u001b[1;33m,\u001b[0m\u001b[1;33m[\u001b[0m\u001b[1;34m\".\"\u001b[0m\u001b[1;33m,\u001b[0m\u001b[1;34m\"#\"\u001b[0m\u001b[1;33m,\u001b[0m\u001b[1;34m\"#\"\u001b[0m\u001b[1;33m,\u001b[0m\u001b[1;34m\"#\"\u001b[0m\u001b[1;33m,\u001b[0m\u001b[1;34m\"#\"\u001b[0m\u001b[1;33m,\u001b[0m\u001b[1;34m\".\"\u001b[0m\u001b[1;33m]\u001b[0m\u001b[1;33m)\u001b[0m\u001b[1;33m\u001b[0m\u001b[1;33m\u001b[0m\u001b[0m\n\u001b[0m",
      "\u001b[1;31mTypeError\u001b[0m: Field elements must be 2- or 3-tuples, got ''.''"
     ]
    }
   ],
   "source": [
    "a = np.array([\".\",\".\",\".\",\"#\",\"#\",\"#\"],[\".\",\"#\",\"#\",\"#\",\"#\",\".\"])"
   ]
  },
  {
   "cell_type": "code",
   "execution_count": 23,
   "metadata": {},
   "outputs": [
    {
     "data": {
      "text/plain": [
       "array(['.', '.', '.', '#', '#', '#'], dtype='<U1')"
      ]
     },
     "execution_count": 23,
     "metadata": {},
     "output_type": "execute_result"
    }
   ],
   "source": [
    "a"
   ]
  },
  {
   "cell_type": "markdown",
   "metadata": {},
   "source": [
    "**Q6.Create a Python class called BankAccount which represents a bank account, having as attributes: accountNumber (numeric type), name (name of the account owner as string type), balance.** <br/>\n",
    "$\\;\\;\\;\\;\\;$ Create a constructor with parameters: accountNumber, name, balance. <br/>\n",
    "$\\;\\;\\;\\;\\;$ Create a Deposit() method which manages the deposit actions. <br/>\n",
    "$\\;\\;\\;\\;\\;$ Create a Withdrawal() method which manages withdrawals actions. <br/>\n",
    "$\\;\\;\\;\\;\\;$ Create a bankFees() method to apply the bank fees with a percentage of 5% of the balance account. <br/>\n",
    "$\\;\\;\\;\\;\\;$ Create a display()**\n"
   ]
  },
  {
   "cell_type": "code",
   "execution_count": 3,
   "metadata": {},
   "outputs": [
    {
     "name": "stdout",
     "output_type": "stream",
     "text": [
      "Enter the amount to be deposited :1000\n",
      "balance is : 51000\n",
      "Enter the amount to be deposited :500\n",
      "balance is : 49500\n"
     ]
    }
   ],
   "source": [
    "class BankAcc:\n",
    "    def __init__(self,accno,name,balance):\n",
    "        self.accno = accno\n",
    "        self.name = name\n",
    "        self.balance = balance\n",
    "    def Deposit(self):\n",
    "        D = int(input(\"Enter the amount to be deposited :\"))\n",
    "        balance = self.balance+D\n",
    "        print(\"balance is :\",balance)\n",
    "    def Withdrawal(self):\n",
    "        W = int(input(\"Enter the amount to be withdrawal :\"))\n",
    "        balance = self.balance-W\n",
    "        print(\"balance is :\",balance)\n",
    "    def bankfees(self):\n",
    "        bank_fee = self.balance*0.05\n",
    "        print(bank_fee)\n",
    "        \n",
    "acc = BankAcc(123456,\"dinesh\",50000)\n",
    "acc.Deposit()\n",
    "acc.Withdrawal()"
   ]
  },
  {
   "cell_type": "markdown",
   "metadata": {},
   "source": [
    "**You need to print the strings given in the list to a new list.** <br/>\n",
    "s = [[\"the\",1,2],[3,4,\"python\"],[\"is\",\"fun\",1,2,3]]"
   ]
  },
  {
   "cell_type": "code",
   "execution_count": 7,
   "metadata": {},
   "outputs": [
    {
     "name": "stdout",
     "output_type": "stream",
     "text": [
      "['the', 'python', 'is', 'fun']\n"
     ]
    }
   ],
   "source": [
    "s = [[\"the\",1,2],[3,4,\"python\"],[\"is\",\"fun\",1,2,3]]\n",
    "l1 = []\n",
    "for i in s:\n",
    "    #print(i)\n",
    "    for j in i:\n",
    "        if type(j)==str:\n",
    "            l1.append(j)\n",
    "print(l1)\n",
    "            "
   ]
  },
  {
   "cell_type": "markdown",
   "metadata": {},
   "source": [
    "**You need to lower all the characters in the given string and remove all non-alphanumeric characters from the string and check after removing if the string is palindrome or not.** <br/>\n",
    "s = \"A man, A plan, A goodman:\"\n"
   ]
  },
  {
   "cell_type": "code",
   "execution_count": 18,
   "metadata": {},
   "outputs": [
    {
     "name": "stdout",
     "output_type": "stream",
     "text": [
      "amanaplanagoodman\n",
      "string is not palindrome \n"
     ]
    }
   ],
   "source": [
    "s = \"A man, A plan, A goodman:\"\n",
    "s = s.lower()\n",
    "x = \"\"\n",
    "for i in s:\n",
    "    if i.isalnum():\n",
    "        x = x+i\n",
    "        #print(x,end = \"\")\n",
    "        \n",
    "print(x)\n",
    "if x==x[::-1]:\n",
    "    print(\"string is palindrome \")\n",
    "else:\n",
    "    print(\"string is not palindrome \")"
   ]
  },
  {
   "cell_type": "code",
   "execution_count": 35,
   "metadata": {},
   "outputs": [
    {
     "name": "stdout",
     "output_type": "stream",
     "text": [
      "It is a mammal.\n",
      "abc\n",
      "Has legs and tail\n",
      "It is a mammal.\n",
      "abc\n",
      "It is a mammal.\n"
     ]
    }
   ],
   "source": [
    "# Python program to demonstrate\n",
    "# super function\n",
    "class Animals:\n",
    "    def __init__(self):\n",
    "        self.legs = 4\n",
    "        self.domestic = True\n",
    "        self.tail = True\n",
    "        self.mammals = True\n",
    "\n",
    "    def isMammal(self):\n",
    "        if self.mammals:\n",
    "            print(\"It is a mammal.\")\n",
    "\n",
    "    def isDomestic(self):\n",
    "        if self.domestic:\n",
    "            print(\"It is a domestic animal.\")\n",
    "\n",
    "class Dogs(Animals):\n",
    "    \n",
    "    def __init__(self):\n",
    "        super().__init__()\n",
    "    def isMammal(self):\n",
    "        super().isMammal()\n",
    "        print(\"abc\")\n",
    "\n",
    "class Horses(Animals):\n",
    "    def __init__(self):\n",
    "        super().__init__()\n",
    "\n",
    "    def hasTailandLegs(self):\n",
    "        if self.tail and self.legs == 4:\n",
    "            print(\"Has legs and tail\")\n",
    "\n",
    "# Driver code\n",
    "an = Animals()\n",
    "Tom = Dogs()\n",
    "Tom.isMammal()\n",
    "Hor = Horses()\n",
    "Hor.hasTailandLegs()\n",
    "for mammal in (Tom,an):\n",
    "    mammal.isMammal()"
   ]
  },
  {
   "cell_type": "code",
   "execution_count": null,
   "metadata": {},
   "outputs": [],
   "source": [
    "l.count()\n",
    "t.count()"
   ]
  },
  {
   "cell_type": "code",
   "execution_count": 6,
   "metadata": {},
   "outputs": [
    {
     "name": "stdout",
     "output_type": "stream",
     "text": [
      "It is a mammal.\n",
      "Has legs and tail\n"
     ]
    }
   ],
   "source": [
    "\n",
    "# Python program to demonstrate\n",
    "# super function\n",
    " \n",
    " \n",
    "class Animals:\n",
    "     \n",
    "    # Initializing constructor\n",
    "    def __init__(self):\n",
    "        self.legs = 4\n",
    "        self.domestic = True\n",
    "        self.tail = True\n",
    "        self.mammals = True\n",
    "     \n",
    "    def isMammal(self):\n",
    "        if self.mammals:\n",
    "            print(\"It is a mammal.\")\n",
    "     \n",
    "    def isDomestic(self):\n",
    "        if self.domestic:\n",
    "            print(\"It is a domestic animal.\")\n",
    "     \n",
    "class Dogs(Animals):\n",
    "    def __init__(self):\n",
    "        super().__init__()\n",
    " \n",
    "    def isMammal(self):\n",
    "        super().isMammal()\n",
    " \n",
    "class Horses(Animals):\n",
    "    def __init__(self):\n",
    "        super().__init__()\n",
    " \n",
    "    def hasTailandLegs(self):\n",
    "        if self.tail and self.legs == 4:\n",
    "            print(\"Has legs and tail\")\n",
    " \n",
    "#Driver code\n",
    "Tom = Dogs()\n",
    "Tom.isMammal()\n",
    "Bruno = Horses()\n",
    "Bruno.hasTailandLegs()"
   ]
  },
  {
   "cell_type": "code",
   "execution_count": 7,
   "metadata": {},
   "outputs": [
    {
     "name": "stdout",
     "output_type": "stream",
     "text": [
      "Dog cannot fly\n",
      "Dog cannot swim\n",
      "Dog Is a mammal\n"
     ]
    }
   ],
   "source": [
    "\n",
    "class Mammal():\n",
    "     \n",
    "    def __init__(self, name):\n",
    "        print(name, \"Is a mammal\")\n",
    "         \n",
    "class canFly(Mammal):\n",
    "     \n",
    "    def __init__(self, canFly_name):\n",
    "        print(canFly_name, \"cannot fly\")\n",
    "         \n",
    "        # Calling Parent class\n",
    "        # Constructor\n",
    "        super().__init__(canFly_name)\n",
    "             \n",
    "class canSwim(Mammal):\n",
    "     \n",
    "    def __init__(self, canSwim_name):\n",
    "         \n",
    "        print(canSwim_name, \"cannot swim\")\n",
    "             \n",
    "        super().__init__(canSwim_name)\n",
    "         \n",
    "class Animal(canFly, canSwim):\n",
    "     \n",
    "    def __init__(self, name):\n",
    "         \n",
    "        # Calling the constructor\n",
    "        # of both thr parent\n",
    "        # class in the order of\n",
    "        # their inheritance\n",
    "        super().__init__(name)\n",
    " \n",
    " \n",
    "# Driver Code\n",
    "Carol = Animal(\"Dog\")"
   ]
  },
  {
   "cell_type": "code",
   "execution_count": 9,
   "metadata": {},
   "outputs": [
    {
     "name": "stdout",
     "output_type": "stream",
     "text": [
      "anu and 23\n",
      "Empid is 110023\n"
     ]
    }
   ],
   "source": [
    "class student:\n",
    "    def __init__(self,name,age):\n",
    "        self.name = name\n",
    "        self.age = age\n",
    "        print(f\"{self.name} and {self.age}\")\n",
    "    def show(self):\n",
    "        print(\"Empid is 110023\")\n",
    "class s(student):\n",
    "    def __init__(self,empid):\n",
    "        self.empid = empid\n",
    "        super().__init__(\"anu\",23)\n",
    "    def pr(self):\n",
    "        print(\"abc\")\n",
    "        \n",
    "        \n",
    "        \n",
    "x = s(110023)\n",
    "x.show()"
   ]
  }
 ],
 "metadata": {
  "kernelspec": {
   "display_name": "Python 3",
   "language": "python",
   "name": "python3"
  },
  "language_info": {
   "codemirror_mode": {
    "name": "ipython",
    "version": 3
   },
   "file_extension": ".py",
   "mimetype": "text/x-python",
   "name": "python",
   "nbconvert_exporter": "python",
   "pygments_lexer": "ipython3",
   "version": "3.7.6"
  }
 },
 "nbformat": 4,
 "nbformat_minor": 4
}
