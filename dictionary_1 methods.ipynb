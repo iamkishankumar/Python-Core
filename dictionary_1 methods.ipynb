{
 "cells": [
  {
   "cell_type": "code",
   "execution_count": 1,
   "id": "0c4399b4",
   "metadata": {},
   "outputs": [],
   "source": [
    "d1 = {\"name\":\"rohit\",\"class\":12,\"rollno\":38}"
   ]
  },
  {
   "cell_type": "markdown",
   "id": "774c619a",
   "metadata": {},
   "source": [
    "# dict.clear()"
   ]
  },
  {
   "cell_type": "code",
   "execution_count": 2,
   "id": "9ee20aea",
   "metadata": {},
   "outputs": [],
   "source": [
    "d1.clear()"
   ]
  },
  {
   "cell_type": "code",
   "execution_count": 3,
   "id": "41e638e4",
   "metadata": {},
   "outputs": [
    {
     "data": {
      "text/plain": [
       "{}"
      ]
     },
     "execution_count": 3,
     "metadata": {},
     "output_type": "execute_result"
    }
   ],
   "source": [
    "d1"
   ]
  },
  {
   "cell_type": "markdown",
   "id": "a9a14402",
   "metadata": {},
   "source": [
    "clear method delete all keys and values from a particular dictionary "
   ]
  },
  {
   "cell_type": "code",
   "execution_count": 4,
   "id": "40339f55",
   "metadata": {},
   "outputs": [],
   "source": [
    "#"
   ]
  },
  {
   "cell_type": "code",
   "execution_count": 5,
   "id": "2c3ea6dc",
   "metadata": {},
   "outputs": [],
   "source": [
    "d1 = {\"name\":\"rohit\",\"class\":12,\"rollno\":38}"
   ]
  },
  {
   "cell_type": "markdown",
   "id": "96736090",
   "metadata": {},
   "source": [
    "# dict.copy()"
   ]
  },
  {
   "cell_type": "code",
   "execution_count": 8,
   "id": "27de1bcd",
   "metadata": {},
   "outputs": [],
   "source": [
    "d2=d1.copy()"
   ]
  },
  {
   "cell_type": "code",
   "execution_count": 9,
   "id": "a4266105",
   "metadata": {},
   "outputs": [
    {
     "data": {
      "text/plain": [
       "{'name': 'rohit', 'class': 12, 'rollno': 38}"
      ]
     },
     "execution_count": 9,
     "metadata": {},
     "output_type": "execute_result"
    }
   ],
   "source": [
    "d2"
   ]
  },
  {
   "cell_type": "markdown",
   "id": "91b8206a",
   "metadata": {},
   "source": [
    "copy method save all keys and values in other dictionary"
   ]
  },
  {
   "cell_type": "code",
   "execution_count": 11,
   "id": "2a2bea6f",
   "metadata": {},
   "outputs": [],
   "source": [
    "#"
   ]
  },
  {
   "cell_type": "markdown",
   "id": "fdf4e651",
   "metadata": {},
   "source": [
    "# dict.fromkeys()"
   ]
  },
  {
   "cell_type": "code",
   "execution_count": 13,
   "id": "fe0596b4",
   "metadata": {},
   "outputs": [
    {
     "data": {
      "text/plain": [
       "{1: None, 2: None, 3: None, 4: None, 5: None}"
      ]
     },
     "execution_count": 13,
     "metadata": {},
     "output_type": "execute_result"
    }
   ],
   "source": [
    "l1=[1,2,3,4,5]\n",
    "d1.fromkeys(l1)"
   ]
  },
  {
   "cell_type": "code",
   "execution_count": 19,
   "id": "25a0de16",
   "metadata": {},
   "outputs": [
    {
     "data": {
      "text/plain": [
       "{1: 'aman', 2: 'aman', 3: 'aman', 4: 'aman', 5: 'aman'}"
      ]
     },
     "execution_count": 19,
     "metadata": {},
     "output_type": "execute_result"
    }
   ],
   "source": [
    "d1.fromkeys(l1,\"aman\")"
   ]
  },
  {
   "cell_type": "markdown",
   "id": "dc05de3e",
   "metadata": {},
   "source": [
    "it create a new dictionary and in this dict keys argument take iterable and values by default none"
   ]
  },
  {
   "cell_type": "code",
   "execution_count": 20,
   "id": "66934d86",
   "metadata": {},
   "outputs": [],
   "source": [
    "#"
   ]
  },
  {
   "cell_type": "markdown",
   "id": "a6cb7c69",
   "metadata": {},
   "source": [
    "# dict.get()"
   ]
  },
  {
   "cell_type": "code",
   "execution_count": 21,
   "id": "e2625dd0",
   "metadata": {},
   "outputs": [
    {
     "data": {
      "text/plain": [
       "{'name': 'rohit', 'class': 12, 'rollno': 38}"
      ]
     },
     "execution_count": 21,
     "metadata": {},
     "output_type": "execute_result"
    }
   ],
   "source": [
    "d1"
   ]
  },
  {
   "cell_type": "code",
   "execution_count": 22,
   "id": "51bab15d",
   "metadata": {},
   "outputs": [
    {
     "data": {
      "text/plain": [
       "12"
      ]
     },
     "execution_count": 22,
     "metadata": {},
     "output_type": "execute_result"
    }
   ],
   "source": [
    "d1.get(\"class\")"
   ]
  },
  {
   "cell_type": "code",
   "execution_count": 24,
   "id": "4a9ac26b",
   "metadata": {},
   "outputs": [
    {
     "data": {
      "text/plain": [
       "'rohit'"
      ]
     },
     "execution_count": 24,
     "metadata": {},
     "output_type": "execute_result"
    }
   ],
   "source": [
    "d1.get(\"name\",\"not in dictionary\")"
   ]
  },
  {
   "cell_type": "code",
   "execution_count": 25,
   "id": "faa151d5",
   "metadata": {},
   "outputs": [
    {
     "data": {
      "text/plain": [
       "'not in dictionary'"
      ]
     },
     "execution_count": 25,
     "metadata": {},
     "output_type": "execute_result"
    }
   ],
   "source": [
    "d1.get(\"subject\",\"not in dictionary\")"
   ]
  },
  {
   "cell_type": "markdown",
   "id": "701045e2",
   "metadata": {},
   "source": [
    "get method to get value of a particular key "
   ]
  },
  {
   "cell_type": "code",
   "execution_count": 26,
   "id": "01bdf729",
   "metadata": {},
   "outputs": [],
   "source": [
    "#"
   ]
  },
  {
   "cell_type": "markdown",
   "id": "baf3030e",
   "metadata": {},
   "source": [
    "# dict.items()"
   ]
  },
  {
   "cell_type": "code",
   "execution_count": 27,
   "id": "44d7de6d",
   "metadata": {},
   "outputs": [
    {
     "data": {
      "text/plain": [
       "dict_items([('name', 'rohit'), ('class', 12), ('rollno', 38)])"
      ]
     },
     "execution_count": 27,
     "metadata": {},
     "output_type": "execute_result"
    }
   ],
   "source": [
    "d1.items()"
   ]
  },
  {
   "cell_type": "markdown",
   "id": "9979d3e5",
   "metadata": {},
   "source": [
    "items method to show all keys and values of a particular dictionary"
   ]
  },
  {
   "cell_type": "code",
   "execution_count": 28,
   "id": "0ae7d1bb",
   "metadata": {},
   "outputs": [],
   "source": [
    "#"
   ]
  },
  {
   "cell_type": "markdown",
   "id": "21647f4f",
   "metadata": {},
   "source": [
    "# dict.keys()"
   ]
  },
  {
   "cell_type": "code",
   "execution_count": 29,
   "id": "c2c86c9b",
   "metadata": {},
   "outputs": [
    {
     "data": {
      "text/plain": [
       "dict_keys(['name', 'class', 'rollno'])"
      ]
     },
     "execution_count": 29,
     "metadata": {},
     "output_type": "execute_result"
    }
   ],
   "source": [
    "d1.keys()"
   ]
  },
  {
   "cell_type": "markdown",
   "id": "94ad6ee4",
   "metadata": {},
   "source": [
    "items method to show all keys  of a particular dictionary"
   ]
  },
  {
   "cell_type": "code",
   "execution_count": 30,
   "id": "2914d7fc",
   "metadata": {},
   "outputs": [],
   "source": [
    "#"
   ]
  },
  {
   "cell_type": "markdown",
   "id": "dc713b39",
   "metadata": {},
   "source": [
    "# dict.pop()"
   ]
  },
  {
   "cell_type": "code",
   "execution_count": 32,
   "id": "79f81471",
   "metadata": {},
   "outputs": [
    {
     "data": {
      "text/plain": [
       "38"
      ]
     },
     "execution_count": 32,
     "metadata": {},
     "output_type": "execute_result"
    }
   ],
   "source": [
    "d1.pop(\"rollno\")"
   ]
  },
  {
   "cell_type": "code",
   "execution_count": 33,
   "id": "26261a32",
   "metadata": {},
   "outputs": [
    {
     "data": {
      "text/plain": [
       "{'name': 'rohit', 'class': 12}"
      ]
     },
     "execution_count": 33,
     "metadata": {},
     "output_type": "execute_result"
    }
   ],
   "source": [
    "d1"
   ]
  },
  {
   "cell_type": "markdown",
   "id": "3b773804",
   "metadata": {},
   "source": [
    "if i want to delete a key and it value so i shall use pop methods to delete "
   ]
  },
  {
   "cell_type": "code",
   "execution_count": 34,
   "id": "3c4f103e",
   "metadata": {},
   "outputs": [],
   "source": [
    "#"
   ]
  },
  {
   "cell_type": "markdown",
   "id": "b4035517",
   "metadata": {},
   "source": [
    "# dict.popitem()"
   ]
  },
  {
   "cell_type": "code",
   "execution_count": 36,
   "id": "443ca6f6",
   "metadata": {},
   "outputs": [
    {
     "data": {
      "text/plain": [
       "('class', 12)"
      ]
     },
     "execution_count": 36,
     "metadata": {},
     "output_type": "execute_result"
    }
   ],
   "source": [
    "d1.popitem()"
   ]
  },
  {
   "cell_type": "markdown",
   "id": "a1147c36",
   "metadata": {},
   "source": [
    "popitem delete last key and value from a particular dictionary"
   ]
  },
  {
   "cell_type": "code",
   "execution_count": 37,
   "id": "56bc79f0",
   "metadata": {},
   "outputs": [],
   "source": [
    "#"
   ]
  },
  {
   "cell_type": "markdown",
   "id": "f9326b59",
   "metadata": {},
   "source": [
    "# dict.setdefault()"
   ]
  },
  {
   "cell_type": "code",
   "execution_count": 41,
   "id": "7f405571",
   "metadata": {},
   "outputs": [
    {
     "data": {
      "text/plain": [
       "12"
      ]
     },
     "execution_count": 41,
     "metadata": {},
     "output_type": "execute_result"
    }
   ],
   "source": [
    "\n",
    "d1.setdefault(\"class\",12)"
   ]
  },
  {
   "cell_type": "code",
   "execution_count": 42,
   "id": "837db9ea",
   "metadata": {},
   "outputs": [
    {
     "data": {
      "text/plain": [
       "{'name': 'rohit', 'class': 12}"
      ]
     },
     "execution_count": 42,
     "metadata": {},
     "output_type": "execute_result"
    }
   ],
   "source": [
    "d1"
   ]
  },
  {
   "cell_type": "markdown",
   "id": "459f913e",
   "metadata": {},
   "source": [
    "setdefault method add a key or it value in a dictionary "
   ]
  },
  {
   "cell_type": "code",
   "execution_count": 43,
   "id": "6576fbf3",
   "metadata": {},
   "outputs": [],
   "source": [
    "#"
   ]
  },
  {
   "cell_type": "markdown",
   "id": "4e809850",
   "metadata": {},
   "source": [
    "# dict.update()"
   ]
  },
  {
   "cell_type": "code",
   "execution_count": 48,
   "id": "eb94a3fe",
   "metadata": {},
   "outputs": [
    {
     "data": {
      "text/plain": [
       "{'name': 'rohit', 'class': 12}"
      ]
     },
     "execution_count": 48,
     "metadata": {},
     "output_type": "execute_result"
    }
   ],
   "source": [
    "d1"
   ]
  },
  {
   "cell_type": "code",
   "execution_count": 49,
   "id": "75cf186d",
   "metadata": {},
   "outputs": [],
   "source": [
    "d2 = {\"name\":\"manas\",\"class\":11,\"rollno\":28}"
   ]
  },
  {
   "cell_type": "code",
   "execution_count": 50,
   "id": "8c6dbf5e",
   "metadata": {},
   "outputs": [],
   "source": [
    "d1.update(d2)"
   ]
  },
  {
   "cell_type": "code",
   "execution_count": 51,
   "id": "feee1be2",
   "metadata": {},
   "outputs": [
    {
     "data": {
      "text/plain": [
       "{'name': 'manas', 'class': 11, 'rollno': 28}"
      ]
     },
     "execution_count": 51,
     "metadata": {},
     "output_type": "execute_result"
    }
   ],
   "source": [
    "d1"
   ]
  },
  {
   "cell_type": "markdown",
   "id": "9fce346b",
   "metadata": {},
   "source": [
    "if i have another updated dictionary so i want to apply update method to update my old dictionary with a new updated dictionary without loss another keys which is not present is updated dictionary."
   ]
  },
  {
   "cell_type": "code",
   "execution_count": 52,
   "id": "e598e57d",
   "metadata": {},
   "outputs": [],
   "source": [
    "#"
   ]
  },
  {
   "cell_type": "markdown",
   "id": "ee2b068e",
   "metadata": {},
   "source": [
    "# dict.values()"
   ]
  },
  {
   "cell_type": "code",
   "execution_count": 53,
   "id": "fd3d334f",
   "metadata": {},
   "outputs": [
    {
     "data": {
      "text/plain": [
       "{'name': 'manas', 'class': 11, 'rollno': 28}"
      ]
     },
     "execution_count": 53,
     "metadata": {},
     "output_type": "execute_result"
    }
   ],
   "source": [
    "d1"
   ]
  },
  {
   "cell_type": "code",
   "execution_count": 54,
   "id": "04166f8e",
   "metadata": {},
   "outputs": [
    {
     "data": {
      "text/plain": [
       "dict_values(['manas', 11, 28])"
      ]
     },
     "execution_count": 54,
     "metadata": {},
     "output_type": "execute_result"
    }
   ],
   "source": [
    "d1.values()"
   ]
  },
  {
   "cell_type": "markdown",
   "id": "0db648fb",
   "metadata": {},
   "source": [
    "items method to show all values of a particular dictionary"
   ]
  },
  {
   "cell_type": "markdown",
   "id": "d8c1a3ac",
   "metadata": {},
   "source": [
    "# "
   ]
  },
  {
   "cell_type": "markdown",
   "id": "c7cb8149",
   "metadata": {},
   "source": [
    "# Thanks For Watching Dictionary Methods"
   ]
  },
  {
   "cell_type": "code",
   "execution_count": null,
   "id": "11857f06",
   "metadata": {},
   "outputs": [],
   "source": []
  }
 ],
 "metadata": {
  "kernelspec": {
   "display_name": "Python 3 (ipykernel)",
   "language": "python",
   "name": "python3"
  },
  "language_info": {
   "codemirror_mode": {
    "name": "ipython",
    "version": 3
   },
   "file_extension": ".py",
   "mimetype": "text/x-python",
   "name": "python",
   "nbconvert_exporter": "python",
   "pygments_lexer": "ipython3",
   "version": "3.10.2"
  }
 },
 "nbformat": 4,
 "nbformat_minor": 5
}
