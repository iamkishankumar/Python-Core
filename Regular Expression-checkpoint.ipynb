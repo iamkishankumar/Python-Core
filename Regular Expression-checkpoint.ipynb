{
 "cells": [
  {
   "cell_type": "code",
   "execution_count": 6,
   "id": "480113f8",
   "metadata": {},
   "outputs": [],
   "source": [
    "# There are Two types of function\n",
    "# 1. Match Function\n",
    "# 2. Search Function\n",
    "# 3. Replace Function\n"
   ]
  },
  {
   "cell_type": "markdown",
   "id": "77a2c537",
   "metadata": {},
   "source": [
    "1. Match Function"
   ]
  },
  {
   "cell_type": "code",
   "execution_count": 5,
   "id": "bc501f02",
   "metadata": {},
   "outputs": [
    {
     "name": "stdout",
     "output_type": "stream",
     "text": [
      "<re.Match object; span=(0, 3), match='abc'>\n",
      "None\n"
     ]
    }
   ],
   "source": [
    "import re\n",
    "\n",
    "pattren = r\"^abc\"\n",
    "mystring = \"abcdefg\"\n",
    "\n",
    "x = re.match(pattren,mystring)\n",
    "print(x)\n",
    "##############################\n",
    "pattren = r\"^abc\"\n",
    "mystring = \"acdef\"\n",
    "\n",
    "x = re.match(pattren,mystring)\n",
    "print(x)\n"
   ]
  },
  {
   "cell_type": "markdown",
   "id": "43ce75c5",
   "metadata": {},
   "source": [
    "2. Search Function"
   ]
  },
  {
   "cell_type": "code",
   "execution_count": 7,
   "id": "67b15cc0",
   "metadata": {},
   "outputs": [
    {
     "name": "stdout",
     "output_type": "stream",
     "text": [
      "<re.Match object; span=(3, 6), match='are'>\n"
     ]
    }
   ],
   "source": [
    "import re\n",
    "\n",
    "txt= \"We are learning python\"\n",
    "x = re.search(\"are\",txt)\n",
    "print(x)"
   ]
  },
  {
   "cell_type": "code",
   "execution_count": 9,
   "id": "dd9f8088",
   "metadata": {},
   "outputs": [
    {
     "name": "stdout",
     "output_type": "stream",
     "text": [
      "2\n"
     ]
    }
   ],
   "source": [
    "import re\n",
    "\n",
    "txt= \"We are learning python\"\n",
    "x = re.search(\"\\s\",txt)\n",
    "print(x.start())"
   ]
  },
  {
   "cell_type": "code",
   "execution_count": 15,
   "id": "4238a606",
   "metadata": {},
   "outputs": [
    {
     "name": "stdout",
     "output_type": "stream",
     "text": [
      "Before replace : We is learning Python\n",
      "After Replace :  We are learning Python\n"
     ]
    }
   ],
   "source": [
    "import re\n",
    "\n",
    "str1 = \"We is learning Python\"\n",
    "print(\"Before replace :\",str1)\n",
    "\n",
    "result = re.sub(r\"is\",\"are\",str1)\n",
    "print(\"After Replace : \",result)\n"
   ]
  },
  {
   "cell_type": "code",
   "execution_count": null,
   "id": "dce7892e",
   "metadata": {},
   "outputs": [],
   "source": []
  },
  {
   "cell_type": "code",
   "execution_count": null,
   "id": "3f703575",
   "metadata": {},
   "outputs": [],
   "source": []
  },
  {
   "cell_type": "code",
   "execution_count": null,
   "id": "05070fce",
   "metadata": {},
   "outputs": [],
   "source": []
  }
 ],
 "metadata": {
  "kernelspec": {
   "display_name": "Python 3 (ipykernel)",
   "language": "python",
   "name": "python3"
  },
  "language_info": {
   "codemirror_mode": {
    "name": "ipython",
    "version": 3
   },
   "file_extension": ".py",
   "mimetype": "text/x-python",
   "name": "python",
   "nbconvert_exporter": "python",
   "pygments_lexer": "ipython3",
   "version": "3.10.2"
  }
 },
 "nbformat": 4,
 "nbformat_minor": 5
}
