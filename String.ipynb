{
 "cells": [
  {
   "cell_type": "markdown",
   "id": "68aec1d7",
   "metadata": {},
   "source": [
    "# How to use String in Python"
   ]
  },
  {
   "cell_type": "code",
   "execution_count": 6,
   "id": "428aad4c",
   "metadata": {},
   "outputs": [
    {
     "name": "stdout",
     "output_type": "stream",
     "text": [
      "Hello World\n",
      "Hello World\n"
     ]
    }
   ],
   "source": [
    "# Single Quote in String\n",
    "print('Hello World')\n",
    "\n",
    "# Double Quote in String \n",
    "print(\"Hello World\")"
   ]
  },
  {
   "cell_type": "markdown",
   "id": "7cd3fe1d",
   "metadata": {},
   "source": [
    "# Multiline String"
   ]
  },
  {
   "cell_type": "code",
   "execution_count": 8,
   "id": "2dc36979",
   "metadata": {},
   "outputs": [
    {
     "name": "stdout",
     "output_type": "stream",
     "text": [
      "Python is booming in the Market,\n",
      "Python is smart language,\n",
      "Python is used in AI,Machine Learning,Data Science\n",
      "\n"
     ]
    }
   ],
   "source": [
    "a = \"\"\"Python is booming in the Market,\n",
    "Python is smart language,\n",
    "Python is used in AI,Machine Learning,Data Science\n",
    "\"\"\"\n",
    "print(a)"
   ]
  },
  {
   "cell_type": "markdown",
   "id": "1d694ef0",
   "metadata": {},
   "source": [
    "# Update String"
   ]
  },
  {
   "cell_type": "code",
   "execution_count": 12,
   "id": "3cbec861",
   "metadata": {},
   "outputs": [
    {
     "name": "stdout",
     "output_type": "stream",
     "text": [
      "Hello World!\n",
      "Update String :  Hello Python\n"
     ]
    }
   ],
   "source": [
    "a = \"Hello World!\"\n",
    "print(a)\n",
    "print(\"Update String : \",a[:6]+\"Python\")"
   ]
  },
  {
   "cell_type": "markdown",
   "id": "66b956a8",
   "metadata": {},
   "source": [
    "# String Slicing"
   ]
  },
  {
   "cell_type": "code",
   "execution_count": 18,
   "id": "2d9cbcf8",
   "metadata": {},
   "outputs": [
    {
     "name": "stdout",
     "output_type": "stream",
     "text": [
      "Index 1 :  e\n",
      "Index between 1 to 6 :  ello \n",
      "Index till 6 :  Hello P\n",
      "Last Value :  n\n"
     ]
    }
   ],
   "source": [
    "a = \"Hello Python\"\n",
    "\n",
    "# Access the value of Index 1\n",
    "print(\"Index 1 : \",a[1])\n",
    "\n",
    "# Access the value Between index 1 to 6\n",
    "print(\"Index between 1 to 6 : \",a[1:6])\n",
    "\n",
    "# Access the value till index 6\n",
    "print(\"Index till 6 : \",a[:7])\n",
    "\n",
    "# Access the last value from String\n",
    "print(\"Last Value : \",a[-1])"
   ]
  },
  {
   "cell_type": "markdown",
   "id": "cfee0c35",
   "metadata": {},
   "source": [
    "# String In-Built Methods"
   ]
  },
  {
   "cell_type": "code",
   "execution_count": 20,
   "id": "17733375",
   "metadata": {},
   "outputs": [
    {
     "name": "stdout",
     "output_type": "stream",
     "text": [
      "Hello and welcome to learnvern\n"
     ]
    }
   ],
   "source": [
    "# Capitalize() : This method converts the first Character in String\n",
    "a = \"hello and welcome to learnvern\"\n",
    "x = a.capitalize()\n",
    "print(x)"
   ]
  },
  {
   "cell_type": "code",
   "execution_count": 22,
   "id": "f207cc85",
   "metadata": {},
   "outputs": [
    {
     "name": "stdout",
     "output_type": "stream",
     "text": [
      "hello and welcome to learnvern\n"
     ]
    }
   ],
   "source": [
    "# Casefold() :  This method convert all Capital letter into small\n",
    "\n",
    "a = \"Hello and Welcome to Learnvern\"\n",
    "x = a.casefold()\n",
    "print(x)"
   ]
  },
  {
   "cell_type": "code",
   "execution_count": 25,
   "id": "203c3cde",
   "metadata": {},
   "outputs": [
    {
     "name": "stdout",
     "output_type": "stream",
     "text": [
      "Python\n",
      "       Python       \n"
     ]
    }
   ],
   "source": [
    "# Center() :  This is use to bring your into center \n",
    "\n",
    "a = \"Python\"\n",
    "print(a)\n",
    "\n",
    "x = a.center(20)\n",
    "# Update using center method\n",
    "print(x)"
   ]
  },
  {
   "cell_type": "code",
   "execution_count": 26,
   "id": "6bc176fd",
   "metadata": {},
   "outputs": [
    {
     "name": "stdout",
     "output_type": "stream",
     "text": [
      "2\n"
     ]
    }
   ],
   "source": [
    "# Count() :  This method is used to count the repeated word in String\n",
    "\n",
    "a = \"I love Python, Python is a smart language\"\n",
    "x = a.count(\"Python\")\n",
    "print(x)"
   ]
  }
 ],
 "metadata": {
  "kernelspec": {
   "display_name": "Python 3",
   "language": "python",
   "name": "python3"
  },
  "language_info": {
   "codemirror_mode": {
    "name": "ipython",
    "version": 3
   },
   "file_extension": ".py",
   "mimetype": "text/x-python",
   "name": "python",
   "nbconvert_exporter": "python",
   "pygments_lexer": "ipython3",
   "version": "3.9.5"
  }
 },
 "nbformat": 4,
 "nbformat_minor": 5
}
