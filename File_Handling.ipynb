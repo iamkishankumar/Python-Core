{
 "cells": [
  {
   "cell_type": "markdown",
   "id": "5a3d3c6c",
   "metadata": {},
   "source": [
    "# File Creating\n"
   ]
  },
  {
   "cell_type": "code",
   "execution_count": 2,
   "id": "b4a37035",
   "metadata": {},
   "outputs": [
    {
     "name": "stdout",
     "output_type": "stream",
     "text": [
      "File created\n"
     ]
    }
   ],
   "source": [
    "# open(\"File name\",\"Permission\")\n",
    "\n",
    "s = \"This is my file handling program\"\n",
    "file = open(\"demo1.txt\",\"w\")\n",
    "file.write(s)\n",
    "print(\"File created\")\n",
    "file.close()"
   ]
  },
  {
   "cell_type": "markdown",
   "id": "d8e0ca19",
   "metadata": {},
   "source": [
    "# File Read"
   ]
  },
  {
   "cell_type": "code",
   "execution_count": 4,
   "id": "5509462d",
   "metadata": {},
   "outputs": [
    {
     "name": "stdout",
     "output_type": "stream",
     "text": [
      "This is my file handling program\n"
     ]
    }
   ],
   "source": [
    "file = open(\"demo1.txt\",\"r\")\n",
    "filecontent = file.read()\n",
    "print(filecontent)"
   ]
  },
  {
   "cell_type": "markdown",
   "id": "d7a5617b",
   "metadata": {},
   "source": [
    "# Write a list into File"
   ]
  },
  {
   "cell_type": "code",
   "execution_count": 6,
   "id": "2849a06b",
   "metadata": {},
   "outputs": [
    {
     "name": "stdout",
     "output_type": "stream",
     "text": [
      "File created\n"
     ]
    }
   ],
   "source": [
    "l1 = [\"Python\",\"Java\",\"Php\",\"Angular\"]\n",
    "file = open(\"demo2.txt\",\"w\")\n",
    "file.writelines(l1)\n",
    "print(\"File created\")\n",
    "file.close()"
   ]
  },
  {
   "cell_type": "markdown",
   "id": "9e951498",
   "metadata": {},
   "source": [
    "# Read a list from File"
   ]
  },
  {
   "cell_type": "code",
   "execution_count": 8,
   "id": "e6c4ea18",
   "metadata": {},
   "outputs": [
    {
     "name": "stdout",
     "output_type": "stream",
     "text": [
      "['PythonJavaPhpAngular']\n"
     ]
    }
   ],
   "source": [
    "file = open(\"demo2.txt\",\"r\")\n",
    "filelist = file.readlines()\n",
    "print(filelist)"
   ]
  },
  {
   "cell_type": "markdown",
   "id": "6bc3e48f",
   "metadata": {},
   "source": [
    "# Appending the value into file"
   ]
  },
  {
   "cell_type": "code",
   "execution_count": 9,
   "id": "3ebd1b99",
   "metadata": {},
   "outputs": [
    {
     "name": "stdout",
     "output_type": "stream",
     "text": [
      "File Updated\n"
     ]
    }
   ],
   "source": [
    "s = \"Python file handling\"\n",
    "file = open(\"demo1.txt\",\"a\")\n",
    "file.write(s)\n",
    "print(\"File Updated\")\n",
    "file.close()"
   ]
  }
 ],
 "metadata": {
  "kernelspec": {
   "display_name": "Python 3 (ipykernel)",
   "language": "python",
   "name": "python3"
  },
  "language_info": {
   "codemirror_mode": {
    "name": "ipython",
    "version": 3
   },
   "file_extension": ".py",
   "mimetype": "text/x-python",
   "name": "python",
   "nbconvert_exporter": "python",
   "pygments_lexer": "ipython3",
   "version": "3.10.2"
  }
 },
 "nbformat": 4,
 "nbformat_minor": 5
}
