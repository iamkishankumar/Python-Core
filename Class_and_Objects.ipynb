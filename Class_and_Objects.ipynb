{
 "cells": [
  {
   "cell_type": "markdown",
   "id": "449a9c8f",
   "metadata": {},
   "source": [
    "# How to create a Class?"
   ]
  },
  {
   "cell_type": "code",
   "execution_count": 2,
   "id": "c74209e7",
   "metadata": {},
   "outputs": [
    {
     "name": "stdout",
     "output_type": "stream",
     "text": [
      "<class '__main__.myclass'>\n"
     ]
    }
   ],
   "source": [
    "class myclass:\n",
    "    x = 5 # Property of class\n",
    "    \n",
    "print(myclass)"
   ]
  },
  {
   "cell_type": "markdown",
   "id": "8cfdb893",
   "metadata": {},
   "source": [
    "# How to create object?\n"
   ]
  },
  {
   "cell_type": "code",
   "execution_count": 6,
   "id": "6dd2e7fd",
   "metadata": {},
   "outputs": [
    {
     "name": "stdout",
     "output_type": "stream",
     "text": [
      "5\n"
     ]
    }
   ],
   "source": [
    "class myclass:\n",
    "    x = 5 # Property of class\n",
    "    \n",
    "# creating object of myclass\n",
    "m1 = myclass() # m1 is an object of class myclass\n",
    "print(m1.x)"
   ]
  },
  {
   "cell_type": "markdown",
   "id": "d75af537",
   "metadata": {},
   "source": [
    "# Calling a function by object"
   ]
  },
  {
   "cell_type": "code",
   "execution_count": 9,
   "id": "00f82299",
   "metadata": {},
   "outputs": [
    {
     "name": "stdout",
     "output_type": "stream",
     "text": [
      "Hello myFunction\n"
     ]
    }
   ],
   "source": [
    "class myclass:\n",
    "    def myfunction(self): # Property of myclass\n",
    "        print(\"Hello myFunction\")\n",
    "# Creating an object\n",
    "m1 = myclass()\n",
    "m1.myfunction()"
   ]
  },
  {
   "cell_type": "markdown",
   "id": "d8a8f401",
   "metadata": {},
   "source": [
    "# How create constructor"
   ]
  },
  {
   "cell_type": "code",
   "execution_count": 11,
   "id": "b2445afc",
   "metadata": {},
   "outputs": [
    {
     "name": "stdout",
     "output_type": "stream",
     "text": [
      "This is my constructor\n"
     ]
    }
   ],
   "source": [
    "class myclass:\n",
    "    # Creating a constructor\n",
    "    def __init__(self):\n",
    "        print(\"This is my constructor\")\n",
    "        \n",
    "# creating an object\n",
    "m1 = myclass()\n"
   ]
  },
  {
   "cell_type": "markdown",
   "id": "d29c70dd",
   "metadata": {},
   "source": [
    "# Change the value by object"
   ]
  },
  {
   "cell_type": "code",
   "execution_count": 18,
   "id": "ffd953ac",
   "metadata": {},
   "outputs": [
    {
     "name": "stdout",
     "output_type": "stream",
     "text": [
      "Age :  26\n"
     ]
    },
    {
     "ename": "AttributeError",
     "evalue": "'myclass' object has no attribute 'age'",
     "output_type": "error",
     "traceback": [
      "\u001b[1;31m---------------------------------------------------------------------------\u001b[0m",
      "\u001b[1;31mAttributeError\u001b[0m                            Traceback (most recent call last)",
      "\u001b[1;32m<ipython-input-18-75f7baa75976>\u001b[0m in \u001b[0;36m<module>\u001b[1;34m\u001b[0m\n\u001b[0;32m     19\u001b[0m \u001b[1;31m# Delete the object\u001b[0m\u001b[1;33m\u001b[0m\u001b[1;33m\u001b[0m\u001b[1;33m\u001b[0m\u001b[0m\n\u001b[0;32m     20\u001b[0m \u001b[1;32mdel\u001b[0m \u001b[0mm1\u001b[0m\u001b[1;33m.\u001b[0m\u001b[0mage\u001b[0m\u001b[1;33m\u001b[0m\u001b[1;33m\u001b[0m\u001b[0m\n\u001b[1;32m---> 21\u001b[1;33m \u001b[0mprint\u001b[0m\u001b[1;33m(\u001b[0m\u001b[1;34m\"Age : \"\u001b[0m\u001b[1;33m,\u001b[0m\u001b[0mm1\u001b[0m\u001b[1;33m.\u001b[0m\u001b[0mage\u001b[0m\u001b[1;33m)\u001b[0m\u001b[1;33m\u001b[0m\u001b[1;33m\u001b[0m\u001b[0m\n\u001b[0m",
      "\u001b[1;31mAttributeError\u001b[0m: 'myclass' object has no attribute 'age'"
     ]
    }
   ],
   "source": [
    "class myclass:\n",
    "    def __init__(self,name,age):\n",
    "        self.name = name\n",
    "        self.age = age\n",
    "        \n",
    "    def myfunction(self):\n",
    "        print(\"My Name is  : \"+self.name)\n",
    "        \n",
    "# creating an object\n",
    "m1 = myclass(\"Sunit\",25)\n",
    "m1.age\n",
    "m1.name\n",
    "\n",
    "# Changing the age using object\n",
    "m1.age = 26\n",
    "print(\"Age : \",m1.age)\n",
    "\n",
    "\n",
    "# Delete the object\n",
    "del m1.age\n",
    "print(\"Age : \",m1.age)"
   ]
  }
 ],
 "metadata": {
  "kernelspec": {
   "display_name": "Python 3",
   "language": "python",
   "name": "python3"
  },
  "language_info": {
   "codemirror_mode": {
    "name": "ipython",
    "version": 3
   },
   "file_extension": ".py",
   "mimetype": "text/x-python",
   "name": "python",
   "nbconvert_exporter": "python",
   "pygments_lexer": "ipython3",
   "version": "3.9.5"
  }
 },
 "nbformat": 4,
 "nbformat_minor": 5
}
