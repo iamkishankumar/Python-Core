{
 "cells": [
  {
   "cell_type": "code",
   "execution_count": 122,
   "id": "b0dcd9d5",
   "metadata": {},
   "outputs": [],
   "source": [
    "# sum\n",
    "# max\n",
    "# min\n",
    "# sorted\n",
    "# divmod\n",
    "# pow\n",
    "# len\n",
    "#round"
   ]
  },
  {
   "cell_type": "code",
   "execution_count": 2,
   "id": "176c34eb",
   "metadata": {},
   "outputs": [],
   "source": [
    "t = (12,34,45,67,87,65,43,23)"
   ]
  },
  {
   "cell_type": "code",
   "execution_count": 118,
   "id": "0558124d",
   "metadata": {},
   "outputs": [
    {
     "data": {
      "text/plain": [
       "376"
      ]
     },
     "execution_count": 118,
     "metadata": {},
     "output_type": "execute_result"
    }
   ],
   "source": [
    "sum(t)"
   ]
  },
  {
   "cell_type": "code",
   "execution_count": 120,
   "id": "98aad4d7",
   "metadata": {},
   "outputs": [
    {
     "data": {
      "text/plain": [
       "8"
      ]
     },
     "execution_count": 120,
     "metadata": {},
     "output_type": "execute_result"
    }
   ],
   "source": [
    "len(t)"
   ]
  },
  {
   "cell_type": "code",
   "execution_count": 121,
   "id": "f2e0b03b",
   "metadata": {},
   "outputs": [
    {
     "data": {
      "text/plain": [
       "47.0"
      ]
     },
     "execution_count": 121,
     "metadata": {},
     "output_type": "execute_result"
    }
   ],
   "source": [
    "376/8"
   ]
  },
  {
   "cell_type": "code",
   "execution_count": 123,
   "id": "9f24dd79",
   "metadata": {},
   "outputs": [
    {
     "data": {
      "text/plain": [
       "47.0"
      ]
     },
     "execution_count": 123,
     "metadata": {},
     "output_type": "execute_result"
    }
   ],
   "source": [
    "sum(t)/len(t)"
   ]
  },
  {
   "cell_type": "code",
   "execution_count": 124,
   "id": "f3a646cf",
   "metadata": {},
   "outputs": [
    {
     "data": {
      "text/plain": [
       "87"
      ]
     },
     "execution_count": 124,
     "metadata": {},
     "output_type": "execute_result"
    }
   ],
   "source": [
    "max(t)"
   ]
  },
  {
   "cell_type": "code",
   "execution_count": 125,
   "id": "933f63e1",
   "metadata": {},
   "outputs": [
    {
     "data": {
      "text/plain": [
       "34"
      ]
     },
     "execution_count": 125,
     "metadata": {},
     "output_type": "execute_result"
    }
   ],
   "source": [
    "max(12,34)"
   ]
  },
  {
   "cell_type": "code",
   "execution_count": 126,
   "id": "8d7a467c",
   "metadata": {},
   "outputs": [
    {
     "data": {
      "text/plain": [
       "78"
      ]
     },
     "execution_count": 126,
     "metadata": {},
     "output_type": "execute_result"
    }
   ],
   "source": [
    "max(12,34,78)"
   ]
  },
  {
   "cell_type": "code",
   "execution_count": 127,
   "id": "109aa023",
   "metadata": {},
   "outputs": [
    {
     "data": {
      "text/plain": [
       "12"
      ]
     },
     "execution_count": 127,
     "metadata": {},
     "output_type": "execute_result"
    }
   ],
   "source": [
    "min(t)"
   ]
  },
  {
   "cell_type": "code",
   "execution_count": 128,
   "id": "1523cc55",
   "metadata": {},
   "outputs": [
    {
     "data": {
      "text/plain": [
       "12"
      ]
     },
     "execution_count": 128,
     "metadata": {},
     "output_type": "execute_result"
    }
   ],
   "source": [
    "min(12,34,78)"
   ]
  },
  {
   "cell_type": "code",
   "execution_count": 3,
   "id": "33b86675",
   "metadata": {},
   "outputs": [
    {
     "data": {
      "text/plain": [
       "(12, 34, 45, 67, 87, 65, 43, 23)"
      ]
     },
     "execution_count": 3,
     "metadata": {},
     "output_type": "execute_result"
    }
   ],
   "source": [
    "t"
   ]
  },
  {
   "cell_type": "code",
   "execution_count": 4,
   "id": "458282d5",
   "metadata": {},
   "outputs": [
    {
     "data": {
      "text/plain": [
       "[12, 23, 34, 43, 45, 65, 67, 87]"
      ]
     },
     "execution_count": 4,
     "metadata": {},
     "output_type": "execute_result"
    }
   ],
   "source": [
    "sorted(t)"
   ]
  },
  {
   "cell_type": "code",
   "execution_count": 5,
   "id": "7c356e10",
   "metadata": {},
   "outputs": [
    {
     "data": {
      "text/plain": [
       "[21, 34, 43, 54, 56, 67]"
      ]
     },
     "execution_count": 5,
     "metadata": {},
     "output_type": "execute_result"
    }
   ],
   "source": [
    "L = [21,34,56,67,54,43]\n",
    "sorted(L)"
   ]
  },
  {
   "cell_type": "code",
   "execution_count": 6,
   "id": "3253d632",
   "metadata": {},
   "outputs": [
    {
     "data": {
      "text/plain": [
       "[1, 2, 3, 5, 8, 9]"
      ]
     },
     "execution_count": 6,
     "metadata": {},
     "output_type": "execute_result"
    }
   ],
   "source": [
    "s = {1,5,2,8,5,3,9,5,8}\n",
    "sorted(s)"
   ]
  },
  {
   "cell_type": "code",
   "execution_count": 134,
   "id": "d5cc0cc1",
   "metadata": {},
   "outputs": [
    {
     "data": {
      "text/plain": [
       "[87, 67, 65, 45, 43, 34, 23, 12]"
      ]
     },
     "execution_count": 134,
     "metadata": {},
     "output_type": "execute_result"
    }
   ],
   "source": [
    "sorted(t,reverse = True)"
   ]
  },
  {
   "cell_type": "code",
   "execution_count": 8,
   "id": "74e0735b",
   "metadata": {},
   "outputs": [],
   "source": [
    "def calc(a,b,op = 'a'):\n",
    "    if op == 'a':\n",
    "        return a+b\n",
    "    elif op == 's':\n",
    "        return a-b\n",
    "    elif op == 'm':\n",
    "        return a*b\n",
    "    elif op == 'd':\n",
    "        return a/b"
   ]
  },
  {
   "cell_type": "code",
   "execution_count": 11,
   "id": "b62bf298",
   "metadata": {},
   "outputs": [
    {
     "data": {
      "text/plain": [
       "5"
      ]
     },
     "execution_count": 11,
     "metadata": {},
     "output_type": "execute_result"
    }
   ],
   "source": [
    "calc(2,3)"
   ]
  },
  {
   "cell_type": "code",
   "execution_count": 138,
   "id": "455d02e7",
   "metadata": {},
   "outputs": [
    {
     "data": {
      "text/plain": [
       "5"
      ]
     },
     "execution_count": 138,
     "metadata": {},
     "output_type": "execute_result"
    }
   ],
   "source": [
    "calc(2,3)"
   ]
  },
  {
   "cell_type": "code",
   "execution_count": 140,
   "id": "7ab717d0",
   "metadata": {},
   "outputs": [
    {
     "data": {
      "text/plain": [
       "[87, 67, 65, 45, 43, 34, 23, 12]"
      ]
     },
     "execution_count": 140,
     "metadata": {},
     "output_type": "execute_result"
    }
   ],
   "source": [
    "sorted(t,reverse= True)"
   ]
  },
  {
   "cell_type": "code",
   "execution_count": 141,
   "id": "ba2c8aab",
   "metadata": {},
   "outputs": [
    {
     "data": {
      "text/plain": [
       "1.2"
      ]
     },
     "execution_count": 141,
     "metadata": {},
     "output_type": "execute_result"
    }
   ],
   "source": [
    "12/10"
   ]
  },
  {
   "cell_type": "code",
   "execution_count": 142,
   "id": "0de210cc",
   "metadata": {},
   "outputs": [
    {
     "data": {
      "text/plain": [
       "1"
      ]
     },
     "execution_count": 142,
     "metadata": {},
     "output_type": "execute_result"
    }
   ],
   "source": [
    "12//10"
   ]
  },
  {
   "cell_type": "code",
   "execution_count": 143,
   "id": "ce0a6437",
   "metadata": {},
   "outputs": [
    {
     "data": {
      "text/plain": [
       "2"
      ]
     },
     "execution_count": 143,
     "metadata": {},
     "output_type": "execute_result"
    }
   ],
   "source": [
    "12%10"
   ]
  },
  {
   "cell_type": "code",
   "execution_count": 144,
   "id": "15474daa",
   "metadata": {},
   "outputs": [
    {
     "data": {
      "text/plain": [
       "(1, 2)"
      ]
     },
     "execution_count": 144,
     "metadata": {},
     "output_type": "execute_result"
    }
   ],
   "source": [
    "divmod(12,10)"
   ]
  },
  {
   "cell_type": "code",
   "execution_count": 145,
   "id": "394c6802",
   "metadata": {},
   "outputs": [
    {
     "data": {
      "text/plain": [
       "16"
      ]
     },
     "execution_count": 145,
     "metadata": {},
     "output_type": "execute_result"
    }
   ],
   "source": [
    "pow(2,4)"
   ]
  },
  {
   "cell_type": "code",
   "execution_count": 146,
   "id": "c2fb9850",
   "metadata": {},
   "outputs": [
    {
     "data": {
      "text/plain": [
       "4.0"
      ]
     },
     "execution_count": 146,
     "metadata": {},
     "output_type": "execute_result"
    }
   ],
   "source": [
    "pow(16,0.5)"
   ]
  },
  {
   "cell_type": "code",
   "execution_count": 147,
   "id": "095d7354",
   "metadata": {},
   "outputs": [
    {
     "data": {
      "text/plain": [
       "38.0"
      ]
     },
     "execution_count": 147,
     "metadata": {},
     "output_type": "execute_result"
    }
   ],
   "source": [
    "pow(16,0.5)+34"
   ]
  },
  {
   "cell_type": "code",
   "execution_count": 148,
   "id": "dd324e1e",
   "metadata": {},
   "outputs": [
    {
     "data": {
      "text/plain": [
       "105"
      ]
     },
     "execution_count": 148,
     "metadata": {},
     "output_type": "execute_result"
    }
   ],
   "source": [
    "round(105.4)"
   ]
  },
  {
   "cell_type": "code",
   "execution_count": 149,
   "id": "bc702f0c",
   "metadata": {},
   "outputs": [
    {
     "data": {
      "text/plain": [
       "105"
      ]
     },
     "execution_count": 149,
     "metadata": {},
     "output_type": "execute_result"
    }
   ],
   "source": [
    "round(105.3)"
   ]
  },
  {
   "cell_type": "code",
   "execution_count": 150,
   "id": "1d06ab77",
   "metadata": {},
   "outputs": [
    {
     "data": {
      "text/plain": [
       "106"
      ]
     },
     "execution_count": 150,
     "metadata": {},
     "output_type": "execute_result"
    }
   ],
   "source": [
    "round(105.5)"
   ]
  },
  {
   "cell_type": "code",
   "execution_count": 151,
   "id": "ef2f8b2e",
   "metadata": {},
   "outputs": [
    {
     "data": {
      "text/plain": [
       "106"
      ]
     },
     "execution_count": 151,
     "metadata": {},
     "output_type": "execute_result"
    }
   ],
   "source": [
    "round(105.9)"
   ]
  },
  {
   "cell_type": "code",
   "execution_count": 152,
   "id": "33577afa",
   "metadata": {},
   "outputs": [
    {
     "data": {
      "text/plain": [
       "106"
      ]
     },
     "execution_count": 152,
     "metadata": {},
     "output_type": "execute_result"
    }
   ],
   "source": [
    "round(105.9875345)"
   ]
  },
  {
   "cell_type": "code",
   "execution_count": 153,
   "id": "8966cecd",
   "metadata": {},
   "outputs": [
    {
     "data": {
      "text/plain": [
       "105.99"
      ]
     },
     "execution_count": 153,
     "metadata": {},
     "output_type": "execute_result"
    }
   ],
   "source": [
    "round(105.9875345,2)"
   ]
  },
  {
   "cell_type": "code",
   "execution_count": 12,
   "id": "f11924a4",
   "metadata": {},
   "outputs": [
    {
     "data": {
      "text/plain": [
       "map"
      ]
     },
     "execution_count": 12,
     "metadata": {},
     "output_type": "execute_result"
    }
   ],
   "source": [
    "map"
   ]
  },
  {
   "cell_type": "code",
   "execution_count": 155,
   "id": "bfdb069e",
   "metadata": {},
   "outputs": [],
   "source": [
    "def double(x):\n",
    "    return x*2"
   ]
  },
  {
   "cell_type": "code",
   "execution_count": 156,
   "id": "f9ab25a9",
   "metadata": {},
   "outputs": [
    {
     "data": {
      "text/plain": [
       "6"
      ]
     },
     "execution_count": 156,
     "metadata": {},
     "output_type": "execute_result"
    }
   ],
   "source": [
    "double(3)"
   ]
  },
  {
   "cell_type": "code",
   "execution_count": 157,
   "id": "dce935ce",
   "metadata": {},
   "outputs": [
    {
     "data": {
      "text/plain": [
       "<map at 0x13dc43e7ca0>"
      ]
     },
     "execution_count": 157,
     "metadata": {},
     "output_type": "execute_result"
    }
   ],
   "source": [
    "map(double, [12,34,5,6,7,8,9])"
   ]
  },
  {
   "cell_type": "code",
   "execution_count": 158,
   "id": "094077a9",
   "metadata": {},
   "outputs": [
    {
     "data": {
      "text/plain": [
       "(24, 68, 10, 12, 14, 16, 18)"
      ]
     },
     "execution_count": 158,
     "metadata": {},
     "output_type": "execute_result"
    }
   ],
   "source": [
    "x = map(double, [12,34,5,6,7,8,9])\n",
    "tuple(x)"
   ]
  },
  {
   "cell_type": "code",
   "execution_count": 14,
   "id": "cf1e20f1",
   "metadata": {},
   "outputs": [],
   "source": [
    "def inc(n):\n",
    "    return n+1"
   ]
  },
  {
   "cell_type": "code",
   "execution_count": 15,
   "id": "33abaf80",
   "metadata": {},
   "outputs": [
    {
     "data": {
      "text/plain": [
       "4"
      ]
     },
     "execution_count": 15,
     "metadata": {},
     "output_type": "execute_result"
    }
   ],
   "source": [
    "inc(3)"
   ]
  },
  {
   "cell_type": "code",
   "execution_count": 162,
   "id": "2a4085e7",
   "metadata": {},
   "outputs": [
    {
     "data": {
      "text/plain": [
       "(13, 35, 6, 7, 8, 9, 10)"
      ]
     },
     "execution_count": 162,
     "metadata": {},
     "output_type": "execute_result"
    }
   ],
   "source": [
    "x = map(inc, [12,34,5,6,7,8,9])\n",
    "tuple(x)"
   ]
  },
  {
   "cell_type": "code",
   "execution_count": 164,
   "id": "5e0af920",
   "metadata": {},
   "outputs": [
    {
     "data": {
      "text/plain": [
       "filter"
      ]
     },
     "execution_count": 164,
     "metadata": {},
     "output_type": "execute_result"
    }
   ],
   "source": [
    "filter"
   ]
  },
  {
   "cell_type": "code",
   "execution_count": 166,
   "id": "4599b0a6",
   "metadata": {},
   "outputs": [],
   "source": []
  },
  {
   "cell_type": "code",
   "execution_count": 167,
   "id": "a86349be",
   "metadata": {},
   "outputs": [],
   "source": [
    "def is_even(x):\n",
    "    return x%2==0"
   ]
  },
  {
   "cell_type": "code",
   "execution_count": 169,
   "id": "8acef449",
   "metadata": {},
   "outputs": [
    {
     "data": {
      "text/plain": [
       "False"
      ]
     },
     "execution_count": 169,
     "metadata": {},
     "output_type": "execute_result"
    }
   ],
   "source": [
    "is_even(55)"
   ]
  },
  {
   "cell_type": "code",
   "execution_count": 170,
   "id": "04b60272",
   "metadata": {},
   "outputs": [
    {
     "data": {
      "text/plain": [
       "<filter at 0x13dc43647f0>"
      ]
     },
     "execution_count": 170,
     "metadata": {},
     "output_type": "execute_result"
    }
   ],
   "source": [
    "filter(is_even, var)"
   ]
  },
  {
   "cell_type": "code",
   "execution_count": 172,
   "id": "d75c3089",
   "metadata": {},
   "outputs": [
    {
     "data": {
      "text/plain": [
       "[2, 34, 56, 74, 78, 98]"
      ]
     },
     "execution_count": 172,
     "metadata": {},
     "output_type": "execute_result"
    }
   ],
   "source": [
    "var  = [1,2,34,45,56,67,74,65,45,78,98,43]\n",
    "x = filter(is_even, var)\n",
    "list(x)"
   ]
  },
  {
   "cell_type": "code",
   "execution_count": 173,
   "id": "1abdee14",
   "metadata": {},
   "outputs": [],
   "source": [
    "#####################################################"
   ]
  },
  {
   "cell_type": "code",
   "execution_count": 174,
   "id": "e6028700",
   "metadata": {},
   "outputs": [
    {
     "data": {
      "text/plain": [
       "list"
      ]
     },
     "execution_count": 174,
     "metadata": {},
     "output_type": "execute_result"
    }
   ],
   "source": [
    "list"
   ]
  },
  {
   "cell_type": "code",
   "execution_count": 175,
   "id": "9aa9aa4e",
   "metadata": {},
   "outputs": [
    {
     "data": {
      "text/plain": [
       "list"
      ]
     },
     "execution_count": 175,
     "metadata": {},
     "output_type": "execute_result"
    }
   ],
   "source": [
    "v = []\n",
    "type(v)"
   ]
  },
  {
   "cell_type": "code",
   "execution_count": 176,
   "id": "d49df6ed",
   "metadata": {},
   "outputs": [
    {
     "data": {
      "text/plain": [
       "['__add__',\n",
       " '__class__',\n",
       " '__class_getitem__',\n",
       " '__contains__',\n",
       " '__delattr__',\n",
       " '__delitem__',\n",
       " '__dir__',\n",
       " '__doc__',\n",
       " '__eq__',\n",
       " '__format__',\n",
       " '__ge__',\n",
       " '__getattribute__',\n",
       " '__getitem__',\n",
       " '__gt__',\n",
       " '__hash__',\n",
       " '__iadd__',\n",
       " '__imul__',\n",
       " '__init__',\n",
       " '__init_subclass__',\n",
       " '__iter__',\n",
       " '__le__',\n",
       " '__len__',\n",
       " '__lt__',\n",
       " '__mul__',\n",
       " '__ne__',\n",
       " '__new__',\n",
       " '__reduce__',\n",
       " '__reduce_ex__',\n",
       " '__repr__',\n",
       " '__reversed__',\n",
       " '__rmul__',\n",
       " '__setattr__',\n",
       " '__setitem__',\n",
       " '__sizeof__',\n",
       " '__str__',\n",
       " '__subclasshook__',\n",
       " 'append',\n",
       " 'clear',\n",
       " 'copy',\n",
       " 'count',\n",
       " 'extend',\n",
       " 'index',\n",
       " 'insert',\n",
       " 'pop',\n",
       " 'remove',\n",
       " 'reverse',\n",
       " 'sort']"
      ]
     },
     "execution_count": 176,
     "metadata": {},
     "output_type": "execute_result"
    }
   ],
   "source": [
    "dir(v)"
   ]
  },
  {
   "cell_type": "code",
   "execution_count": 182,
   "id": "57fa5666",
   "metadata": {},
   "outputs": [
    {
     "name": "stdout",
     "output_type": "stream",
     "text": [
      "append\n",
      "clear\n",
      "copy\n",
      "count\n",
      "extend\n",
      "index\n",
      "insert\n",
      "pop\n",
      "remove\n",
      "reverse\n",
      "sort\n"
     ]
    }
   ],
   "source": [
    "for data in dir(v):\n",
    "    if '__' not in data:\n",
    "        print(data)"
   ]
  },
  {
   "cell_type": "code",
   "execution_count": 183,
   "id": "b5666837",
   "metadata": {},
   "outputs": [],
   "source": [
    "# for data in dir(str):\n",
    "#     if '__' not in data:\n",
    "#         print(data)"
   ]
  },
  {
   "cell_type": "code",
   "execution_count": 185,
   "id": "b4a069b5",
   "metadata": {},
   "outputs": [
    {
     "data": {
      "text/plain": [
       "[]"
      ]
     },
     "execution_count": 185,
     "metadata": {},
     "output_type": "execute_result"
    }
   ],
   "source": [
    "v = []\n",
    "v"
   ]
  },
  {
   "cell_type": "code",
   "execution_count": 186,
   "id": "7c81d0a6",
   "metadata": {},
   "outputs": [
    {
     "data": {
      "text/plain": [
       "[12]"
      ]
     },
     "execution_count": 186,
     "metadata": {},
     "output_type": "execute_result"
    }
   ],
   "source": [
    "v.append(12)\n",
    "v"
   ]
  },
  {
   "cell_type": "code",
   "execution_count": 187,
   "id": "3a12b54e",
   "metadata": {},
   "outputs": [
    {
     "data": {
      "text/plain": [
       "[12, 120]"
      ]
     },
     "execution_count": 187,
     "metadata": {},
     "output_type": "execute_result"
    }
   ],
   "source": [
    "v.append(120)\n",
    "v"
   ]
  },
  {
   "cell_type": "code",
   "execution_count": 188,
   "id": "6f0d05ff",
   "metadata": {},
   "outputs": [
    {
     "data": {
      "text/plain": [
       "[12, 120, 10]"
      ]
     },
     "execution_count": 188,
     "metadata": {},
     "output_type": "execute_result"
    }
   ],
   "source": [
    "v.append(10)\n",
    "v"
   ]
  },
  {
   "cell_type": "code",
   "execution_count": 189,
   "id": "759a7ebf",
   "metadata": {},
   "outputs": [
    {
     "data": {
      "text/plain": [
       "[12, 120, 10, [321, 453]]"
      ]
     },
     "execution_count": 189,
     "metadata": {},
     "output_type": "execute_result"
    }
   ],
   "source": [
    "v.append([321,453])\n",
    "v"
   ]
  },
  {
   "cell_type": "code",
   "execution_count": 190,
   "id": "1de430f5",
   "metadata": {},
   "outputs": [
    {
     "data": {
      "text/plain": [
       "[12, 120, 10, [321, 453], 'python']"
      ]
     },
     "execution_count": 190,
     "metadata": {},
     "output_type": "execute_result"
    }
   ],
   "source": [
    "v.append('python')\n",
    "v"
   ]
  },
  {
   "cell_type": "code",
   "execution_count": 191,
   "id": "44ab88c0",
   "metadata": {},
   "outputs": [],
   "source": [
    "list.append(v,'hello')"
   ]
  },
  {
   "cell_type": "code",
   "execution_count": 192,
   "id": "8ed0cf5c",
   "metadata": {},
   "outputs": [
    {
     "data": {
      "text/plain": [
       "[12, 120, 10, [321, 453], 'python', 'hello']"
      ]
     },
     "execution_count": 192,
     "metadata": {},
     "output_type": "execute_result"
    }
   ],
   "source": [
    "v"
   ]
  },
  {
   "cell_type": "code",
   "execution_count": 193,
   "id": "60c9793c",
   "metadata": {},
   "outputs": [],
   "source": [
    "v.insert(0,100)"
   ]
  },
  {
   "cell_type": "code",
   "execution_count": 194,
   "id": "6a2f6962",
   "metadata": {},
   "outputs": [
    {
     "data": {
      "text/plain": [
       "[100, 12, 120, 10, [321, 453], 'python', 'hello']"
      ]
     },
     "execution_count": 194,
     "metadata": {},
     "output_type": "execute_result"
    }
   ],
   "source": [
    "v"
   ]
  },
  {
   "cell_type": "code",
   "execution_count": 195,
   "id": "b60d7e63",
   "metadata": {},
   "outputs": [],
   "source": [
    "v.insert(5000,100)"
   ]
  },
  {
   "cell_type": "code",
   "execution_count": 196,
   "id": "ab71328d",
   "metadata": {},
   "outputs": [
    {
     "data": {
      "text/plain": [
       "[100, 12, 120, 10, [321, 453], 'python', 'hello', 100]"
      ]
     },
     "execution_count": 196,
     "metadata": {},
     "output_type": "execute_result"
    }
   ],
   "source": [
    "v"
   ]
  },
  {
   "cell_type": "code",
   "execution_count": 197,
   "id": "2e519c1c",
   "metadata": {},
   "outputs": [
    {
     "data": {
      "text/plain": [
       "[100,\n",
       " 12,\n",
       " 120,\n",
       " 10,\n",
       " [321, 453],\n",
       " 'python',\n",
       " 'hello',\n",
       " 100,\n",
       " 12,\n",
       " 23,\n",
       " 34,\n",
       " 45,\n",
       " 56,\n",
       " 67,\n",
       " 12,\n",
       " 23,\n",
       " 12,\n",
       " 12,\n",
       " 12,\n",
       " 12,\n",
       " 12]"
      ]
     },
     "execution_count": 197,
     "metadata": {},
     "output_type": "execute_result"
    }
   ],
   "source": [
    "a = [12,23,34,45,56,67,12,23,12,12,12,12,12]\n",
    "# list.extend(v,a)\n",
    "v.extend(a)\n",
    "v"
   ]
  },
  {
   "cell_type": "code",
   "execution_count": 198,
   "id": "2105a962",
   "metadata": {},
   "outputs": [
    {
     "data": {
      "text/plain": [
       "8"
      ]
     },
     "execution_count": 198,
     "metadata": {},
     "output_type": "execute_result"
    }
   ],
   "source": [
    "v.count(12)"
   ]
  },
  {
   "cell_type": "code",
   "execution_count": 199,
   "id": "5668c79e",
   "metadata": {},
   "outputs": [
    {
     "data": {
      "text/plain": [
       "0"
      ]
     },
     "execution_count": 199,
     "metadata": {},
     "output_type": "execute_result"
    }
   ],
   "source": [
    "v.count(1)"
   ]
  },
  {
   "cell_type": "code",
   "execution_count": 200,
   "id": "dd3b25b4",
   "metadata": {},
   "outputs": [
    {
     "data": {
      "text/plain": [
       "5"
      ]
     },
     "execution_count": 200,
     "metadata": {},
     "output_type": "execute_result"
    }
   ],
   "source": [
    "v.index('python')"
   ]
  },
  {
   "cell_type": "code",
   "execution_count": 201,
   "id": "6df5107b",
   "metadata": {},
   "outputs": [
    {
     "ename": "ValueError",
     "evalue": "'101' is not in list",
     "output_type": "error",
     "traceback": [
      "\u001b[1;31m---------------------------------------------------------------------------\u001b[0m",
      "\u001b[1;31mValueError\u001b[0m                                Traceback (most recent call last)",
      "\u001b[1;32m~\\AppData\\Local\\Temp/ipykernel_11108/2868415429.py\u001b[0m in \u001b[0;36m<module>\u001b[1;34m\u001b[0m\n\u001b[1;32m----> 1\u001b[1;33m \u001b[0mv\u001b[0m\u001b[1;33m.\u001b[0m\u001b[0mindex\u001b[0m\u001b[1;33m(\u001b[0m\u001b[1;34m'101'\u001b[0m\u001b[1;33m)\u001b[0m\u001b[1;33m\u001b[0m\u001b[1;33m\u001b[0m\u001b[0m\n\u001b[0m",
      "\u001b[1;31mValueError\u001b[0m: '101' is not in list"
     ]
    }
   ],
   "source": [
    "v.index('101')"
   ]
  },
  {
   "cell_type": "code",
   "execution_count": 202,
   "id": "72c12dc1",
   "metadata": {},
   "outputs": [],
   "source": [
    "v.reverse()"
   ]
  },
  {
   "cell_type": "code",
   "execution_count": 203,
   "id": "8355fd60",
   "metadata": {},
   "outputs": [
    {
     "data": {
      "text/plain": [
       "[12,\n",
       " 12,\n",
       " 12,\n",
       " 12,\n",
       " 12,\n",
       " 23,\n",
       " 12,\n",
       " 67,\n",
       " 56,\n",
       " 45,\n",
       " 34,\n",
       " 23,\n",
       " 12,\n",
       " 100,\n",
       " 'hello',\n",
       " 'python',\n",
       " [321, 453],\n",
       " 10,\n",
       " 120,\n",
       " 12,\n",
       " 100]"
      ]
     },
     "execution_count": 203,
     "metadata": {},
     "output_type": "execute_result"
    }
   ],
   "source": [
    "v"
   ]
  },
  {
   "cell_type": "code",
   "execution_count": 204,
   "id": "ef076980",
   "metadata": {},
   "outputs": [
    {
     "ename": "TypeError",
     "evalue": "'<' not supported between instances of 'str' and 'int'",
     "output_type": "error",
     "traceback": [
      "\u001b[1;31m---------------------------------------------------------------------------\u001b[0m",
      "\u001b[1;31mTypeError\u001b[0m                                 Traceback (most recent call last)",
      "\u001b[1;32m~\\AppData\\Local\\Temp/ipykernel_11108/185494201.py\u001b[0m in \u001b[0;36m<module>\u001b[1;34m\u001b[0m\n\u001b[1;32m----> 1\u001b[1;33m \u001b[0mv\u001b[0m\u001b[1;33m.\u001b[0m\u001b[0msort\u001b[0m\u001b[1;33m(\u001b[0m\u001b[1;33m)\u001b[0m\u001b[1;33m\u001b[0m\u001b[1;33m\u001b[0m\u001b[0m\n\u001b[0m",
      "\u001b[1;31mTypeError\u001b[0m: '<' not supported between instances of 'str' and 'int'"
     ]
    }
   ],
   "source": [
    "v.sort()"
   ]
  },
  {
   "cell_type": "code",
   "execution_count": 205,
   "id": "7876e5fb",
   "metadata": {},
   "outputs": [
    {
     "data": {
      "text/plain": [
       "12"
      ]
     },
     "execution_count": 205,
     "metadata": {},
     "output_type": "execute_result"
    }
   ],
   "source": [
    "v.pop(5)"
   ]
  },
  {
   "cell_type": "code",
   "execution_count": 207,
   "id": "5704ad9b",
   "metadata": {},
   "outputs": [
    {
     "data": {
      "text/plain": [
       "14"
      ]
     },
     "execution_count": 207,
     "metadata": {},
     "output_type": "execute_result"
    }
   ],
   "source": [
    "v.index('python')"
   ]
  },
  {
   "cell_type": "code",
   "execution_count": 208,
   "id": "3e9aa9d1",
   "metadata": {},
   "outputs": [
    {
     "data": {
      "text/plain": [
       "'python'"
      ]
     },
     "execution_count": 208,
     "metadata": {},
     "output_type": "execute_result"
    }
   ],
   "source": [
    "v.pop(14)"
   ]
  },
  {
   "cell_type": "code",
   "execution_count": 209,
   "id": "190beb2d",
   "metadata": {},
   "outputs": [
    {
     "data": {
      "text/plain": [
       "[12,\n",
       " 12,\n",
       " 12,\n",
       " 12,\n",
       " 12,\n",
       " 12,\n",
       " 23,\n",
       " 23,\n",
       " 34,\n",
       " 45,\n",
       " 56,\n",
       " 67,\n",
       " 100,\n",
       " 'hello',\n",
       " [321, 453],\n",
       " 10,\n",
       " 120,\n",
       " 12,\n",
       " 100]"
      ]
     },
     "execution_count": 209,
     "metadata": {},
     "output_type": "execute_result"
    }
   ],
   "source": [
    "v"
   ]
  },
  {
   "cell_type": "code",
   "execution_count": 210,
   "id": "5bb8a43b",
   "metadata": {},
   "outputs": [
    {
     "data": {
      "text/plain": [
       "[321, 453]"
      ]
     },
     "execution_count": 210,
     "metadata": {},
     "output_type": "execute_result"
    }
   ],
   "source": [
    "v.pop(-5)"
   ]
  },
  {
   "cell_type": "code",
   "execution_count": 211,
   "id": "84a1e406",
   "metadata": {},
   "outputs": [
    {
     "data": {
      "text/plain": [
       "[12,\n",
       " 12,\n",
       " 12,\n",
       " 12,\n",
       " 12,\n",
       " 12,\n",
       " 23,\n",
       " 23,\n",
       " 34,\n",
       " 45,\n",
       " 56,\n",
       " 67,\n",
       " 100,\n",
       " 'hello',\n",
       " 10,\n",
       " 120,\n",
       " 12,\n",
       " 100]"
      ]
     },
     "execution_count": 211,
     "metadata": {},
     "output_type": "execute_result"
    }
   ],
   "source": [
    "v"
   ]
  },
  {
   "cell_type": "code",
   "execution_count": 212,
   "id": "1d4910bd",
   "metadata": {},
   "outputs": [
    {
     "data": {
      "text/plain": [
       "100"
      ]
     },
     "execution_count": 212,
     "metadata": {},
     "output_type": "execute_result"
    }
   ],
   "source": [
    "# v.pop(index=-1, /)\n",
    "v.pop()"
   ]
  },
  {
   "cell_type": "code",
   "execution_count": 213,
   "id": "b6c637d5",
   "metadata": {},
   "outputs": [
    {
     "data": {
      "text/plain": [
       "[12, 12, 12, 12, 12, 12, 23, 23, 34, 45, 56, 67, 100, 'hello', 10, 120, 12]"
      ]
     },
     "execution_count": 213,
     "metadata": {},
     "output_type": "execute_result"
    }
   ],
   "source": [
    "v"
   ]
  },
  {
   "cell_type": "code",
   "execution_count": 214,
   "id": "4c6432fc",
   "metadata": {},
   "outputs": [],
   "source": [
    "v.remove('hello')"
   ]
  },
  {
   "cell_type": "code",
   "execution_count": 215,
   "id": "0f725733",
   "metadata": {},
   "outputs": [
    {
     "data": {
      "text/plain": [
       "[12, 12, 12, 12, 12, 12, 23, 23, 34, 45, 56, 67, 100, 10, 120, 12]"
      ]
     },
     "execution_count": 215,
     "metadata": {},
     "output_type": "execute_result"
    }
   ],
   "source": [
    "v"
   ]
  },
  {
   "cell_type": "code",
   "execution_count": 216,
   "id": "683bc30f",
   "metadata": {},
   "outputs": [],
   "source": [
    "v.remove(12)"
   ]
  },
  {
   "cell_type": "code",
   "execution_count": 217,
   "id": "5960e816",
   "metadata": {},
   "outputs": [
    {
     "data": {
      "text/plain": [
       "[12, 12, 12, 12, 12, 23, 23, 34, 45, 56, 67, 100, 10, 120, 12]"
      ]
     },
     "execution_count": 217,
     "metadata": {},
     "output_type": "execute_result"
    }
   ],
   "source": [
    "v"
   ]
  },
  {
   "cell_type": "code",
   "execution_count": 218,
   "id": "a227d841",
   "metadata": {},
   "outputs": [],
   "source": [
    "v.sort()"
   ]
  },
  {
   "cell_type": "code",
   "execution_count": 219,
   "id": "8b17ff84",
   "metadata": {},
   "outputs": [
    {
     "data": {
      "text/plain": [
       "[10, 12, 12, 12, 12, 12, 12, 23, 23, 34, 45, 56, 67, 100, 120]"
      ]
     },
     "execution_count": 219,
     "metadata": {},
     "output_type": "execute_result"
    }
   ],
   "source": [
    "v"
   ]
  },
  {
   "cell_type": "code",
   "execution_count": 220,
   "id": "207a8276",
   "metadata": {},
   "outputs": [],
   "source": [
    "v.sort(reverse=True)"
   ]
  },
  {
   "cell_type": "code",
   "execution_count": 221,
   "id": "ea111326",
   "metadata": {},
   "outputs": [
    {
     "data": {
      "text/plain": [
       "[120, 100, 67, 56, 45, 34, 23, 23, 12, 12, 12, 12, 12, 12, 10]"
      ]
     },
     "execution_count": 221,
     "metadata": {},
     "output_type": "execute_result"
    }
   ],
   "source": [
    "v"
   ]
  },
  {
   "cell_type": "code",
   "execution_count": 222,
   "id": "e6a739d8",
   "metadata": {},
   "outputs": [],
   "source": [
    "del v[0]"
   ]
  },
  {
   "cell_type": "code",
   "execution_count": 223,
   "id": "7c160101",
   "metadata": {},
   "outputs": [
    {
     "data": {
      "text/plain": [
       "[100, 67, 56, 45, 34, 23, 23, 12, 12, 12, 12, 12, 12, 10]"
      ]
     },
     "execution_count": 223,
     "metadata": {},
     "output_type": "execute_result"
    }
   ],
   "source": [
    "v"
   ]
  },
  {
   "cell_type": "code",
   "execution_count": 224,
   "id": "e8b6c9b8",
   "metadata": {},
   "outputs": [],
   "source": [
    "v.clear()"
   ]
  },
  {
   "cell_type": "code",
   "execution_count": 225,
   "id": "fdf7d33f",
   "metadata": {},
   "outputs": [
    {
     "data": {
      "text/plain": [
       "[]"
      ]
     },
     "execution_count": 225,
     "metadata": {},
     "output_type": "execute_result"
    }
   ],
   "source": [
    "v"
   ]
  },
  {
   "cell_type": "code",
   "execution_count": 226,
   "id": "747753ca",
   "metadata": {},
   "outputs": [],
   "source": [
    "ls = [12,34]"
   ]
  },
  {
   "cell_type": "code",
   "execution_count": 227,
   "id": "9de78b43",
   "metadata": {},
   "outputs": [],
   "source": [
    "ls2 = ls"
   ]
  },
  {
   "cell_type": "code",
   "execution_count": 228,
   "id": "277a50fe",
   "metadata": {},
   "outputs": [
    {
     "data": {
      "text/plain": [
       "([12, 34], [12, 34])"
      ]
     },
     "execution_count": 228,
     "metadata": {},
     "output_type": "execute_result"
    }
   ],
   "source": [
    "ls2,ls"
   ]
  },
  {
   "cell_type": "code",
   "execution_count": 229,
   "id": "a7b278f6",
   "metadata": {},
   "outputs": [
    {
     "data": {
      "text/plain": [
       "(1364797015360, 1364797015360)"
      ]
     },
     "execution_count": 229,
     "metadata": {},
     "output_type": "execute_result"
    }
   ],
   "source": [
    "id(ls2),id(ls)"
   ]
  },
  {
   "cell_type": "code",
   "execution_count": 231,
   "id": "36750fb8",
   "metadata": {},
   "outputs": [],
   "source": [
    "ls[0] = 4345"
   ]
  },
  {
   "cell_type": "code",
   "execution_count": 232,
   "id": "386b4859",
   "metadata": {},
   "outputs": [
    {
     "data": {
      "text/plain": [
       "([4345, 34], [4345, 34])"
      ]
     },
     "execution_count": 232,
     "metadata": {},
     "output_type": "execute_result"
    }
   ],
   "source": [
    "ls,ls2"
   ]
  },
  {
   "cell_type": "code",
   "execution_count": 233,
   "id": "c455ae01",
   "metadata": {},
   "outputs": [],
   "source": [
    "ls = [12,34]\n",
    "ls2 = ls.copy()"
   ]
  },
  {
   "cell_type": "code",
   "execution_count": 234,
   "id": "5d760714",
   "metadata": {},
   "outputs": [
    {
     "data": {
      "text/plain": [
       "(1364795901824, 1364797557760)"
      ]
     },
     "execution_count": 234,
     "metadata": {},
     "output_type": "execute_result"
    }
   ],
   "source": [
    "id(ls2),id(ls)"
   ]
  },
  {
   "cell_type": "code",
   "execution_count": 235,
   "id": "a68ea580",
   "metadata": {},
   "outputs": [],
   "source": [
    "ls2[-1] = 65656"
   ]
  },
  {
   "cell_type": "code",
   "execution_count": 236,
   "id": "687e9de5",
   "metadata": {},
   "outputs": [
    {
     "data": {
      "text/plain": [
       "([12, 34], [12, 65656])"
      ]
     },
     "execution_count": 236,
     "metadata": {},
     "output_type": "execute_result"
    }
   ],
   "source": [
    "ls,ls2"
   ]
  },
  {
   "cell_type": "code",
   "execution_count": 237,
   "id": "5d805972",
   "metadata": {},
   "outputs": [
    {
     "data": {
      "text/plain": [
       "tuple"
      ]
     },
     "execution_count": 237,
     "metadata": {},
     "output_type": "execute_result"
    }
   ],
   "source": [
    "tuple"
   ]
  },
  {
   "cell_type": "code",
   "execution_count": 238,
   "id": "b58df55c",
   "metadata": {},
   "outputs": [
    {
     "data": {
      "text/plain": [
       "tuple"
      ]
     },
     "execution_count": 238,
     "metadata": {},
     "output_type": "execute_result"
    }
   ],
   "source": [
    "t = ()\n",
    "type(t)"
   ]
  },
  {
   "cell_type": "code",
   "execution_count": 239,
   "id": "9ab8e779",
   "metadata": {},
   "outputs": [
    {
     "name": "stdout",
     "output_type": "stream",
     "text": [
      "count\n",
      "index\n"
     ]
    }
   ],
   "source": [
    "for data in dir(tuple):\n",
    "    if '__' not in data:\n",
    "        print(data)"
   ]
  },
  {
   "cell_type": "code",
   "execution_count": 240,
   "id": "a6bbf225",
   "metadata": {},
   "outputs": [],
   "source": [
    "t = (45,76,34,89,98,56)"
   ]
  },
  {
   "cell_type": "code",
   "execution_count": 241,
   "id": "6ba828b4",
   "metadata": {},
   "outputs": [
    {
     "data": {
      "text/plain": [
       "1"
      ]
     },
     "execution_count": 241,
     "metadata": {},
     "output_type": "execute_result"
    }
   ],
   "source": [
    "t.count(34)"
   ]
  },
  {
   "cell_type": "code",
   "execution_count": 242,
   "id": "3690bd2b",
   "metadata": {},
   "outputs": [
    {
     "data": {
      "text/plain": [
       "2"
      ]
     },
     "execution_count": 242,
     "metadata": {},
     "output_type": "execute_result"
    }
   ],
   "source": [
    "t.index(34)"
   ]
  },
  {
   "cell_type": "code",
   "execution_count": 243,
   "id": "c1f3455a",
   "metadata": {},
   "outputs": [
    {
     "name": "stdout",
     "output_type": "stream",
     "text": [
      "clear\n",
      "copy\n",
      "fromkeys\n",
      "get\n",
      "items\n",
      "keys\n",
      "pop\n",
      "popitem\n",
      "setdefault\n",
      "update\n",
      "values\n"
     ]
    }
   ],
   "source": [
    "for data in dir(dict):\n",
    "    if '__' not in data:\n",
    "        print(data)"
   ]
  },
  {
   "cell_type": "code",
   "execution_count": 244,
   "id": "c2e5e112",
   "metadata": {},
   "outputs": [
    {
     "data": {
      "text/plain": [
       "dict"
      ]
     },
     "execution_count": 244,
     "metadata": {},
     "output_type": "execute_result"
    }
   ],
   "source": [
    "d = {}\n",
    "type(d)"
   ]
  },
  {
   "cell_type": "code",
   "execution_count": 245,
   "id": "c4770ad7",
   "metadata": {},
   "outputs": [],
   "source": [
    "d = {'a':34, 'b':76, 'c':34}"
   ]
  },
  {
   "cell_type": "code",
   "execution_count": 246,
   "id": "6816975a",
   "metadata": {},
   "outputs": [
    {
     "data": {
      "text/plain": [
       "dict_keys(['a', 'b', 'c'])"
      ]
     },
     "execution_count": 246,
     "metadata": {},
     "output_type": "execute_result"
    }
   ],
   "source": [
    "d.keys()"
   ]
  },
  {
   "cell_type": "code",
   "execution_count": 247,
   "id": "45e7eb94",
   "metadata": {},
   "outputs": [
    {
     "data": {
      "text/plain": [
       "dict_values([34, 76, 34])"
      ]
     },
     "execution_count": 247,
     "metadata": {},
     "output_type": "execute_result"
    }
   ],
   "source": [
    "d.values()"
   ]
  },
  {
   "cell_type": "code",
   "execution_count": 248,
   "id": "4874ece7",
   "metadata": {},
   "outputs": [
    {
     "data": {
      "text/plain": [
       "dict_values([34, 76, 34])"
      ]
     },
     "execution_count": 248,
     "metadata": {},
     "output_type": "execute_result"
    }
   ],
   "source": [
    "dict.values(d)"
   ]
  },
  {
   "cell_type": "code",
   "execution_count": 249,
   "id": "79c66070",
   "metadata": {},
   "outputs": [
    {
     "data": {
      "text/plain": [
       "dict_items([('a', 34), ('b', 76), ('c', 34)])"
      ]
     },
     "execution_count": 249,
     "metadata": {},
     "output_type": "execute_result"
    }
   ],
   "source": [
    "d.items()"
   ]
  },
  {
   "cell_type": "code",
   "execution_count": 250,
   "id": "3cdadc45",
   "metadata": {},
   "outputs": [
    {
     "data": {
      "text/plain": [
       "34"
      ]
     },
     "execution_count": 250,
     "metadata": {},
     "output_type": "execute_result"
    }
   ],
   "source": [
    "d.get('a')"
   ]
  },
  {
   "cell_type": "code",
   "execution_count": 251,
   "id": "8b498d35",
   "metadata": {},
   "outputs": [
    {
     "data": {
      "text/plain": [
       "76"
      ]
     },
     "execution_count": 251,
     "metadata": {},
     "output_type": "execute_result"
    }
   ],
   "source": [
    "d.get('b')"
   ]
  },
  {
   "cell_type": "code",
   "execution_count": 252,
   "id": "a1b4e7d3",
   "metadata": {},
   "outputs": [],
   "source": [
    "d.get('z')"
   ]
  },
  {
   "cell_type": "code",
   "execution_count": 253,
   "id": "315c9311",
   "metadata": {},
   "outputs": [
    {
     "data": {
      "text/plain": [
       "'key not found'"
      ]
     },
     "execution_count": 253,
     "metadata": {},
     "output_type": "execute_result"
    }
   ],
   "source": [
    "d.get('z','key not found')"
   ]
  },
  {
   "cell_type": "code",
   "execution_count": 254,
   "id": "d6861b16",
   "metadata": {},
   "outputs": [
    {
     "data": {
      "text/plain": [
       "34"
      ]
     },
     "execution_count": 254,
     "metadata": {},
     "output_type": "execute_result"
    }
   ],
   "source": [
    "d.get('a','key not found')"
   ]
  },
  {
   "cell_type": "code",
   "execution_count": 255,
   "id": "8f1cc4af",
   "metadata": {},
   "outputs": [
    {
     "data": {
      "text/plain": [
       "'value'"
      ]
     },
     "execution_count": 255,
     "metadata": {},
     "output_type": "execute_result"
    }
   ],
   "source": [
    "d.setdefault('new','value')"
   ]
  },
  {
   "cell_type": "code",
   "execution_count": 256,
   "id": "1734d34b",
   "metadata": {},
   "outputs": [
    {
     "data": {
      "text/plain": [
       "{'a': 34, 'b': 76, 'c': 34, 'new': 'value'}"
      ]
     },
     "execution_count": 256,
     "metadata": {},
     "output_type": "execute_result"
    }
   ],
   "source": [
    "d"
   ]
  },
  {
   "cell_type": "code",
   "execution_count": 257,
   "id": "73903542",
   "metadata": {},
   "outputs": [
    {
     "data": {
      "text/plain": [
       "34"
      ]
     },
     "execution_count": 257,
     "metadata": {},
     "output_type": "execute_result"
    }
   ],
   "source": [
    "d.pop('a')"
   ]
  },
  {
   "cell_type": "code",
   "execution_count": 258,
   "id": "6e8e2df3",
   "metadata": {},
   "outputs": [
    {
     "data": {
      "text/plain": [
       "{'b': 76, 'c': 34, 'new': 'value'}"
      ]
     },
     "execution_count": 258,
     "metadata": {},
     "output_type": "execute_result"
    }
   ],
   "source": [
    "d"
   ]
  },
  {
   "cell_type": "code",
   "execution_count": 259,
   "id": "071d67a2",
   "metadata": {},
   "outputs": [
    {
     "data": {
      "text/plain": [
       "('new', 'value')"
      ]
     },
     "execution_count": 259,
     "metadata": {},
     "output_type": "execute_result"
    }
   ],
   "source": [
    "d.popitem()"
   ]
  },
  {
   "cell_type": "code",
   "execution_count": 260,
   "id": "d4da6661",
   "metadata": {},
   "outputs": [
    {
     "data": {
      "text/plain": [
       "{'b': 76, 'c': 34}"
      ]
     },
     "execution_count": 260,
     "metadata": {},
     "output_type": "execute_result"
    }
   ],
   "source": [
    "d"
   ]
  },
  {
   "cell_type": "code",
   "execution_count": 261,
   "id": "44415166",
   "metadata": {},
   "outputs": [],
   "source": [
    "d.clear()"
   ]
  },
  {
   "cell_type": "code",
   "execution_count": 262,
   "id": "b7107a5a",
   "metadata": {},
   "outputs": [
    {
     "data": {
      "text/plain": [
       "{}"
      ]
     },
     "execution_count": 262,
     "metadata": {},
     "output_type": "execute_result"
    }
   ],
   "source": [
    "d"
   ]
  },
  {
   "cell_type": "code",
   "execution_count": 263,
   "id": "2a496dbf",
   "metadata": {},
   "outputs": [],
   "source": [
    "dct = {'a':34, 'b':76, 'c':34}"
   ]
  },
  {
   "cell_type": "code",
   "execution_count": 264,
   "id": "1a3b75de",
   "metadata": {},
   "outputs": [],
   "source": [
    "dct.update({'a':8765,'z':7676})"
   ]
  },
  {
   "cell_type": "code",
   "execution_count": 265,
   "id": "34aeed7e",
   "metadata": {},
   "outputs": [
    {
     "data": {
      "text/plain": [
       "{'a': 8765, 'b': 76, 'c': 34, 'z': 7676}"
      ]
     },
     "execution_count": 265,
     "metadata": {},
     "output_type": "execute_result"
    }
   ],
   "source": [
    "dct"
   ]
  },
  {
   "cell_type": "code",
   "execution_count": 266,
   "id": "b6e60929",
   "metadata": {},
   "outputs": [
    {
     "data": {
      "text/plain": [
       "{'asas': None, 'sfff': None}"
      ]
     },
     "execution_count": 266,
     "metadata": {},
     "output_type": "execute_result"
    }
   ],
   "source": [
    "dct.fromkeys(['asas','sfff'])"
   ]
  },
  {
   "cell_type": "code",
   "execution_count": 267,
   "id": "9f7f4b74",
   "metadata": {},
   "outputs": [
    {
     "data": {
      "text/plain": [
       "{'asas': None, 'sfff': None}"
      ]
     },
     "execution_count": 267,
     "metadata": {},
     "output_type": "execute_result"
    }
   ],
   "source": [
    "dict.fromkeys(['asas','sfff'])"
   ]
  },
  {
   "cell_type": "code",
   "execution_count": 1,
   "id": "dcde7f3f",
   "metadata": {},
   "outputs": [
    {
     "data": {
      "text/plain": [
       "{'name': 0, 'age': 0, 'phone': 0}"
      ]
     },
     "execution_count": 1,
     "metadata": {},
     "output_type": "execute_result"
    }
   ],
   "source": [
    "dict.fromkeys(['name','age','phone'], 0)"
   ]
  },
  {
   "cell_type": "code",
   "execution_count": 2,
   "id": "da87b4a0",
   "metadata": {},
   "outputs": [],
   "source": [
    "dd = dict.fromkeys(['name','age','phone'], 0)"
   ]
  },
  {
   "cell_type": "code",
   "execution_count": 3,
   "id": "e670d498",
   "metadata": {},
   "outputs": [
    {
     "data": {
      "text/plain": [
       "{'name': 0, 'age': 0, 'phone': 0}"
      ]
     },
     "execution_count": 3,
     "metadata": {},
     "output_type": "execute_result"
    }
   ],
   "source": [
    "dd"
   ]
  },
  {
   "cell_type": "code",
   "execution_count": 4,
   "id": "9c107cd2",
   "metadata": {},
   "outputs": [],
   "source": [
    "dd['name'] = 'manohar mishra'"
   ]
  },
  {
   "cell_type": "code",
   "execution_count": 5,
   "id": "2342843b",
   "metadata": {},
   "outputs": [
    {
     "data": {
      "text/plain": [
       "{'name': 'manohar mishra', 'age': 0, 'phone': 0}"
      ]
     },
     "execution_count": 5,
     "metadata": {},
     "output_type": "execute_result"
    }
   ],
   "source": [
    "dd"
   ]
  },
  {
   "cell_type": "code",
   "execution_count": 1,
   "id": "1aed3006",
   "metadata": {},
   "outputs": [],
   "source": [
    "dict1 = {\"name\":[\"kishan\",\"rohit\",\"kapil\",\"pratap\",\"manas\"],\"class\":[\"b.com\",\"b.a\",\"12\",\"11\",\"12\"]}"
   ]
  },
  {
   "cell_type": "code",
   "execution_count": 2,
   "id": "109bca7e",
   "metadata": {},
   "outputs": [
    {
     "data": {
      "text/plain": [
       "{'name': ['kishan', 'rohit', 'kapil', 'pratap', 'manas'],\n",
       " 'class': ['b.com', 'b.a', '12', '11', '12']}"
      ]
     },
     "execution_count": 2,
     "metadata": {},
     "output_type": "execute_result"
    }
   ],
   "source": [
    "dict1"
   ]
  },
  {
   "cell_type": "code",
   "execution_count": null,
   "id": "28d85383",
   "metadata": {},
   "outputs": [],
   "source": []
  }
 ],
 "metadata": {
  "kernelspec": {
   "display_name": "Python 3 (ipykernel)",
   "language": "python",
   "name": "python3"
  },
  "language_info": {
   "codemirror_mode": {
    "name": "ipython",
    "version": 3
   },
   "file_extension": ".py",
   "mimetype": "text/x-python",
   "name": "python",
   "nbconvert_exporter": "python",
   "pygments_lexer": "ipython3",
   "version": "3.10.2"
  }
 },
 "nbformat": 4,
 "nbformat_minor": 5
}
