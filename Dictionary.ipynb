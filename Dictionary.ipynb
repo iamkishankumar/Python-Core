{
 "cells": [
  {
   "cell_type": "markdown",
   "id": "4586515d",
   "metadata": {},
   "source": [
    "# Creating a Dictionary"
   ]
  },
  {
   "cell_type": "code",
   "execution_count": 3,
   "id": "94ffa5c5",
   "metadata": {},
   "outputs": [
    {
     "name": "stdout",
     "output_type": "stream",
     "text": [
      "{1: 'Apple', 2: 'Mango', 3: 'Orange', 4: 'Apple', 'A': 'B'}\n",
      "<class 'dict'>\n"
     ]
    }
   ],
   "source": [
    "d1 = {1:\"Apple\",2:\"Mango\",3:\"Orange\",4:\"Apple\",'A':'B'}\n",
    "print(d1)\n",
    "\n",
    "# Datatype of Dictionary\n",
    "print(type(d1))"
   ]
  },
  {
   "cell_type": "markdown",
   "id": "a16c4afd",
   "metadata": {},
   "source": [
    "# List into Dictionary Store"
   ]
  },
  {
   "cell_type": "code",
   "execution_count": 5,
   "id": "19505394",
   "metadata": {},
   "outputs": [
    {
     "name": "stdout",
     "output_type": "stream",
     "text": [
      "{1: 'Python', 2: 'Java', 'fruit': ['Apple', 'Orange', 'Mango']}\n"
     ]
    }
   ],
   "source": [
    "# Storing a list into Dictionary on a single key\n",
    "d2 = {1:\"Python\",2:\"Java\",\"fruit\":[\"Apple\",\"Orange\",\"Mango\"]}\n",
    "print(d2)"
   ]
  },
  {
   "cell_type": "markdown",
   "id": "3005fc66",
   "metadata": {},
   "source": [
    "# Tuple into Dictionary Store"
   ]
  },
  {
   "cell_type": "code",
   "execution_count": 7,
   "id": "06cd615f",
   "metadata": {},
   "outputs": [
    {
     "name": "stdout",
     "output_type": "stream",
     "text": [
      "{1: 'Python', 2: 'Java', 'Language': ('Java', 'Python', 'Php')}\n"
     ]
    }
   ],
   "source": [
    "# Storing a tuple into Dictionary on a single key\n",
    "d3 = {1:\"Python\",2:\"Java\",\"Language\":(\"Java\",\"Python\",\"Php\")}\n",
    "print(d3)"
   ]
  },
  {
   "cell_type": "markdown",
   "id": "90b5a23d",
   "metadata": {},
   "source": [
    "# Access the value of Dictionary"
   ]
  },
  {
   "cell_type": "code",
   "execution_count": 1,
   "id": "993e1bbf",
   "metadata": {},
   "outputs": [
    {
     "name": "stdout",
     "output_type": "stream",
     "text": [
      "Current Dict :  {1: 'Apple', 2: 'Mango', 3: 'Orange', 4: 'Apple', 'A': 'B'}\n",
      "Orange\n",
      "Apple\n",
      "dict_items([(1, 'Apple'), (2, 'Mango'), (3, 'Orange'), (4, 'Apple'), ('A', 'B')])\n",
      "Keys :  dict_keys([1, 2, 3, 4, 'A'])\n"
     ]
    }
   ],
   "source": [
    "d1 = {1:\"Apple\",2:\"Mango\",3:\"Orange\",4:\"Apple\",'A':'B'}\n",
    "print(\"Current Dict : \",d1)\n",
    "\n",
    "# Access the value using Key\n",
    "x = d1[3]\n",
    "print(x)\n",
    "\n",
    "\n",
    "# Access the value using get()\n",
    "y = d1.get(1)\n",
    "print(y)\n",
    "\n",
    "# Access the value using item()\n",
    "z = d1.items()\n",
    "print(z)\n",
    "\n",
    "# Access the only keys from Dictionary\n",
    "k = d1.keys()\n",
    "print(\"Keys : \",k)"
   ]
  },
  {
   "cell_type": "markdown",
   "id": "db6000a9",
   "metadata": {},
   "source": [
    "# Change the value"
   ]
  },
  {
   "cell_type": "code",
   "execution_count": 14,
   "id": "f1d4196d",
   "metadata": {},
   "outputs": [
    {
     "name": "stdout",
     "output_type": "stream",
     "text": [
      "Update Dict :  {1: 'Apple', 2: 'Mango', 3: 'kiwi', 4: 'Apple', 'A': 'B'}\n"
     ]
    }
   ],
   "source": [
    "d1 = {1:\"Apple\",2:\"Mango\",3:\"Orange\",4:\"Apple\",'A':'B'}\n",
    "d1[3] = \"kiwi\"\n",
    "print(\"Update Dict : \",d1)"
   ]
  },
  {
   "cell_type": "code",
   "execution_count": 17,
   "id": "0512823c",
   "metadata": {},
   "outputs": [
    {
     "name": "stdout",
     "output_type": "stream",
     "text": [
      "Current Dict :  {1: 'Apple', 2: 'Banana', 3: 'kiwi', 4: 'Apple', 'A': 'B'}\n",
      "Update Dict :  {1: 'Apple', 2: 'Banana', 3: 'kiwi', 4: 'Apple', 'A': 'B'}\n"
     ]
    }
   ],
   "source": [
    "# Update Dictionary by using update()\n",
    "print(\"Current Dict : \",d1)\n",
    "# Update dictionary by using update method\n",
    "d1.update({2:\"Banana\"})\n",
    "print(\"Update Dict : \",d1) "
   ]
  },
  {
   "cell_type": "markdown",
   "id": "d647d739",
   "metadata": {},
   "source": [
    "# Remove values from Dictionary"
   ]
  },
  {
   "cell_type": "code",
   "execution_count": 25,
   "id": "980dd434",
   "metadata": {},
   "outputs": [
    {
     "name": "stdout",
     "output_type": "stream",
     "text": [
      "Current Dict :  {1: 'Apple', 2: 'Mango', 3: 'Orange', 4: 'Apple', 'A': 'B'}\n"
     ]
    }
   ],
   "source": [
    "# Using pop()\n",
    "d1 = {1:\"Apple\",2:\"Mango\",3:\"Orange\",4:\"Apple\",'A':'B'}\n",
    "print(\"Current Dict : \",d1)\n",
    "\n",
    "# d1.pop(2)\n",
    "# print(\"Update Dict : \",d1)\n",
    "\n",
    "\n",
    "# Using popitem()\n",
    "\n",
    "# d1.popitem()\n",
    "# print(\"Update Dict : \",d1)\n",
    "\n",
    "\n",
    "# Using del()\n",
    "\n",
    "# del d1[1]\n",
    "# print(\"Update Dict : \",d1)\n",
    "\n",
    "# Using Clear()\n",
    "d1.clear()\n"
   ]
  }
 ],
 "metadata": {
  "kernelspec": {
   "display_name": "Python 3",
   "language": "python",
   "name": "python3"
  },
  "language_info": {
   "codemirror_mode": {
    "name": "ipython",
    "version": 3
   },
   "file_extension": ".py",
   "mimetype": "text/x-python",
   "name": "python",
   "nbconvert_exporter": "python",
   "pygments_lexer": "ipython3",
   "version": "3.9.6"
  }
 },
 "nbformat": 4,
 "nbformat_minor": 5
}
