{
 "cells": [
  {
   "cell_type": "markdown",
   "id": "068ed15d",
   "metadata": {},
   "source": [
    "# Single Inheritance"
   ]
  },
  {
   "cell_type": "code",
   "execution_count": null,
   "id": "12ce5144",
   "metadata": {},
   "outputs": [],
   "source": [
    "class ParentClass: # Parent Class\n",
    "    def myfunction1(self): # Parent Class Property\n",
    "        print(\"Parent Class Function Called\")\n",
    "        \n",
    "class ChildClass(ParentClass): # Child Class which inhrit Parent Class\n",
    "    def myfunction2(self): # Child Class Property\n",
    "        print(\"Child Class Function Called\")\n",
    "        \n",
    "# Creating an object of ChildClass\n",
    "\n",
    "c1 = ChildClass()\n",
    "c1.myfunction1()\n",
    "c1.myfunction2()"
   ]
  },
  {
   "cell_type": "markdown",
   "id": "c484bb52",
   "metadata": {},
   "source": [
    "# Multilevel Inheritance"
   ]
  },
  {
   "cell_type": "code",
   "execution_count": 6,
   "id": "0fc4fe6f",
   "metadata": {},
   "outputs": [
    {
     "name": "stdout",
     "output_type": "stream",
     "text": [
      "Class A function called\n",
      "Class B function called\n",
      "Class C function called\n"
     ]
    }
   ],
   "source": [
    "class A: # Parent Class\n",
    "    def myFunct(self):\n",
    "        print(\"Class A function called\")\n",
    "\n",
    "class B(A): # Sub-Parent Class\n",
    "    def myfunction2(self):\n",
    "        print(\"Class B function called\")\n",
    "\n",
    "class C(B): # Child Class\n",
    "    def myfunction3(self):\n",
    "        print(\"Class C function called\")\n",
    "        \n",
    "# Creating an object of Class C\n",
    "c1 = C()\n",
    "c1.myFunct()\n",
    "c1.myfunction2()\n",
    "c1.myfunction3()"
   ]
  },
  {
   "cell_type": "markdown",
   "id": "d9410990",
   "metadata": {},
   "source": [
    "# Multiple Inheritance"
   ]
  },
  {
   "cell_type": "code",
   "execution_count": 7,
   "id": "8be6873e",
   "metadata": {},
   "outputs": [
    {
     "name": "stdout",
     "output_type": "stream",
     "text": [
      "Class A1 function called\n",
      "Class B1 function called\n",
      "Class C1 function called\n"
     ]
    }
   ],
   "source": [
    "class A1:# 1st Parent Class\n",
    "    def myfunction1(self):\n",
    "        print(\"Class A1 function called\")\n",
    "class B1: #2nd Parent Class\n",
    "    def myfunction2(self):\n",
    "        print(\"Class B1 function called\")\n",
    "        \n",
    "class C1(A1,B1): # Child Class\n",
    "    def myfunction3(self):\n",
    "        print(\"Class C1 function called\")\n",
    "        \n",
    "# Creating an object of Class c1\n",
    "\n",
    "c1 = C1()\n",
    "c1.myfunction1()\n",
    "c1.myfunction2()\n",
    "c1.myfunction3()"
   ]
  },
  {
   "cell_type": "markdown",
   "id": "c4591334",
   "metadata": {},
   "source": [
    "# Hierarchical Inheritance"
   ]
  },
  {
   "cell_type": "code",
   "execution_count": 11,
   "id": "a1f6ec34",
   "metadata": {},
   "outputs": [
    {
     "name": "stdout",
     "output_type": "stream",
     "text": [
      "Class A1 Function Called\n",
      "Class A2 Function Called\n",
      "Class A1 Function Called\n",
      "Class A3 Function called\n"
     ]
    }
   ],
   "source": [
    "class A1: # Parent Class\n",
    "    def myFunction1(self):\n",
    "        print(\"Class A1 Function Called\")\n",
    "        \n",
    "class A2(A1): # Child Class\n",
    "    def myFunction2(self):\n",
    "        print(\"Class A2 Function Called\")\n",
    "        \n",
    "class A3(A1): # Child Class\n",
    "    def myFunction3(self):\n",
    "        print(\"Class A3 Function called\")\n",
    "        \n",
    "        \n",
    "# Creating 2 objects 1 for class A2 and 1 for class A3\n",
    "\n",
    "a2 = A2()\n",
    "\n",
    "a3 = A3()\n",
    "\n",
    "a2.myFunction1()  # Function of Class A1\n",
    "a2.myFunction2()  # Function of Class A2\n",
    "\n",
    "\n",
    "a3.myFunction1() # Function of Class A1\n",
    "a3.myFunction3() # Function of Class A3"
   ]
  },
  {
   "cell_type": "markdown",
   "id": "b85d2729",
   "metadata": {},
   "source": [
    "# Hybrid Inheritance"
   ]
  },
  {
   "cell_type": "code",
   "execution_count": 5,
   "id": "f8208af0",
   "metadata": {},
   "outputs": [
    {
     "name": "stdout",
     "output_type": "stream",
     "text": [
      "Function of class B1\n",
      "Function of class B2\n",
      "Function of class B3\n",
      "Function of class B4\n"
     ]
    }
   ],
   "source": [
    "class B1: # Parent Class\n",
    "    def myFunction1(self):\n",
    "        print(\"Function of class B1\")\n",
    "class B2(B1): # Child Class\n",
    "    def myFunction2(self):\n",
    "        print(\"Function of class B2\")\n",
    "\n",
    "class B3(B1): # Child Class\n",
    "    def myFunction3(self):\n",
    "        print(\"Function of class B3\")\n",
    "\n",
    "class B4(B2,B3): # Child Class\n",
    "    def myFunction4(self):\n",
    "        print(\"Function of class B4\")\n",
    "        \n",
    "\n",
    "# Creating an object of class B4\n",
    "\n",
    "b = B4() # Object of B4 class\n",
    "b.myFunction1()\n",
    "b.myFunction2()\n",
    "b.myFunction3()\n",
    "b.myFunction4()"
   ]
  }
 ],
 "metadata": {
  "kernelspec": {
   "display_name": "Python 3",
   "language": "python",
   "name": "python3"
  },
  "language_info": {
   "codemirror_mode": {
    "name": "ipython",
    "version": 3
   },
   "file_extension": ".py",
   "mimetype": "text/x-python",
   "name": "python",
   "nbconvert_exporter": "python",
   "pygments_lexer": "ipython3",
   "version": "3.9.5"
  }
 },
 "nbformat": 4,
 "nbformat_minor": 5
}
