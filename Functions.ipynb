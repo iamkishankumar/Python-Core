{
 "cells": [
  {
   "cell_type": "markdown",
   "id": "358b5396",
   "metadata": {},
   "source": [
    "# In-built Function"
   ]
  },
  {
   "cell_type": "code",
   "execution_count": 7,
   "id": "03602ce7",
   "metadata": {},
   "outputs": [
    {
     "name": "stdout",
     "output_type": "stream",
     "text": [
      "Hello World\n",
      "1\n",
      "2\n",
      "3\n",
      "4\n",
      "5\n",
      "6\n",
      "7\n",
      "8\n",
      "53.79\n"
     ]
    }
   ],
   "source": [
    "# print() Function\n",
    "\n",
    "print(\"Hello World\")\n",
    "\n",
    "# range() Function\n",
    "for i in range(1,9):\n",
    "    print(i)\n",
    "    \n",
    "    \n",
    "# Round() Function\n",
    "x = round(53.7865,2)\n",
    "print(x)"
   ]
  },
  {
   "cell_type": "markdown",
   "id": "3b85362e",
   "metadata": {},
   "source": [
    "# User Define Function"
   ]
  },
  {
   "cell_type": "code",
   "execution_count": 10,
   "id": "1700e6d0",
   "metadata": {},
   "outputs": [
    {
     "name": "stdout",
     "output_type": "stream",
     "text": [
      "hello\n"
     ]
    }
   ],
   "source": [
    "# Create function\n",
    "\n",
    "def myfunction():\n",
    "    print(\"hello\")\n",
    "    \n",
    "    \n",
    "# Calling a function\n",
    "myfunction()"
   ]
  },
  {
   "cell_type": "markdown",
   "id": "732ff99e",
   "metadata": {},
   "source": [
    "# Function with one Arguments"
   ]
  },
  {
   "cell_type": "code",
   "execution_count": 12,
   "id": "6346f18e",
   "metadata": {},
   "outputs": [
    {
     "name": "stdout",
     "output_type": "stream",
     "text": [
      "A :  10\n"
     ]
    }
   ],
   "source": [
    "# Creating a function\n",
    "def myfunction(a):\n",
    "    print(\"A : \",a)\n",
    "    \n",
    "# Calling a Function\n",
    "myfunction(10) # passing argument as a 10"
   ]
  },
  {
   "cell_type": "markdown",
   "id": "65431ec4",
   "metadata": {},
   "source": [
    "# Multiple Arguments into Function"
   ]
  },
  {
   "cell_type": "code",
   "execution_count": 14,
   "id": "ee20a224",
   "metadata": {},
   "outputs": [
    {
     "name": "stdout",
     "output_type": "stream",
     "text": [
      "A :  10\n",
      "B :  20\n"
     ]
    }
   ],
   "source": [
    "# Creating a Function\n",
    "def myfunction(a,b):\n",
    "    print(\"A : \",a)\n",
    "    print(\"B : \",b)\n",
    "    \n",
    "# Calling a function\n",
    "myfunction(10,20) # Passing 2 arguments"
   ]
  },
  {
   "cell_type": "markdown",
   "id": "9f797027",
   "metadata": {},
   "source": [
    "# Keywords Arguments"
   ]
  },
  {
   "cell_type": "code",
   "execution_count": 20,
   "id": "fe362281",
   "metadata": {},
   "outputs": [
    {
     "name": "stdout",
     "output_type": "stream",
     "text": [
      "Youngest Child is : Ritesh\n"
     ]
    }
   ],
   "source": [
    "# Creating a function\n",
    "\n",
    "def myfunction(child3,child2,child1):\n",
    "    print(\"Youngest Child is : \"+child1)\n",
    "    \n",
    "# Calling a Function\n",
    "myfunction(child1=\"Ritesh\",child2=\"Ram\",child3=\"Geeta\")\n",
    "    "
   ]
  },
  {
   "cell_type": "markdown",
   "id": "e7ec8043",
   "metadata": {},
   "source": [
    "# Default Parameter Value"
   ]
  },
  {
   "cell_type": "code",
   "execution_count": 22,
   "id": "65be7eac",
   "metadata": {},
   "outputs": [
    {
     "name": "stdout",
     "output_type": "stream",
     "text": [
      "I am from : Rajasthan\n",
      "I am from : Punjab\n",
      "I am from : Uttar Pradesh\n",
      "I am from : Gujarat\n"
     ]
    }
   ],
   "source": [
    "# Creating a function\n",
    "\n",
    "def myfunction(state=\"Gujarat\"):\n",
    "    print(\"I am from : \"+state)\n",
    "    \n",
    "# calling a Function\n",
    "myfunction(\"Rajasthan\")\n",
    "myfunction(\"Punjab\")\n",
    "myfunction(\"Uttar Pradesh\")\n",
    "myfunction()"
   ]
  },
  {
   "cell_type": "markdown",
   "id": "5fa949bc",
   "metadata": {},
   "source": [
    "# Passing a list into function"
   ]
  },
  {
   "cell_type": "code",
   "execution_count": 24,
   "id": "5640c66f",
   "metadata": {},
   "outputs": [
    {
     "name": "stdout",
     "output_type": "stream",
     "text": [
      "Apple\n",
      "Mango\n",
      "Orange\n"
     ]
    }
   ],
   "source": [
    "# Creating a function\n",
    "def myfunction(fruit):\n",
    "    for i in fruit:\n",
    "        print(i)\n",
    "f = [\"Apple\",\"Mango\",\"Orange\"]\n",
    "\n",
    "# Calling a function\n",
    "myfunction(f)"
   ]
  },
  {
   "cell_type": "markdown",
   "id": "1109c5ee",
   "metadata": {},
   "source": [
    "# Return Values from function"
   ]
  },
  {
   "cell_type": "code",
   "execution_count": 26,
   "id": "d2d4ab6c",
   "metadata": {},
   "outputs": [
    {
     "name": "stdout",
     "output_type": "stream",
     "text": [
      "15\n",
      "20\n",
      "25\n"
     ]
    }
   ],
   "source": [
    "# Creating a function\n",
    "\n",
    "def myfunction(x):\n",
    "    return 5*x\n",
    "\n",
    "# Calling a function\n",
    "print(myfunction(3))\n",
    "print(myfunction(4))\n",
    "print(myfunction(5))"
   ]
  },
  {
   "cell_type": "markdown",
   "id": "093e40b4",
   "metadata": {},
   "source": [
    "# Recursion Function"
   ]
  },
  {
   "cell_type": "code",
   "execution_count": 29,
   "id": "ed45c97a",
   "metadata": {},
   "outputs": [
    {
     "name": "stdout",
     "output_type": "stream",
     "text": [
      "Num : 5\n",
      "The factorial of  5 is :  120\n"
     ]
    }
   ],
   "source": [
    "# The function which call itself\n",
    "\n",
    "# Creating a function\n",
    "\n",
    "def factorial(x):\n",
    "    if x == 1:\n",
    "        return 1\n",
    "    else:\n",
    "        # Calling recursion function\n",
    "        return(x*factorial(x-1))\n",
    "num = int(input(\"Num : \"))\n",
    "print(\"The factorial of \",num,\"is : \",factorial(num))"
   ]
  },
  {
   "cell_type": "markdown",
   "id": "ae2052e7",
   "metadata": {},
   "source": [
    "# Anonymous Function(Lambda Function)"
   ]
  },
  {
   "cell_type": "code",
   "execution_count": 31,
   "id": "aa0e00a8",
   "metadata": {},
   "outputs": [
    {
     "name": "stdout",
     "output_type": "stream",
     "text": [
      "15\n",
      "50\n"
     ]
    }
   ],
   "source": [
    "# Creating a function\n",
    "x = lambda a: a+10\n",
    "print(x(5))\n",
    "\n",
    "\n",
    "# Lambda Function with multiple Arguments\n",
    "y = lambda a,b:a*b\n",
    "print(y(5,10))"
   ]
  }
 ],
 "metadata": {
  "kernelspec": {
   "display_name": "Python 3 (ipykernel)",
   "language": "python",
   "name": "python3"
  },
  "language_info": {
   "codemirror_mode": {
    "name": "ipython",
    "version": 3
   },
   "file_extension": ".py",
   "mimetype": "text/x-python",
   "name": "python",
   "nbconvert_exporter": "python",
   "pygments_lexer": "ipython3",
   "version": "3.10.2"
  }
 },
 "nbformat": 4,
 "nbformat_minor": 5
}
