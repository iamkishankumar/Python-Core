{
 "cells": [
  {
   "cell_type": "markdown",
   "id": "e825897d",
   "metadata": {},
   "source": [
    "# Exception Create"
   ]
  },
  {
   "cell_type": "code",
   "execution_count": 20,
   "id": "e8ed894c",
   "metadata": {},
   "outputs": [
    {
     "name": "stdout",
     "output_type": "stream",
     "text": [
      "Enter the value of A : hello\n"
     ]
    },
    {
     "ename": "ValueError",
     "evalue": "invalid literal for int() with base 10: 'hello'",
     "output_type": "error",
     "traceback": [
      "\u001b[1;31m---------------------------------------------------------------------------\u001b[0m",
      "\u001b[1;31mValueError\u001b[0m                                Traceback (most recent call last)",
      "\u001b[1;32m<ipython-input-20-6ef15cda8489>\u001b[0m in \u001b[0;36m<module>\u001b[1;34m\u001b[0m\n\u001b[1;32m----> 1\u001b[1;33m \u001b[0ma\u001b[0m \u001b[1;33m=\u001b[0m \u001b[0mint\u001b[0m\u001b[1;33m(\u001b[0m\u001b[0minput\u001b[0m\u001b[1;33m(\u001b[0m\u001b[1;34m\"Enter the value of A : \"\u001b[0m\u001b[1;33m)\u001b[0m\u001b[1;33m)\u001b[0m\u001b[1;33m\u001b[0m\u001b[1;33m\u001b[0m\u001b[0m\n\u001b[0m\u001b[0;32m      2\u001b[0m \u001b[0mprint\u001b[0m\u001b[1;33m(\u001b[0m\u001b[1;34m\"A : \"\u001b[0m\u001b[1;33m,\u001b[0m\u001b[0ma\u001b[0m\u001b[1;33m)\u001b[0m\u001b[1;33m\u001b[0m\u001b[1;33m\u001b[0m\u001b[0m\n\u001b[0;32m      3\u001b[0m \u001b[1;31m# We got a worng input by the user\u001b[0m\u001b[1;33m\u001b[0m\u001b[1;33m\u001b[0m\u001b[1;33m\u001b[0m\u001b[0m\n\u001b[0;32m      4\u001b[0m \u001b[0mprint\u001b[0m\u001b[1;33m(\u001b[0m\u001b[1;34m\"Bye\"\u001b[0m\u001b[1;33m)\u001b[0m\u001b[1;33m\u001b[0m\u001b[1;33m\u001b[0m\u001b[0m\n",
      "\u001b[1;31mValueError\u001b[0m: invalid literal for int() with base 10: 'hello'"
     ]
    }
   ],
   "source": [
    "a = int(input(\"Enter the value of A : \"))\n",
    "print(\"A : \",a)\n",
    "# We got a worng input by the user\n",
    "print(\"Bye\")"
   ]
  },
  {
   "cell_type": "code",
   "execution_count": 7,
   "id": "ffaf5708",
   "metadata": {},
   "outputs": [
    {
     "name": "stdout",
     "output_type": "stream",
     "text": [
      "Enter the value of A : 10\n",
      "Enter the value of B : 0\n"
     ]
    },
    {
     "ename": "ZeroDivisionError",
     "evalue": "division by zero",
     "output_type": "error",
     "traceback": [
      "\u001b[1;31m---------------------------------------------------------------------------\u001b[0m",
      "\u001b[1;31mZeroDivisionError\u001b[0m                         Traceback (most recent call last)",
      "\u001b[1;32m<ipython-input-7-dd964b5b4022>\u001b[0m in \u001b[0;36m<module>\u001b[1;34m\u001b[0m\n\u001b[0;32m      2\u001b[0m \u001b[0mb\u001b[0m \u001b[1;33m=\u001b[0m \u001b[0mint\u001b[0m\u001b[1;33m(\u001b[0m\u001b[0minput\u001b[0m\u001b[1;33m(\u001b[0m\u001b[1;34m\"Enter the value of B : \"\u001b[0m\u001b[1;33m)\u001b[0m\u001b[1;33m)\u001b[0m\u001b[1;33m\u001b[0m\u001b[1;33m\u001b[0m\u001b[0m\n\u001b[0;32m      3\u001b[0m \u001b[1;33m\u001b[0m\u001b[0m\n\u001b[1;32m----> 4\u001b[1;33m \u001b[0mc\u001b[0m \u001b[1;33m=\u001b[0m \u001b[0ma\u001b[0m\u001b[1;33m/\u001b[0m\u001b[0mb\u001b[0m\u001b[1;33m\u001b[0m\u001b[1;33m\u001b[0m\u001b[0m\n\u001b[0m\u001b[0;32m      5\u001b[0m \u001b[1;33m\u001b[0m\u001b[0m\n\u001b[0;32m      6\u001b[0m \u001b[0mprint\u001b[0m\u001b[1;33m(\u001b[0m\u001b[1;34m\"Answer : \"\u001b[0m\u001b[1;33m,\u001b[0m\u001b[0mc\u001b[0m\u001b[1;33m)\u001b[0m\u001b[1;33m\u001b[0m\u001b[1;33m\u001b[0m\u001b[0m\n",
      "\u001b[1;31mZeroDivisionError\u001b[0m: division by zero"
     ]
    }
   ],
   "source": [
    "a = int(input(\"Enter the value of A : \"))\n",
    "b = int(input(\"Enter the value of B : \"))\n",
    "\n",
    "c = a/b # Exception occur on runtime because division by zero\n",
    "\n",
    "print(\"Answer : \",c)\n",
    "\n",
    "print(\"Bye\")"
   ]
  },
  {
   "cell_type": "code",
   "execution_count": 10,
   "id": "7661def5",
   "metadata": {},
   "outputs": [
    {
     "name": "stdout",
     "output_type": "stream",
     "text": [
      "Enter the value of A : 10\n",
      "Enter the value of B : 0\n",
      "Exception Caught :  division by zero\n",
      "Bye\n"
     ]
    }
   ],
   "source": [
    "try:\n",
    "# The code which is written try block can be occur error at runtime\n",
    "    a = int(input(\"Enter the value of A : \"))\n",
    "    b = int(input(\"Enter the value of B : \"))\n",
    "\n",
    "    c = a/b \n",
    "\n",
    "    print(\"Answer : \",c)\n",
    "except Exception as e:\n",
    "    # This block will run when exception occur\n",
    "    print(\"Exception Caught : \",e)\n",
    "\n",
    "print(\"Bye\")"
   ]
  },
  {
   "cell_type": "markdown",
   "id": "b806d435",
   "metadata": {},
   "source": [
    "# Many Exception"
   ]
  },
  {
   "cell_type": "code",
   "execution_count": 12,
   "id": "5729b40a",
   "metadata": {},
   "outputs": [
    {
     "name": "stdout",
     "output_type": "stream",
     "text": [
      "Variable is not define\n"
     ]
    }
   ],
   "source": [
    "try:\n",
    "    # We have not define variable X\n",
    "    print(x)\n",
    "except NameError:\n",
    "    print(\"Variable is not define\")\n",
    "except:\n",
    "    print(\"Exception Caught\")"
   ]
  },
  {
   "cell_type": "markdown",
   "id": "223b1afe",
   "metadata": {},
   "source": [
    "# How to use else with except"
   ]
  },
  {
   "cell_type": "code",
   "execution_count": 7,
   "id": "7d6d9992",
   "metadata": {},
   "outputs": [
    {
     "name": "stdout",
     "output_type": "stream",
     "text": [
      "Something went worng\n"
     ]
    }
   ],
   "source": [
    "try:\n",
    "#     print(\"Hello\")\n",
    "    print(x)\n",
    "except:\n",
    "    print(\"Something went worng\")\n",
    "else:\n",
    "    print(\"Nothing went worng\")\n"
   ]
  },
  {
   "cell_type": "code",
   "execution_count": 8,
   "id": "3e39d01c",
   "metadata": {},
   "outputs": [
    {
     "name": "stdout",
     "output_type": "stream",
     "text": [
      "1\n",
      "Nothing went worng\n"
     ]
    }
   ],
   "source": [
    "try:\n",
    "#     print(\"Hello\")\n",
    "    x=1\n",
    "    print(x)\n",
    "except:\n",
    "    print(\"Something went worng\")\n",
    "else:\n",
    "    print(\"Nothing went worng\")"
   ]
  },
  {
   "cell_type": "markdown",
   "id": "68d16245",
   "metadata": {},
   "source": [
    "# Finally Block"
   ]
  },
  {
   "cell_type": "code",
   "execution_count": 18,
   "id": "af5b390b",
   "metadata": {},
   "outputs": [
    {
     "name": "stdout",
     "output_type": "stream",
     "text": [
      "Something went worng\n",
      "Finally Block\n"
     ]
    }
   ],
   "source": [
    "# the block which run compulsory if error occurs or not\n",
    "try:\n",
    "#     print(\"Hello\")\n",
    "    print(x)\n",
    "except:\n",
    "    print(\"Something went worng\")\n",
    "finally:\n",
    "    print(\"Finally Block\")"
   ]
  },
  {
   "cell_type": "markdown",
   "id": "4e7becdf",
   "metadata": {},
   "source": [
    "# User Define Exception"
   ]
  },
  {
   "cell_type": "code",
   "execution_count": 13,
   "id": "e63668fc",
   "metadata": {},
   "outputs": [
    {
     "ename": "NameError",
     "evalue": "Something went wosdfdffdrng",
     "output_type": "error",
     "traceback": [
      "\u001b[1;31m---------------------------------------------------------------------------\u001b[0m",
      "\u001b[1;31mNameError\u001b[0m                                 Traceback (most recent call last)",
      "Input \u001b[1;32mIn [13]\u001b[0m, in \u001b[0;36m<cell line: 5>\u001b[1;34m()\u001b[0m\n\u001b[0;32m      4\u001b[0m c \u001b[38;5;241m=\u001b[39m \u001b[38;5;241m25\u001b[39m\n\u001b[0;32m      5\u001b[0m \u001b[38;5;28;01mif\u001b[39;00m c\u001b[38;5;241m>\u001b[39m\u001b[38;5;241m5\u001b[39m:\n\u001b[1;32m----> 6\u001b[0m     \u001b[38;5;28;01mraise\u001b[39;00m \u001b[38;5;167;01mNameError\u001b[39;00m(\u001b[38;5;124m\"\u001b[39m\u001b[38;5;124mSomething went wosdfdffdrng\u001b[39m\u001b[38;5;124m\"\u001b[39m)\n",
      "\u001b[1;31mNameError\u001b[0m: Something went wosdfdffdrng"
     ]
    }
   ],
   "source": [
    "class MyException(Exception):\n",
    "    pass\n",
    "\n",
    "c = 25\n",
    "if c>5:\n",
    "    raise NameError(\"Something went wosdfdrng\")"
   ]
  },
  {
   "cell_type": "code",
   "execution_count": null,
   "id": "920f2b2c",
   "metadata": {},
   "outputs": [],
   "source": []
  }
 ],
 "metadata": {
  "kernelspec": {
   "display_name": "Python 3 (ipykernel)",
   "language": "python",
   "name": "python3"
  },
  "language_info": {
   "codemirror_mode": {
    "name": "ipython",
    "version": 3
   },
   "file_extension": ".py",
   "mimetype": "text/x-python",
   "name": "python",
   "nbconvert_exporter": "python",
   "pygments_lexer": "ipython3",
   "version": "3.10.2"
  }
 },
 "nbformat": 4,
 "nbformat_minor": 5
}
