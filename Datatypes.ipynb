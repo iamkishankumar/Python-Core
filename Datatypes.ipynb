{
 "cells": [
  {
   "cell_type": "markdown",
   "id": "3e3e096c",
   "metadata": {},
   "source": [
    "# Numeric Datatype"
   ]
  },
  {
   "cell_type": "code",
   "execution_count": 4,
   "id": "cc689e18",
   "metadata": {},
   "outputs": [
    {
     "name": "stdout",
     "output_type": "stream",
     "text": [
      "<class 'int'>\n",
      "<class 'float'>\n",
      "<class 'complex'>\n"
     ]
    }
   ],
   "source": [
    "# Int Datatype\n",
    "a = 10\n",
    "print(type(a))\n",
    "\n",
    "# Float Datatype\n",
    "b = 10.5\n",
    "print(type(b))\n",
    "\n",
    "# Complex Datatype\n",
    "c = 2+4j\n",
    "print(type(c))"
   ]
  },
  {
   "cell_type": "markdown",
   "id": "de2c1e5b",
   "metadata": {},
   "source": [
    "# Boolean Datatype"
   ]
  },
  {
   "cell_type": "code",
   "execution_count": 7,
   "id": "43575d1c",
   "metadata": {},
   "outputs": [
    {
     "name": "stdout",
     "output_type": "stream",
     "text": [
      "<class 'bool'>\n",
      "<class 'bool'>\n"
     ]
    }
   ],
   "source": [
    "d = True\n",
    "print(type(d))\n",
    "\n",
    "e = False\n",
    "print(type(e))"
   ]
  },
  {
   "cell_type": "markdown",
   "id": "0837f5bf",
   "metadata": {},
   "source": [
    "# Set Datatype"
   ]
  },
  {
   "cell_type": "code",
   "execution_count": 9,
   "id": "bc6be885",
   "metadata": {},
   "outputs": [
    {
     "name": "stdout",
     "output_type": "stream",
     "text": [
      "<class 'set'>\n"
     ]
    }
   ],
   "source": [
    "f = {'a','b''c'}\n",
    "print(type(f))"
   ]
  },
  {
   "cell_type": "markdown",
   "id": "f1dc9b09",
   "metadata": {},
   "source": [
    "# Dictionary Datatype"
   ]
  },
  {
   "cell_type": "code",
   "execution_count": 11,
   "id": "debdad1c",
   "metadata": {},
   "outputs": [
    {
     "name": "stdout",
     "output_type": "stream",
     "text": [
      "<class 'dict'>\n"
     ]
    }
   ],
   "source": [
    "x = {\"Key\":\"Value\"}\n",
    "print(type(x))"
   ]
  },
  {
   "cell_type": "markdown",
   "id": "31e50a4d",
   "metadata": {},
   "source": [
    "# Sequence Datatype"
   ]
  },
  {
   "cell_type": "code",
   "execution_count": 14,
   "id": "8c33cb8a",
   "metadata": {},
   "outputs": [
    {
     "name": "stdout",
     "output_type": "stream",
     "text": [
      "<class 'list'>\n",
      "<class 'str'>\n",
      "<class 'tuple'>\n"
     ]
    }
   ],
   "source": [
    "# List Datatype\n",
    "l1 = [1,2,3,4,5]\n",
    "print(type(l1))\n",
    "\n",
    "# String Datatype\n",
    "y = \"Python Program\"\n",
    "print(type(y))\n",
    "\n",
    "# Tuple Datatype\n",
    "z = (1,2,3,4,5)\n",
    "print(type(z))"
   ]
  }
 ],
 "metadata": {
  "kernelspec": {
   "display_name": "Python 3",
   "language": "python",
   "name": "python3"
  },
  "language_info": {
   "codemirror_mode": {
    "name": "ipython",
    "version": 3
   },
   "file_extension": ".py",
   "mimetype": "text/x-python",
   "name": "python",
   "nbconvert_exporter": "python",
   "pygments_lexer": "ipython3",
   "version": "3.9.5"
  }
 },
 "nbformat": 4,
 "nbformat_minor": 5
}
