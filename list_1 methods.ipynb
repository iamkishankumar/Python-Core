{
 "cells": [
  {
   "cell_type": "code",
   "execution_count": 1,
   "id": "5d179bee",
   "metadata": {},
   "outputs": [],
   "source": [
    "l1 = [1,2,3,4,5,6,\"aman\",\"kumar\",[7,8,9]]"
   ]
  },
  {
   "cell_type": "markdown",
   "id": "9bab1234",
   "metadata": {},
   "source": [
    "# list.append()"
   ]
  },
  {
   "cell_type": "code",
   "execution_count": 2,
   "id": "d975fb74",
   "metadata": {},
   "outputs": [],
   "source": [
    "l1.append(10) "
   ]
  },
  {
   "cell_type": "code",
   "execution_count": 4,
   "id": "7853e9cd",
   "metadata": {},
   "outputs": [
    {
     "name": "stdout",
     "output_type": "stream",
     "text": [
      "[1, 2, 3, 4, 5, 6, 'aman', 'kumar', [7, 8, 9], 10]\n"
     ]
    }
   ],
   "source": [
    "print(l1)"
   ]
  },
  {
   "cell_type": "code",
   "execution_count": 5,
   "id": "910fdd6a",
   "metadata": {},
   "outputs": [],
   "source": [
    "l2=[3,4,5,6]"
   ]
  },
  {
   "cell_type": "code",
   "execution_count": 6,
   "id": "8aa12ac2",
   "metadata": {},
   "outputs": [],
   "source": [
    "l1.append(l2)"
   ]
  },
  {
   "cell_type": "code",
   "execution_count": 7,
   "id": "694265f2",
   "metadata": {},
   "outputs": [
    {
     "data": {
      "text/plain": [
       "[1, 2, 3, 4, 5, 6, 'aman', 'kumar', [7, 8, 9], 10, [3, 4, 5, 6]]"
      ]
     },
     "execution_count": 7,
     "metadata": {},
     "output_type": "execute_result"
    }
   ],
   "source": [
    "l1"
   ]
  },
  {
   "cell_type": "code",
   "execution_count": 8,
   "id": "b23cae6e",
   "metadata": {},
   "outputs": [
    {
     "ename": "TypeError",
     "evalue": "list.append() takes exactly one argument (2 given)",
     "output_type": "error",
     "traceback": [
      "\u001b[1;31m---------------------------------------------------------------------------\u001b[0m",
      "\u001b[1;31mTypeError\u001b[0m                                 Traceback (most recent call last)",
      "Input \u001b[1;32mIn [8]\u001b[0m, in \u001b[0;36m<cell line: 1>\u001b[1;34m()\u001b[0m\n\u001b[1;32m----> 1\u001b[0m \u001b[43ml1\u001b[49m\u001b[38;5;241;43m.\u001b[39;49m\u001b[43mappend\u001b[49m\u001b[43m(\u001b[49m\u001b[38;5;241;43m12\u001b[39;49m\u001b[43m,\u001b[49m\u001b[38;5;241;43m23\u001b[39;49m\u001b[43m)\u001b[49m\n",
      "\u001b[1;31mTypeError\u001b[0m: list.append() takes exactly one argument (2 given)"
     ]
    }
   ],
   "source": [
    "l1.append(12,23)"
   ]
  },
  {
   "cell_type": "markdown",
   "id": "8d06ca49",
   "metadata": {},
   "source": [
    "it means append method add only 1 value or 1 list because it has only parameters"
   ]
  },
  {
   "cell_type": "markdown",
   "id": "9dddbc47",
   "metadata": {},
   "source": [
    "#"
   ]
  },
  {
   "cell_type": "markdown",
   "id": "804c37a3",
   "metadata": {},
   "source": [
    "# list.clear()"
   ]
  },
  {
   "cell_type": "code",
   "execution_count": 9,
   "id": "49c64428",
   "metadata": {},
   "outputs": [],
   "source": [
    "l1.clear()"
   ]
  },
  {
   "cell_type": "code",
   "execution_count": 10,
   "id": "7ede9402",
   "metadata": {},
   "outputs": [
    {
     "data": {
      "text/plain": [
       "[]"
      ]
     },
     "execution_count": 10,
     "metadata": {},
     "output_type": "execute_result"
    }
   ],
   "source": [
    "l1"
   ]
  },
  {
   "cell_type": "markdown",
   "id": "95f7272e",
   "metadata": {},
   "source": [
    "it means clear method delete all items in a particular list"
   ]
  },
  {
   "cell_type": "markdown",
   "id": "27056516",
   "metadata": {},
   "source": [
    "#"
   ]
  },
  {
   "cell_type": "markdown",
   "id": "5a75c320",
   "metadata": {},
   "source": [
    "# list.copy()"
   ]
  },
  {
   "cell_type": "code",
   "execution_count": 11,
   "id": "1a6265a9",
   "metadata": {},
   "outputs": [],
   "source": [
    "l1 = l2.copy()"
   ]
  },
  {
   "cell_type": "code",
   "execution_count": 12,
   "id": "1da4aa0b",
   "metadata": {},
   "outputs": [
    {
     "data": {
      "text/plain": [
       "[3, 4, 5, 6]"
      ]
     },
     "execution_count": 12,
     "metadata": {},
     "output_type": "execute_result"
    }
   ],
   "source": [
    "l1"
   ]
  },
  {
   "cell_type": "code",
   "execution_count": 13,
   "id": "d262c96b",
   "metadata": {},
   "outputs": [
    {
     "data": {
      "text/plain": [
       "[3, 4, 5, 6]"
      ]
     },
     "execution_count": 13,
     "metadata": {},
     "output_type": "execute_result"
    }
   ],
   "source": [
    "l2"
   ]
  },
  {
   "cell_type": "markdown",
   "id": "cf43f594",
   "metadata": {},
   "source": [
    "it means copy method takes all items in other list"
   ]
  },
  {
   "cell_type": "markdown",
   "id": "20cf76da",
   "metadata": {},
   "source": [
    "#"
   ]
  },
  {
   "cell_type": "markdown",
   "id": "589847af",
   "metadata": {},
   "source": [
    "# list.count()"
   ]
  },
  {
   "cell_type": "code",
   "execution_count": 17,
   "id": "5d599ef9",
   "metadata": {},
   "outputs": [],
   "source": [
    "l1=[1,2,3,4,5,\"aman\",3,4,5,2,\"kumar\",6,7,8]"
   ]
  },
  {
   "cell_type": "code",
   "execution_count": 19,
   "id": "1551f3d0",
   "metadata": {},
   "outputs": [
    {
     "data": {
      "text/plain": [
       "2"
      ]
     },
     "execution_count": 19,
     "metadata": {},
     "output_type": "execute_result"
    }
   ],
   "source": [
    "l1.count(3)"
   ]
  },
  {
   "cell_type": "markdown",
   "id": "b96c70af",
   "metadata": {},
   "source": [
    "it means count methods count a value form a particular list"
   ]
  },
  {
   "cell_type": "markdown",
   "id": "5cc5402a",
   "metadata": {},
   "source": [
    "#"
   ]
  },
  {
   "cell_type": "markdown",
   "id": "8f0a38d4",
   "metadata": {},
   "source": [
    "# list.extend()"
   ]
  },
  {
   "cell_type": "code",
   "execution_count": 22,
   "id": "3926acdd",
   "metadata": {},
   "outputs": [
    {
     "ename": "TypeError",
     "evalue": "'int' object is not iterable",
     "output_type": "error",
     "traceback": [
      "\u001b[1;31m---------------------------------------------------------------------------\u001b[0m",
      "\u001b[1;31mTypeError\u001b[0m                                 Traceback (most recent call last)",
      "Input \u001b[1;32mIn [22]\u001b[0m, in \u001b[0;36m<cell line: 1>\u001b[1;34m()\u001b[0m\n\u001b[1;32m----> 1\u001b[0m \u001b[43ml1\u001b[49m\u001b[38;5;241;43m.\u001b[39;49m\u001b[43mextend\u001b[49m\u001b[43m(\u001b[49m\u001b[38;5;241;43m2\u001b[39;49m\u001b[43m)\u001b[49m\n",
      "\u001b[1;31mTypeError\u001b[0m: 'int' object is not iterable"
     ]
    }
   ],
   "source": [
    "l1.extend(2)"
   ]
  },
  {
   "cell_type": "code",
   "execution_count": 20,
   "id": "94884dd5",
   "metadata": {},
   "outputs": [],
   "source": [
    "s = \"akash\",\"thakur\"\n",
    "l1.extend(s)"
   ]
  },
  {
   "cell_type": "code",
   "execution_count": 21,
   "id": "09bd6d59",
   "metadata": {},
   "outputs": [
    {
     "data": {
      "text/plain": [
       "[1, 2, 3, 4, 5, 'aman', 3, 4, 5, 2, 'kumar', 6, 7, 8, 'akash', 'thakur']"
      ]
     },
     "execution_count": 21,
     "metadata": {},
     "output_type": "execute_result"
    }
   ],
   "source": [
    "l1"
   ]
  },
  {
   "cell_type": "markdown",
   "id": "6aa1d89e",
   "metadata": {},
   "source": [
    "it means extend method appned only iterble values like tuple,string,list. "
   ]
  },
  {
   "cell_type": "markdown",
   "id": "ccdb0a89",
   "metadata": {},
   "source": [
    "#"
   ]
  },
  {
   "cell_type": "markdown",
   "id": "05b4bc08",
   "metadata": {},
   "source": [
    "# list.index()"
   ]
  },
  {
   "cell_type": "code",
   "execution_count": 24,
   "id": "338c8eae",
   "metadata": {},
   "outputs": [
    {
     "data": {
      "text/plain": [
       "5"
      ]
     },
     "execution_count": 24,
     "metadata": {},
     "output_type": "execute_result"
    }
   ],
   "source": [
    "l1.index(\"aman\")"
   ]
  },
  {
   "cell_type": "markdown",
   "id": "8c52bd1c",
   "metadata": {},
   "source": [
    "it means index method return index position from a particular list of a value."
   ]
  },
  {
   "cell_type": "markdown",
   "id": "15ccc9f9",
   "metadata": {},
   "source": [
    "#"
   ]
  },
  {
   "cell_type": "markdown",
   "id": "4f3dae3f",
   "metadata": {},
   "source": [
    "# list.insert()"
   ]
  },
  {
   "cell_type": "code",
   "execution_count": 32,
   "id": "25f7cf1c",
   "metadata": {
    "scrolled": true
   },
   "outputs": [],
   "source": [
    "l1.insert(6,\"raju\") "
   ]
  },
  {
   "cell_type": "code",
   "execution_count": 34,
   "id": "0899e4d9",
   "metadata": {},
   "outputs": [
    {
     "name": "stdout",
     "output_type": "stream",
     "text": [
      "[1, 2, 3, 4, 5, 'aman', 'raju', 3, 4, 5, 2, 'kumar', 6, 7, 8, 'akash', 'thakur']\n"
     ]
    }
   ],
   "source": [
    "print(l1)"
   ]
  },
  {
   "cell_type": "code",
   "execution_count": 35,
   "id": "df43abc9",
   "metadata": {},
   "outputs": [],
   "source": [
    "l1.insert(0,0)"
   ]
  },
  {
   "cell_type": "code",
   "execution_count": 37,
   "id": "feda2be2",
   "metadata": {},
   "outputs": [
    {
     "name": "stdout",
     "output_type": "stream",
     "text": [
      "[0, 1, 2, 3, 4, 5, 'aman', 'raju', 3, 4, 5, 2, 'kumar', 6, 7, 8, 'akash', 'thakur']\n"
     ]
    }
   ],
   "source": [
    "print(l1)"
   ]
  },
  {
   "cell_type": "markdown",
   "id": "f8809602",
   "metadata": {},
   "source": [
    "it means insert method append a value from a list at a particular index position       l1.insert(index position, value)"
   ]
  },
  {
   "cell_type": "markdown",
   "id": "4dab9dd5",
   "metadata": {},
   "source": [
    "#"
   ]
  },
  {
   "cell_type": "markdown",
   "id": "2089867c",
   "metadata": {},
   "source": [
    "# list.pop()"
   ]
  },
  {
   "cell_type": "code",
   "execution_count": 39,
   "id": "f8dbb243",
   "metadata": {},
   "outputs": [
    {
     "data": {
      "text/plain": [
       "'thakur'"
      ]
     },
     "execution_count": 39,
     "metadata": {},
     "output_type": "execute_result"
    }
   ],
   "source": [
    "l1.pop()"
   ]
  },
  {
   "cell_type": "code",
   "execution_count": 40,
   "id": "519f468d",
   "metadata": {},
   "outputs": [
    {
     "data": {
      "text/plain": [
       "[0, 1, 2, 3, 4, 5, 'aman', 'raju', 3, 4, 5, 2, 'kumar', 6, 7, 8, 'akash']"
      ]
     },
     "execution_count": 40,
     "metadata": {},
     "output_type": "execute_result"
    }
   ],
   "source": [
    "l1"
   ]
  },
  {
   "cell_type": "markdown",
   "id": "adf69be8",
   "metadata": {},
   "source": [
    "by deafult it delete  last value from a list but you want to delete another index position value so you can give the index = index position in a parameter of pop method"
   ]
  },
  {
   "cell_type": "code",
   "execution_count": 41,
   "id": "7a837622",
   "metadata": {},
   "outputs": [
    {
     "data": {
      "text/plain": [
       "0"
      ]
     },
     "execution_count": 41,
     "metadata": {},
     "output_type": "execute_result"
    }
   ],
   "source": [
    "l1.pop(0)"
   ]
  },
  {
   "cell_type": "code",
   "execution_count": 42,
   "id": "6c9289ad",
   "metadata": {},
   "outputs": [
    {
     "data": {
      "text/plain": [
       "[1, 2, 3, 4, 5, 'aman', 'raju', 3, 4, 5, 2, 'kumar', 6, 7, 8, 'akash']"
      ]
     },
     "execution_count": 42,
     "metadata": {},
     "output_type": "execute_result"
    }
   ],
   "source": [
    "l1"
   ]
  },
  {
   "cell_type": "markdown",
   "id": "e7b3e718",
   "metadata": {},
   "source": [
    "like this"
   ]
  },
  {
   "cell_type": "markdown",
   "id": "4319ddde",
   "metadata": {},
   "source": [
    "#"
   ]
  },
  {
   "cell_type": "markdown",
   "id": "c105adad",
   "metadata": {},
   "source": [
    "# list.remove()"
   ]
  },
  {
   "cell_type": "code",
   "execution_count": 43,
   "id": "99113752",
   "metadata": {},
   "outputs": [
    {
     "ename": "TypeError",
     "evalue": "list.remove() takes exactly one argument (0 given)",
     "output_type": "error",
     "traceback": [
      "\u001b[1;31m---------------------------------------------------------------------------\u001b[0m",
      "\u001b[1;31mTypeError\u001b[0m                                 Traceback (most recent call last)",
      "Input \u001b[1;32mIn [43]\u001b[0m, in \u001b[0;36m<cell line: 1>\u001b[1;34m()\u001b[0m\n\u001b[1;32m----> 1\u001b[0m \u001b[43ml1\u001b[49m\u001b[38;5;241;43m.\u001b[39;49m\u001b[43mremove\u001b[49m\u001b[43m(\u001b[49m\u001b[43m)\u001b[49m\n",
      "\u001b[1;31mTypeError\u001b[0m: list.remove() takes exactly one argument (0 given)"
     ]
    }
   ],
   "source": [
    "l1.remove()"
   ]
  },
  {
   "cell_type": "code",
   "execution_count": 44,
   "id": "6370eca3",
   "metadata": {},
   "outputs": [],
   "source": [
    "l1.remove(2)"
   ]
  },
  {
   "cell_type": "code",
   "execution_count": 45,
   "id": "05f3a883",
   "metadata": {},
   "outputs": [
    {
     "data": {
      "text/plain": [
       "[1, 3, 4, 5, 'aman', 'raju', 3, 4, 5, 2, 'kumar', 6, 7, 8, 'akash']"
      ]
     },
     "execution_count": 45,
     "metadata": {},
     "output_type": "execute_result"
    }
   ],
   "source": [
    "l1"
   ]
  },
  {
   "cell_type": "markdown",
   "id": "47978536",
   "metadata": {},
   "source": [
    "it means remove method delete a value which is you want to delete from a list "
   ]
  },
  {
   "cell_type": "markdown",
   "id": "4e5c9942",
   "metadata": {},
   "source": [
    "#"
   ]
  },
  {
   "cell_type": "markdown",
   "id": "86fd09dd",
   "metadata": {},
   "source": [
    "# list.reverse()"
   ]
  },
  {
   "cell_type": "code",
   "execution_count": 46,
   "id": "9981a0e6",
   "metadata": {},
   "outputs": [],
   "source": [
    "l1.reverse()"
   ]
  },
  {
   "cell_type": "code",
   "execution_count": 47,
   "id": "480ac87b",
   "metadata": {},
   "outputs": [
    {
     "data": {
      "text/plain": [
       "['akash', 8, 7, 6, 'kumar', 2, 5, 4, 3, 'raju', 'aman', 5, 4, 3, 1]"
      ]
     },
     "execution_count": 47,
     "metadata": {},
     "output_type": "execute_result"
    }
   ],
   "source": [
    "l1"
   ]
  },
  {
   "cell_type": "markdown",
   "id": "fec3ec70",
   "metadata": {},
   "source": [
    "it means reverse method reverse all items in a list"
   ]
  },
  {
   "cell_type": "markdown",
   "id": "ee2f192a",
   "metadata": {},
   "source": [
    "#"
   ]
  },
  {
   "cell_type": "markdown",
   "id": "2c69530a",
   "metadata": {},
   "source": [
    "# list.sort()"
   ]
  },
  {
   "cell_type": "code",
   "execution_count": 48,
   "id": "44dfd46a",
   "metadata": {},
   "outputs": [
    {
     "ename": "TypeError",
     "evalue": "'<' not supported between instances of 'int' and 'str'",
     "output_type": "error",
     "traceback": [
      "\u001b[1;31m---------------------------------------------------------------------------\u001b[0m",
      "\u001b[1;31mTypeError\u001b[0m                                 Traceback (most recent call last)",
      "Input \u001b[1;32mIn [48]\u001b[0m, in \u001b[0;36m<cell line: 1>\u001b[1;34m()\u001b[0m\n\u001b[1;32m----> 1\u001b[0m \u001b[43ml1\u001b[49m\u001b[38;5;241;43m.\u001b[39;49m\u001b[43msort\u001b[49m\u001b[43m(\u001b[49m\u001b[43m)\u001b[49m\n",
      "\u001b[1;31mTypeError\u001b[0m: '<' not supported between instances of 'int' and 'str'"
     ]
    }
   ],
   "source": [
    "l1.sort()"
   ]
  },
  {
   "cell_type": "code",
   "execution_count": 49,
   "id": "d204ea3d",
   "metadata": {},
   "outputs": [
    {
     "data": {
      "text/plain": [
       "['akash', 8, 7, 6, 'kumar', 2, 5, 4, 3, 'raju', 'aman', 5, 4, 3, 1]"
      ]
     },
     "execution_count": 49,
     "metadata": {},
     "output_type": "execute_result"
    }
   ],
   "source": [
    "l1"
   ]
  },
  {
   "cell_type": "markdown",
   "id": "a2f5cb39",
   "metadata": {},
   "source": [
    "if i want to sort my all values so i shall have to delete strings values form this list "
   ]
  },
  {
   "cell_type": "code",
   "execution_count": 62,
   "id": "0a14c838",
   "metadata": {},
   "outputs": [
    {
     "name": "stdout",
     "output_type": "stream",
     "text": [
      "[8, 7, 6, 2, 5, 4, 3, 5, 4, 3, 1]\n"
     ]
    }
   ],
   "source": [
    "l2=[]\n",
    "for i in l1:\n",
    "    if type(i) ==int:\n",
    "        l2.append(i)\n",
    "print(l2)"
   ]
  },
  {
   "cell_type": "code",
   "execution_count": 63,
   "id": "68157d0c",
   "metadata": {},
   "outputs": [],
   "source": [
    "l2.sort()"
   ]
  },
  {
   "cell_type": "code",
   "execution_count": 64,
   "id": "1e6f957c",
   "metadata": {},
   "outputs": [
    {
     "data": {
      "text/plain": [
       "[1, 2, 3, 3, 4, 4, 5, 5, 6, 7, 8]"
      ]
     },
     "execution_count": 64,
     "metadata": {},
     "output_type": "execute_result"
    }
   ],
   "source": [
    "l2"
   ]
  },
  {
   "cell_type": "markdown",
   "id": "77408ea3",
   "metadata": {},
   "source": [
    "if i want to sort it in desending order so"
   ]
  },
  {
   "cell_type": "code",
   "execution_count": 65,
   "id": "8c011874",
   "metadata": {},
   "outputs": [],
   "source": [
    "l2.sort(reverse=True)"
   ]
  },
  {
   "cell_type": "code",
   "execution_count": 66,
   "id": "c83c2f5b",
   "metadata": {},
   "outputs": [
    {
     "data": {
      "text/plain": [
       "[8, 7, 6, 5, 5, 4, 4, 3, 3, 2, 1]"
      ]
     },
     "execution_count": 66,
     "metadata": {},
     "output_type": "execute_result"
    }
   ],
   "source": [
    "l2"
   ]
  },
  {
   "cell_type": "code",
   "execution_count": 67,
   "id": "38809ec8",
   "metadata": {},
   "outputs": [],
   "source": [
    "l3=[\"aman\",\"kumar\",\"rahul\",\"singh\"]"
   ]
  },
  {
   "cell_type": "code",
   "execution_count": 68,
   "id": "bc2ec164",
   "metadata": {},
   "outputs": [],
   "source": [
    "l3.sort()"
   ]
  },
  {
   "cell_type": "code",
   "execution_count": 69,
   "id": "3a418861",
   "metadata": {},
   "outputs": [
    {
     "data": {
      "text/plain": [
       "['aman', 'kumar', 'rahul', 'singh']"
      ]
     },
     "execution_count": 69,
     "metadata": {},
     "output_type": "execute_result"
    }
   ],
   "source": [
    "l3"
   ]
  },
  {
   "cell_type": "markdown",
   "id": "9b2ae103",
   "metadata": {},
   "source": [
    "it means sort method sort values in a particular list but in a list should have same data type"
   ]
  },
  {
   "cell_type": "code",
   "execution_count": null,
   "id": "9bd0c156",
   "metadata": {},
   "outputs": [],
   "source": []
  },
  {
   "cell_type": "markdown",
   "id": "607501ea",
   "metadata": {},
   "source": [
    "# Thanks For Watching List Methods"
   ]
  },
  {
   "cell_type": "code",
   "execution_count": null,
   "id": "70df9a64",
   "metadata": {},
   "outputs": [],
   "source": []
  }
 ],
 "metadata": {
  "kernelspec": {
   "display_name": "Python 3 (ipykernel)",
   "language": "python",
   "name": "python3"
  },
  "language_info": {
   "codemirror_mode": {
    "name": "ipython",
    "version": 3
   },
   "file_extension": ".py",
   "mimetype": "text/x-python",
   "name": "python",
   "nbconvert_exporter": "python",
   "pygments_lexer": "ipython3",
   "version": "3.10.2"
  }
 },
 "nbformat": 4,
 "nbformat_minor": 5
}
